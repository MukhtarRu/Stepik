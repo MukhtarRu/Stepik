{
 "nbformat": 4,
 "nbformat_minor": 0,
 "metadata": {
  "language_info": {
   "codemirror_mode": {
    "name": "ipython",
    "version": 2
   },
   "file_extension": ".py",
   "mimetype": "text/x-python",
   "name": "python",
   "nbconvert_exporter": "python",
   "pygments_lexer": "ipython2",
   "version": "2.7.6"
  },
  "kernelspec": {
   "name": "python3",
   "language": "python",
   "display_name": "Python 3"
  },
  "pycharm": {
   "stem_cell": {
    "cell_type": "raw",
    "source": [],
    "metadata": {
     "collapsed": false
    }
   }
  },
  "colab": {
   "name": "Введение в Data Science и машинное обучение.ipynb",
   "provenance": [],
   "collapsed_sections": []
  }
 },
 "cells": [
  {
   "cell_type": "code",
   "metadata": {
    "pycharm": {
     "name": "#%%\n",
     "is_executing": false
    },
    "id": "1GSR2aZO-9w3",
    "colab_type": "code",
    "outputId": "f70fc135-1a09-44b5-f791-9a9e88b5ba4c",
    "colab": {
     "base_uri": "https://localhost:8080/",
     "height": 1000
    }
   },
   "source": [
    "import pandas as pd\n",
    "import numpy as np\n",
    "# student_performance = pd.read_csv('C:/Users/wwpei/PycharmProjects/untitled2/Stepic/StudentsPerformance.csv')\n",
    "student_performance = pd.read_csv('https://stepik.org/media/attachments/course/4852/StudentsPerformance.csv')\n",
    "student_performance"
   ],
   "execution_count": 5,
   "outputs": [
    {
     "data": {
      "text/plain": "     gender race/ethnicity parental level of education         lunch  \\\n0    female        group B           bachelor's degree      standard   \n1    female        group C                some college      standard   \n2    female        group B             master's degree      standard   \n3      male        group A          associate's degree  free/reduced   \n4      male        group C                some college      standard   \n5    female        group B          associate's degree      standard   \n6    female        group B                some college      standard   \n7      male        group B                some college  free/reduced   \n8      male        group D                 high school  free/reduced   \n9    female        group B                 high school  free/reduced   \n10     male        group C          associate's degree      standard   \n11     male        group D          associate's degree      standard   \n12   female        group B                 high school      standard   \n13     male        group A                some college      standard   \n14   female        group A             master's degree      standard   \n15   female        group C            some high school      standard   \n16     male        group C                 high school      standard   \n17   female        group B            some high school  free/reduced   \n18     male        group C             master's degree  free/reduced   \n19   female        group C          associate's degree  free/reduced   \n20     male        group D                 high school      standard   \n21   female        group B                some college  free/reduced   \n22     male        group D                some college      standard   \n23   female        group C            some high school      standard   \n24     male        group D           bachelor's degree  free/reduced   \n25     male        group A             master's degree  free/reduced   \n26     male        group B                some college      standard   \n27   female        group C           bachelor's degree      standard   \n28     male        group C                 high school      standard   \n29   female        group D             master's degree      standard   \n..      ...            ...                         ...           ...   \n970  female        group D           bachelor's degree      standard   \n971    male        group C            some high school      standard   \n972  female        group A                 high school  free/reduced   \n973  female        group D                some college  free/reduced   \n974  female        group A                some college      standard   \n975  female        group C                some college      standard   \n976    male        group B                some college  free/reduced   \n977    male        group C          associate's degree      standard   \n978    male        group D                 high school      standard   \n979  female        group C          associate's degree      standard   \n980  female        group B                 high school  free/reduced   \n981    male        group D            some high school      standard   \n982    male        group B            some high school      standard   \n983  female        group A                some college      standard   \n984  female        group C            some high school      standard   \n985    male        group A                 high school      standard   \n986  female        group C          associate's degree      standard   \n987    male        group E            some high school      standard   \n988  female        group A            some high school  free/reduced   \n989  female        group D                some college  free/reduced   \n990    male        group E                 high school  free/reduced   \n991  female        group B            some high school      standard   \n992  female        group D          associate's degree  free/reduced   \n993  female        group D           bachelor's degree  free/reduced   \n994    male        group A                 high school      standard   \n995  female        group E             master's degree      standard   \n996    male        group C                 high school  free/reduced   \n997  female        group C                 high school  free/reduced   \n998  female        group D                some college      standard   \n999  female        group D                some college  free/reduced   \n\n    test preparation course  math score  reading score  writing score  \n0                      none          72             72             74  \n1                 completed          69             90             88  \n2                      none          90             95             93  \n3                      none          47             57             44  \n4                      none          76             78             75  \n5                      none          71             83             78  \n6                 completed          88             95             92  \n7                      none          40             43             39  \n8                 completed          64             64             67  \n9                      none          38             60             50  \n10                     none          58             54             52  \n11                     none          40             52             43  \n12                     none          65             81             73  \n13                completed          78             72             70  \n14                     none          50             53             58  \n15                     none          69             75             78  \n16                     none          88             89             86  \n17                     none          18             32             28  \n18                completed          46             42             46  \n19                     none          54             58             61  \n20                     none          66             69             63  \n21                completed          65             75             70  \n22                     none          44             54             53  \n23                     none          69             73             73  \n24                completed          74             71             80  \n25                     none          73             74             72  \n26                     none          69             54             55  \n27                     none          67             69             75  \n28                     none          70             70             65  \n29                     none          62             70             75  \n..                      ...         ...            ...            ...  \n970                    none          89            100            100  \n971               completed          78             72             69  \n972               completed          53             50             60  \n973                    none          49             65             61  \n974                    none          54             63             67  \n975               completed          64             82             77  \n976               completed          60             62             60  \n977                    none          62             65             58  \n978               completed          55             41             48  \n979                    none          91             95             94  \n980                    none           8             24             23  \n981                    none          81             78             78  \n982               completed          79             85             86  \n983               completed          78             87             91  \n984                    none          74             75             82  \n985                    none          57             51             54  \n986                    none          40             59             51  \n987               completed          81             75             76  \n988                    none          44             45             45  \n989               completed          67             86             83  \n990               completed          86             81             75  \n991               completed          65             82             78  \n992                    none          55             76             76  \n993                    none          62             72             74  \n994                    none          63             63             62  \n995               completed          88             99             95  \n996                    none          62             55             55  \n997               completed          59             71             65  \n998               completed          68             78             77  \n999                    none          77             86             86  \n\n[1000 rows x 8 columns]",
      "text/html": "<div>\n<style scoped>\n    .dataframe tbody tr th:only-of-type {\n        vertical-align: middle;\n    }\n\n    .dataframe tbody tr th {\n        vertical-align: top;\n    }\n\n    .dataframe thead th {\n        text-align: right;\n    }\n</style>\n<table border=\"1\" class=\"dataframe\">\n  <thead>\n    <tr style=\"text-align: right;\">\n      <th></th>\n      <th>gender</th>\n      <th>race/ethnicity</th>\n      <th>parental level of education</th>\n      <th>lunch</th>\n      <th>test preparation course</th>\n      <th>math score</th>\n      <th>reading score</th>\n      <th>writing score</th>\n    </tr>\n  </thead>\n  <tbody>\n    <tr>\n      <th>0</th>\n      <td>female</td>\n      <td>group B</td>\n      <td>bachelor's degree</td>\n      <td>standard</td>\n      <td>none</td>\n      <td>72</td>\n      <td>72</td>\n      <td>74</td>\n    </tr>\n    <tr>\n      <th>1</th>\n      <td>female</td>\n      <td>group C</td>\n      <td>some college</td>\n      <td>standard</td>\n      <td>completed</td>\n      <td>69</td>\n      <td>90</td>\n      <td>88</td>\n    </tr>\n    <tr>\n      <th>2</th>\n      <td>female</td>\n      <td>group B</td>\n      <td>master's degree</td>\n      <td>standard</td>\n      <td>none</td>\n      <td>90</td>\n      <td>95</td>\n      <td>93</td>\n    </tr>\n    <tr>\n      <th>3</th>\n      <td>male</td>\n      <td>group A</td>\n      <td>associate's degree</td>\n      <td>free/reduced</td>\n      <td>none</td>\n      <td>47</td>\n      <td>57</td>\n      <td>44</td>\n    </tr>\n    <tr>\n      <th>4</th>\n      <td>male</td>\n      <td>group C</td>\n      <td>some college</td>\n      <td>standard</td>\n      <td>none</td>\n      <td>76</td>\n      <td>78</td>\n      <td>75</td>\n    </tr>\n    <tr>\n      <th>5</th>\n      <td>female</td>\n      <td>group B</td>\n      <td>associate's degree</td>\n      <td>standard</td>\n      <td>none</td>\n      <td>71</td>\n      <td>83</td>\n      <td>78</td>\n    </tr>\n    <tr>\n      <th>6</th>\n      <td>female</td>\n      <td>group B</td>\n      <td>some college</td>\n      <td>standard</td>\n      <td>completed</td>\n      <td>88</td>\n      <td>95</td>\n      <td>92</td>\n    </tr>\n    <tr>\n      <th>7</th>\n      <td>male</td>\n      <td>group B</td>\n      <td>some college</td>\n      <td>free/reduced</td>\n      <td>none</td>\n      <td>40</td>\n      <td>43</td>\n      <td>39</td>\n    </tr>\n    <tr>\n      <th>8</th>\n      <td>male</td>\n      <td>group D</td>\n      <td>high school</td>\n      <td>free/reduced</td>\n      <td>completed</td>\n      <td>64</td>\n      <td>64</td>\n      <td>67</td>\n    </tr>\n    <tr>\n      <th>9</th>\n      <td>female</td>\n      <td>group B</td>\n      <td>high school</td>\n      <td>free/reduced</td>\n      <td>none</td>\n      <td>38</td>\n      <td>60</td>\n      <td>50</td>\n    </tr>\n    <tr>\n      <th>10</th>\n      <td>male</td>\n      <td>group C</td>\n      <td>associate's degree</td>\n      <td>standard</td>\n      <td>none</td>\n      <td>58</td>\n      <td>54</td>\n      <td>52</td>\n    </tr>\n    <tr>\n      <th>11</th>\n      <td>male</td>\n      <td>group D</td>\n      <td>associate's degree</td>\n      <td>standard</td>\n      <td>none</td>\n      <td>40</td>\n      <td>52</td>\n      <td>43</td>\n    </tr>\n    <tr>\n      <th>12</th>\n      <td>female</td>\n      <td>group B</td>\n      <td>high school</td>\n      <td>standard</td>\n      <td>none</td>\n      <td>65</td>\n      <td>81</td>\n      <td>73</td>\n    </tr>\n    <tr>\n      <th>13</th>\n      <td>male</td>\n      <td>group A</td>\n      <td>some college</td>\n      <td>standard</td>\n      <td>completed</td>\n      <td>78</td>\n      <td>72</td>\n      <td>70</td>\n    </tr>\n    <tr>\n      <th>14</th>\n      <td>female</td>\n      <td>group A</td>\n      <td>master's degree</td>\n      <td>standard</td>\n      <td>none</td>\n      <td>50</td>\n      <td>53</td>\n      <td>58</td>\n    </tr>\n    <tr>\n      <th>15</th>\n      <td>female</td>\n      <td>group C</td>\n      <td>some high school</td>\n      <td>standard</td>\n      <td>none</td>\n      <td>69</td>\n      <td>75</td>\n      <td>78</td>\n    </tr>\n    <tr>\n      <th>16</th>\n      <td>male</td>\n      <td>group C</td>\n      <td>high school</td>\n      <td>standard</td>\n      <td>none</td>\n      <td>88</td>\n      <td>89</td>\n      <td>86</td>\n    </tr>\n    <tr>\n      <th>17</th>\n      <td>female</td>\n      <td>group B</td>\n      <td>some high school</td>\n      <td>free/reduced</td>\n      <td>none</td>\n      <td>18</td>\n      <td>32</td>\n      <td>28</td>\n    </tr>\n    <tr>\n      <th>18</th>\n      <td>male</td>\n      <td>group C</td>\n      <td>master's degree</td>\n      <td>free/reduced</td>\n      <td>completed</td>\n      <td>46</td>\n      <td>42</td>\n      <td>46</td>\n    </tr>\n    <tr>\n      <th>19</th>\n      <td>female</td>\n      <td>group C</td>\n      <td>associate's degree</td>\n      <td>free/reduced</td>\n      <td>none</td>\n      <td>54</td>\n      <td>58</td>\n      <td>61</td>\n    </tr>\n    <tr>\n      <th>20</th>\n      <td>male</td>\n      <td>group D</td>\n      <td>high school</td>\n      <td>standard</td>\n      <td>none</td>\n      <td>66</td>\n      <td>69</td>\n      <td>63</td>\n    </tr>\n    <tr>\n      <th>21</th>\n      <td>female</td>\n      <td>group B</td>\n      <td>some college</td>\n      <td>free/reduced</td>\n      <td>completed</td>\n      <td>65</td>\n      <td>75</td>\n      <td>70</td>\n    </tr>\n    <tr>\n      <th>22</th>\n      <td>male</td>\n      <td>group D</td>\n      <td>some college</td>\n      <td>standard</td>\n      <td>none</td>\n      <td>44</td>\n      <td>54</td>\n      <td>53</td>\n    </tr>\n    <tr>\n      <th>23</th>\n      <td>female</td>\n      <td>group C</td>\n      <td>some high school</td>\n      <td>standard</td>\n      <td>none</td>\n      <td>69</td>\n      <td>73</td>\n      <td>73</td>\n    </tr>\n    <tr>\n      <th>24</th>\n      <td>male</td>\n      <td>group D</td>\n      <td>bachelor's degree</td>\n      <td>free/reduced</td>\n      <td>completed</td>\n      <td>74</td>\n      <td>71</td>\n      <td>80</td>\n    </tr>\n    <tr>\n      <th>25</th>\n      <td>male</td>\n      <td>group A</td>\n      <td>master's degree</td>\n      <td>free/reduced</td>\n      <td>none</td>\n      <td>73</td>\n      <td>74</td>\n      <td>72</td>\n    </tr>\n    <tr>\n      <th>26</th>\n      <td>male</td>\n      <td>group B</td>\n      <td>some college</td>\n      <td>standard</td>\n      <td>none</td>\n      <td>69</td>\n      <td>54</td>\n      <td>55</td>\n    </tr>\n    <tr>\n      <th>27</th>\n      <td>female</td>\n      <td>group C</td>\n      <td>bachelor's degree</td>\n      <td>standard</td>\n      <td>none</td>\n      <td>67</td>\n      <td>69</td>\n      <td>75</td>\n    </tr>\n    <tr>\n      <th>28</th>\n      <td>male</td>\n      <td>group C</td>\n      <td>high school</td>\n      <td>standard</td>\n      <td>none</td>\n      <td>70</td>\n      <td>70</td>\n      <td>65</td>\n    </tr>\n    <tr>\n      <th>29</th>\n      <td>female</td>\n      <td>group D</td>\n      <td>master's degree</td>\n      <td>standard</td>\n      <td>none</td>\n      <td>62</td>\n      <td>70</td>\n      <td>75</td>\n    </tr>\n    <tr>\n      <th>...</th>\n      <td>...</td>\n      <td>...</td>\n      <td>...</td>\n      <td>...</td>\n      <td>...</td>\n      <td>...</td>\n      <td>...</td>\n      <td>...</td>\n    </tr>\n    <tr>\n      <th>970</th>\n      <td>female</td>\n      <td>group D</td>\n      <td>bachelor's degree</td>\n      <td>standard</td>\n      <td>none</td>\n      <td>89</td>\n      <td>100</td>\n      <td>100</td>\n    </tr>\n    <tr>\n      <th>971</th>\n      <td>male</td>\n      <td>group C</td>\n      <td>some high school</td>\n      <td>standard</td>\n      <td>completed</td>\n      <td>78</td>\n      <td>72</td>\n      <td>69</td>\n    </tr>\n    <tr>\n      <th>972</th>\n      <td>female</td>\n      <td>group A</td>\n      <td>high school</td>\n      <td>free/reduced</td>\n      <td>completed</td>\n      <td>53</td>\n      <td>50</td>\n      <td>60</td>\n    </tr>\n    <tr>\n      <th>973</th>\n      <td>female</td>\n      <td>group D</td>\n      <td>some college</td>\n      <td>free/reduced</td>\n      <td>none</td>\n      <td>49</td>\n      <td>65</td>\n      <td>61</td>\n    </tr>\n    <tr>\n      <th>974</th>\n      <td>female</td>\n      <td>group A</td>\n      <td>some college</td>\n      <td>standard</td>\n      <td>none</td>\n      <td>54</td>\n      <td>63</td>\n      <td>67</td>\n    </tr>\n    <tr>\n      <th>975</th>\n      <td>female</td>\n      <td>group C</td>\n      <td>some college</td>\n      <td>standard</td>\n      <td>completed</td>\n      <td>64</td>\n      <td>82</td>\n      <td>77</td>\n    </tr>\n    <tr>\n      <th>976</th>\n      <td>male</td>\n      <td>group B</td>\n      <td>some college</td>\n      <td>free/reduced</td>\n      <td>completed</td>\n      <td>60</td>\n      <td>62</td>\n      <td>60</td>\n    </tr>\n    <tr>\n      <th>977</th>\n      <td>male</td>\n      <td>group C</td>\n      <td>associate's degree</td>\n      <td>standard</td>\n      <td>none</td>\n      <td>62</td>\n      <td>65</td>\n      <td>58</td>\n    </tr>\n    <tr>\n      <th>978</th>\n      <td>male</td>\n      <td>group D</td>\n      <td>high school</td>\n      <td>standard</td>\n      <td>completed</td>\n      <td>55</td>\n      <td>41</td>\n      <td>48</td>\n    </tr>\n    <tr>\n      <th>979</th>\n      <td>female</td>\n      <td>group C</td>\n      <td>associate's degree</td>\n      <td>standard</td>\n      <td>none</td>\n      <td>91</td>\n      <td>95</td>\n      <td>94</td>\n    </tr>\n    <tr>\n      <th>980</th>\n      <td>female</td>\n      <td>group B</td>\n      <td>high school</td>\n      <td>free/reduced</td>\n      <td>none</td>\n      <td>8</td>\n      <td>24</td>\n      <td>23</td>\n    </tr>\n    <tr>\n      <th>981</th>\n      <td>male</td>\n      <td>group D</td>\n      <td>some high school</td>\n      <td>standard</td>\n      <td>none</td>\n      <td>81</td>\n      <td>78</td>\n      <td>78</td>\n    </tr>\n    <tr>\n      <th>982</th>\n      <td>male</td>\n      <td>group B</td>\n      <td>some high school</td>\n      <td>standard</td>\n      <td>completed</td>\n      <td>79</td>\n      <td>85</td>\n      <td>86</td>\n    </tr>\n    <tr>\n      <th>983</th>\n      <td>female</td>\n      <td>group A</td>\n      <td>some college</td>\n      <td>standard</td>\n      <td>completed</td>\n      <td>78</td>\n      <td>87</td>\n      <td>91</td>\n    </tr>\n    <tr>\n      <th>984</th>\n      <td>female</td>\n      <td>group C</td>\n      <td>some high school</td>\n      <td>standard</td>\n      <td>none</td>\n      <td>74</td>\n      <td>75</td>\n      <td>82</td>\n    </tr>\n    <tr>\n      <th>985</th>\n      <td>male</td>\n      <td>group A</td>\n      <td>high school</td>\n      <td>standard</td>\n      <td>none</td>\n      <td>57</td>\n      <td>51</td>\n      <td>54</td>\n    </tr>\n    <tr>\n      <th>986</th>\n      <td>female</td>\n      <td>group C</td>\n      <td>associate's degree</td>\n      <td>standard</td>\n      <td>none</td>\n      <td>40</td>\n      <td>59</td>\n      <td>51</td>\n    </tr>\n    <tr>\n      <th>987</th>\n      <td>male</td>\n      <td>group E</td>\n      <td>some high school</td>\n      <td>standard</td>\n      <td>completed</td>\n      <td>81</td>\n      <td>75</td>\n      <td>76</td>\n    </tr>\n    <tr>\n      <th>988</th>\n      <td>female</td>\n      <td>group A</td>\n      <td>some high school</td>\n      <td>free/reduced</td>\n      <td>none</td>\n      <td>44</td>\n      <td>45</td>\n      <td>45</td>\n    </tr>\n    <tr>\n      <th>989</th>\n      <td>female</td>\n      <td>group D</td>\n      <td>some college</td>\n      <td>free/reduced</td>\n      <td>completed</td>\n      <td>67</td>\n      <td>86</td>\n      <td>83</td>\n    </tr>\n    <tr>\n      <th>990</th>\n      <td>male</td>\n      <td>group E</td>\n      <td>high school</td>\n      <td>free/reduced</td>\n      <td>completed</td>\n      <td>86</td>\n      <td>81</td>\n      <td>75</td>\n    </tr>\n    <tr>\n      <th>991</th>\n      <td>female</td>\n      <td>group B</td>\n      <td>some high school</td>\n      <td>standard</td>\n      <td>completed</td>\n      <td>65</td>\n      <td>82</td>\n      <td>78</td>\n    </tr>\n    <tr>\n      <th>992</th>\n      <td>female</td>\n      <td>group D</td>\n      <td>associate's degree</td>\n      <td>free/reduced</td>\n      <td>none</td>\n      <td>55</td>\n      <td>76</td>\n      <td>76</td>\n    </tr>\n    <tr>\n      <th>993</th>\n      <td>female</td>\n      <td>group D</td>\n      <td>bachelor's degree</td>\n      <td>free/reduced</td>\n      <td>none</td>\n      <td>62</td>\n      <td>72</td>\n      <td>74</td>\n    </tr>\n    <tr>\n      <th>994</th>\n      <td>male</td>\n      <td>group A</td>\n      <td>high school</td>\n      <td>standard</td>\n      <td>none</td>\n      <td>63</td>\n      <td>63</td>\n      <td>62</td>\n    </tr>\n    <tr>\n      <th>995</th>\n      <td>female</td>\n      <td>group E</td>\n      <td>master's degree</td>\n      <td>standard</td>\n      <td>completed</td>\n      <td>88</td>\n      <td>99</td>\n      <td>95</td>\n    </tr>\n    <tr>\n      <th>996</th>\n      <td>male</td>\n      <td>group C</td>\n      <td>high school</td>\n      <td>free/reduced</td>\n      <td>none</td>\n      <td>62</td>\n      <td>55</td>\n      <td>55</td>\n    </tr>\n    <tr>\n      <th>997</th>\n      <td>female</td>\n      <td>group C</td>\n      <td>high school</td>\n      <td>free/reduced</td>\n      <td>completed</td>\n      <td>59</td>\n      <td>71</td>\n      <td>65</td>\n    </tr>\n    <tr>\n      <th>998</th>\n      <td>female</td>\n      <td>group D</td>\n      <td>some college</td>\n      <td>standard</td>\n      <td>completed</td>\n      <td>68</td>\n      <td>78</td>\n      <td>77</td>\n    </tr>\n    <tr>\n      <th>999</th>\n      <td>female</td>\n      <td>group D</td>\n      <td>some college</td>\n      <td>free/reduced</td>\n      <td>none</td>\n      <td>77</td>\n      <td>86</td>\n      <td>86</td>\n    </tr>\n  </tbody>\n</table>\n<p>1000 rows × 8 columns</p>\n</div>"
     },
     "metadata": {},
     "output_type": "execute_result",
     "execution_count": 5
    }
   ]
  },
  {
   "cell_type": "code",
   "metadata": {
    "pycharm": {
     "name": "#%%\n",
     "is_executing": false
    },
    "id": "zmGbNUft-9w9",
    "colab_type": "code",
    "outputId": "ad50426a-5c6c-401b-8adf-648fe41e3c47",
    "colab": {
     "base_uri": "https://localhost:8080/",
     "height": 204
    }
   },
   "source": [
    "student_performance.head()\n",
    "\n"
   ],
   "execution_count": 6,
   "outputs": [
    {
     "data": {
      "text/plain": "   gender race/ethnicity parental level of education         lunch  \\\n0  female        group B           bachelor's degree      standard   \n1  female        group C                some college      standard   \n2  female        group B             master's degree      standard   \n3    male        group A          associate's degree  free/reduced   \n4    male        group C                some college      standard   \n\n  test preparation course  math score  reading score  writing score  \n0                    none          72             72             74  \n1               completed          69             90             88  \n2                    none          90             95             93  \n3                    none          47             57             44  \n4                    none          76             78             75  ",
      "text/html": "<div>\n<style scoped>\n    .dataframe tbody tr th:only-of-type {\n        vertical-align: middle;\n    }\n\n    .dataframe tbody tr th {\n        vertical-align: top;\n    }\n\n    .dataframe thead th {\n        text-align: right;\n    }\n</style>\n<table border=\"1\" class=\"dataframe\">\n  <thead>\n    <tr style=\"text-align: right;\">\n      <th></th>\n      <th>gender</th>\n      <th>race/ethnicity</th>\n      <th>parental level of education</th>\n      <th>lunch</th>\n      <th>test preparation course</th>\n      <th>math score</th>\n      <th>reading score</th>\n      <th>writing score</th>\n    </tr>\n  </thead>\n  <tbody>\n    <tr>\n      <th>0</th>\n      <td>female</td>\n      <td>group B</td>\n      <td>bachelor's degree</td>\n      <td>standard</td>\n      <td>none</td>\n      <td>72</td>\n      <td>72</td>\n      <td>74</td>\n    </tr>\n    <tr>\n      <th>1</th>\n      <td>female</td>\n      <td>group C</td>\n      <td>some college</td>\n      <td>standard</td>\n      <td>completed</td>\n      <td>69</td>\n      <td>90</td>\n      <td>88</td>\n    </tr>\n    <tr>\n      <th>2</th>\n      <td>female</td>\n      <td>group B</td>\n      <td>master's degree</td>\n      <td>standard</td>\n      <td>none</td>\n      <td>90</td>\n      <td>95</td>\n      <td>93</td>\n    </tr>\n    <tr>\n      <th>3</th>\n      <td>male</td>\n      <td>group A</td>\n      <td>associate's degree</td>\n      <td>free/reduced</td>\n      <td>none</td>\n      <td>47</td>\n      <td>57</td>\n      <td>44</td>\n    </tr>\n    <tr>\n      <th>4</th>\n      <td>male</td>\n      <td>group C</td>\n      <td>some college</td>\n      <td>standard</td>\n      <td>none</td>\n      <td>76</td>\n      <td>78</td>\n      <td>75</td>\n    </tr>\n  </tbody>\n</table>\n</div>"
     },
     "metadata": {},
     "output_type": "execute_result",
     "execution_count": 6
    }
   ]
  },
  {
   "cell_type": "code",
   "metadata": {
    "pycharm": {
     "name": "#%%\n",
     "is_executing": false
    },
    "id": "gOf-yw_n-9xC",
    "colab_type": "code",
    "outputId": "e4ae1665-6c96-49db-d785-30c17c943768",
    "colab": {
     "base_uri": "https://localhost:8080/",
     "height": 204
    }
   },
   "source": [
    "student_performance.tail()"
   ],
   "execution_count": 7,
   "outputs": [
    {
     "data": {
      "text/plain": "     gender race/ethnicity parental level of education         lunch  \\\n995  female        group E             master's degree      standard   \n996    male        group C                 high school  free/reduced   \n997  female        group C                 high school  free/reduced   \n998  female        group D                some college      standard   \n999  female        group D                some college  free/reduced   \n\n    test preparation course  math score  reading score  writing score  \n995               completed          88             99             95  \n996                    none          62             55             55  \n997               completed          59             71             65  \n998               completed          68             78             77  \n999                    none          77             86             86  ",
      "text/html": "<div>\n<style scoped>\n    .dataframe tbody tr th:only-of-type {\n        vertical-align: middle;\n    }\n\n    .dataframe tbody tr th {\n        vertical-align: top;\n    }\n\n    .dataframe thead th {\n        text-align: right;\n    }\n</style>\n<table border=\"1\" class=\"dataframe\">\n  <thead>\n    <tr style=\"text-align: right;\">\n      <th></th>\n      <th>gender</th>\n      <th>race/ethnicity</th>\n      <th>parental level of education</th>\n      <th>lunch</th>\n      <th>test preparation course</th>\n      <th>math score</th>\n      <th>reading score</th>\n      <th>writing score</th>\n    </tr>\n  </thead>\n  <tbody>\n    <tr>\n      <th>995</th>\n      <td>female</td>\n      <td>group E</td>\n      <td>master's degree</td>\n      <td>standard</td>\n      <td>completed</td>\n      <td>88</td>\n      <td>99</td>\n      <td>95</td>\n    </tr>\n    <tr>\n      <th>996</th>\n      <td>male</td>\n      <td>group C</td>\n      <td>high school</td>\n      <td>free/reduced</td>\n      <td>none</td>\n      <td>62</td>\n      <td>55</td>\n      <td>55</td>\n    </tr>\n    <tr>\n      <th>997</th>\n      <td>female</td>\n      <td>group C</td>\n      <td>high school</td>\n      <td>free/reduced</td>\n      <td>completed</td>\n      <td>59</td>\n      <td>71</td>\n      <td>65</td>\n    </tr>\n    <tr>\n      <th>998</th>\n      <td>female</td>\n      <td>group D</td>\n      <td>some college</td>\n      <td>standard</td>\n      <td>completed</td>\n      <td>68</td>\n      <td>78</td>\n      <td>77</td>\n    </tr>\n    <tr>\n      <th>999</th>\n      <td>female</td>\n      <td>group D</td>\n      <td>some college</td>\n      <td>free/reduced</td>\n      <td>none</td>\n      <td>77</td>\n      <td>86</td>\n      <td>86</td>\n    </tr>\n  </tbody>\n</table>\n</div>"
     },
     "metadata": {},
     "output_type": "execute_result",
     "execution_count": 7
    }
   ]
  },
  {
   "cell_type": "code",
   "metadata": {
    "pycharm": {
     "name": "#%%\n",
     "is_executing": false
    },
    "id": "QizCc09x-9xF",
    "colab_type": "code",
    "outputId": "4e06ca47-46a7-424a-8a99-da8d0cc09ba9",
    "colab": {
     "base_uri": "https://localhost:8080/",
     "height": 297
    }
   },
   "source": [
    "student_performance.describe()"
   ],
   "execution_count": 8,
   "outputs": [
    {
     "data": {
      "text/plain": "       math score  reading score  writing score\ncount  1000.00000    1000.000000    1000.000000\nmean     66.08900      69.169000      68.054000\nstd      15.16308      14.600192      15.195657\nmin       0.00000      17.000000      10.000000\n25%      57.00000      59.000000      57.750000\n50%      66.00000      70.000000      69.000000\n75%      77.00000      79.000000      79.000000\nmax     100.00000     100.000000     100.000000",
      "text/html": "<div>\n<style scoped>\n    .dataframe tbody tr th:only-of-type {\n        vertical-align: middle;\n    }\n\n    .dataframe tbody tr th {\n        vertical-align: top;\n    }\n\n    .dataframe thead th {\n        text-align: right;\n    }\n</style>\n<table border=\"1\" class=\"dataframe\">\n  <thead>\n    <tr style=\"text-align: right;\">\n      <th></th>\n      <th>math score</th>\n      <th>reading score</th>\n      <th>writing score</th>\n    </tr>\n  </thead>\n  <tbody>\n    <tr>\n      <th>count</th>\n      <td>1000.00000</td>\n      <td>1000.000000</td>\n      <td>1000.000000</td>\n    </tr>\n    <tr>\n      <th>mean</th>\n      <td>66.08900</td>\n      <td>69.169000</td>\n      <td>68.054000</td>\n    </tr>\n    <tr>\n      <th>std</th>\n      <td>15.16308</td>\n      <td>14.600192</td>\n      <td>15.195657</td>\n    </tr>\n    <tr>\n      <th>min</th>\n      <td>0.00000</td>\n      <td>17.000000</td>\n      <td>10.000000</td>\n    </tr>\n    <tr>\n      <th>25%</th>\n      <td>57.00000</td>\n      <td>59.000000</td>\n      <td>57.750000</td>\n    </tr>\n    <tr>\n      <th>50%</th>\n      <td>66.00000</td>\n      <td>70.000000</td>\n      <td>69.000000</td>\n    </tr>\n    <tr>\n      <th>75%</th>\n      <td>77.00000</td>\n      <td>79.000000</td>\n      <td>79.000000</td>\n    </tr>\n    <tr>\n      <th>max</th>\n      <td>100.00000</td>\n      <td>100.000000</td>\n      <td>100.000000</td>\n    </tr>\n  </tbody>\n</table>\n</div>"
     },
     "metadata": {},
     "output_type": "execute_result",
     "execution_count": 8
    }
   ]
  },
  {
   "cell_type": "code",
   "metadata": {
    "pycharm": {
     "name": "#%%\n",
     "is_executing": false
    },
    "id": "rEjNQ14h-9xI",
    "colab_type": "code",
    "outputId": "208d39c2-ef3b-4794-d02b-d87ac00527a8",
    "colab": {
     "base_uri": "https://localhost:8080/",
     "height": 170
    }
   },
   "source": [
    "student_performance.dtypes"
   ],
   "execution_count": 9,
   "outputs": [
    {
     "data": {
      "text/plain": "gender                         object\nrace/ethnicity                 object\nparental level of education    object\nlunch                          object\ntest preparation course        object\nmath score                      int64\nreading score                   int64\nwriting score                   int64\ndtype: object"
     },
     "metadata": {},
     "output_type": "execute_result",
     "execution_count": 9
    }
   ]
  },
  {
   "cell_type": "code",
   "metadata": {
    "pycharm": {
     "name": "#%%\n",
     "is_executing": false
    },
    "id": "8775Gf9T-9xK",
    "colab_type": "code",
    "outputId": "0e4f40bd-5e80-4762-cf23-a80c2632e584",
    "colab": {
     "base_uri": "https://localhost:8080/",
     "height": 34
    }
   },
   "source": [
    "student_performance.shape"
   ],
   "execution_count": 10,
   "outputs": [
    {
     "data": {
      "text/plain": "(1000, 8)"
     },
     "metadata": {},
     "output_type": "execute_result",
     "execution_count": 10
    }
   ]
  },
  {
   "cell_type": "code",
   "metadata": {
    "pycharm": {
     "name": "#%%\n",
     "is_executing": false
    },
    "id": "Oj8nVz2b-9xM",
    "colab_type": "code",
    "outputId": "e966a99e-60d9-418e-a4f1-0095d79cdd04",
    "colab": {
     "base_uri": "https://localhost:8080/",
     "height": 204
    }
   },
   "source": [
    "student_performance[0:5][['gender', 'race/ethnicity', 'parental level of education']]"
   ],
   "execution_count": 11,
   "outputs": [
    {
     "data": {
      "text/plain": "   gender race/ethnicity parental level of education\n0  female        group B           bachelor's degree\n1  female        group C                some college\n2  female        group B             master's degree\n3    male        group A          associate's degree\n4    male        group C                some college",
      "text/html": "<div>\n<style scoped>\n    .dataframe tbody tr th:only-of-type {\n        vertical-align: middle;\n    }\n\n    .dataframe tbody tr th {\n        vertical-align: top;\n    }\n\n    .dataframe thead th {\n        text-align: right;\n    }\n</style>\n<table border=\"1\" class=\"dataframe\">\n  <thead>\n    <tr style=\"text-align: right;\">\n      <th></th>\n      <th>gender</th>\n      <th>race/ethnicity</th>\n      <th>parental level of education</th>\n    </tr>\n  </thead>\n  <tbody>\n    <tr>\n      <th>0</th>\n      <td>female</td>\n      <td>group B</td>\n      <td>bachelor's degree</td>\n    </tr>\n    <tr>\n      <th>1</th>\n      <td>female</td>\n      <td>group C</td>\n      <td>some college</td>\n    </tr>\n    <tr>\n      <th>2</th>\n      <td>female</td>\n      <td>group B</td>\n      <td>master's degree</td>\n    </tr>\n    <tr>\n      <th>3</th>\n      <td>male</td>\n      <td>group A</td>\n      <td>associate's degree</td>\n    </tr>\n    <tr>\n      <th>4</th>\n      <td>male</td>\n      <td>group C</td>\n      <td>some college</td>\n    </tr>\n  </tbody>\n</table>\n</div>"
     },
     "metadata": {},
     "output_type": "execute_result",
     "execution_count": 11
    }
   ]
  },
  {
   "cell_type": "code",
   "metadata": {
    "pycharm": {
     "name": "#%%\n",
     "is_executing": false
    },
    "id": "b0c3hvYM-9xP",
    "colab_type": "code",
    "outputId": "0c098852-601e-4175-97fe-c0b6b894d77b",
    "colab": {
     "base_uri": "https://localhost:8080/",
     "height": 142
    }
   },
   "source": [
    "student_performance.iloc[0:3, 0:5]"
   ],
   "execution_count": 12,
   "outputs": [
    {
     "data": {
      "text/plain": "   gender race/ethnicity parental level of education     lunch  \\\n0  female        group B           bachelor's degree  standard   \n1  female        group C                some college  standard   \n2  female        group B             master's degree  standard   \n\n  test preparation course  \n0                    none  \n1               completed  \n2                    none  ",
      "text/html": "<div>\n<style scoped>\n    .dataframe tbody tr th:only-of-type {\n        vertical-align: middle;\n    }\n\n    .dataframe tbody tr th {\n        vertical-align: top;\n    }\n\n    .dataframe thead th {\n        text-align: right;\n    }\n</style>\n<table border=\"1\" class=\"dataframe\">\n  <thead>\n    <tr style=\"text-align: right;\">\n      <th></th>\n      <th>gender</th>\n      <th>race/ethnicity</th>\n      <th>parental level of education</th>\n      <th>lunch</th>\n      <th>test preparation course</th>\n    </tr>\n  </thead>\n  <tbody>\n    <tr>\n      <th>0</th>\n      <td>female</td>\n      <td>group B</td>\n      <td>bachelor's degree</td>\n      <td>standard</td>\n      <td>none</td>\n    </tr>\n    <tr>\n      <th>1</th>\n      <td>female</td>\n      <td>group C</td>\n      <td>some college</td>\n      <td>standard</td>\n      <td>completed</td>\n    </tr>\n    <tr>\n      <th>2</th>\n      <td>female</td>\n      <td>group B</td>\n      <td>master's degree</td>\n      <td>standard</td>\n      <td>none</td>\n    </tr>\n  </tbody>\n</table>\n</div>"
     },
     "metadata": {},
     "output_type": "execute_result",
     "execution_count": 12
    }
   ]
  },
  {
   "cell_type": "code",
   "metadata": {
    "pycharm": {
     "name": "#%%\n",
     "is_executing": false
    },
    "id": "PfIWmMvC-9xR",
    "colab_type": "code",
    "outputId": "49cdcdbb-1ec0-469f-d154-357e5d5b2f7b",
    "colab": {
     "base_uri": "https://localhost:8080/",
     "height": 142
    }
   },
   "source": [
    "student_performance.iloc[[0,1,3], [2,3,1]]"
   ],
   "execution_count": 13,
   "outputs": [
    {
     "data": {
      "text/plain": "  parental level of education         lunch race/ethnicity\n0           bachelor's degree      standard        group B\n1                some college      standard        group C\n3          associate's degree  free/reduced        group A",
      "text/html": "<div>\n<style scoped>\n    .dataframe tbody tr th:only-of-type {\n        vertical-align: middle;\n    }\n\n    .dataframe tbody tr th {\n        vertical-align: top;\n    }\n\n    .dataframe thead th {\n        text-align: right;\n    }\n</style>\n<table border=\"1\" class=\"dataframe\">\n  <thead>\n    <tr style=\"text-align: right;\">\n      <th></th>\n      <th>parental level of education</th>\n      <th>lunch</th>\n      <th>race/ethnicity</th>\n    </tr>\n  </thead>\n  <tbody>\n    <tr>\n      <th>0</th>\n      <td>bachelor's degree</td>\n      <td>standard</td>\n      <td>group B</td>\n    </tr>\n    <tr>\n      <th>1</th>\n      <td>some college</td>\n      <td>standard</td>\n      <td>group C</td>\n    </tr>\n    <tr>\n      <th>3</th>\n      <td>associate's degree</td>\n      <td>free/reduced</td>\n      <td>group A</td>\n    </tr>\n  </tbody>\n</table>\n</div>"
     },
     "metadata": {},
     "output_type": "execute_result",
     "execution_count": 13
    }
   ]
  },
  {
   "cell_type": "code",
   "metadata": {
    "pycharm": {
     "name": "#%%\n",
     "is_executing": false
    },
    "id": "KJ1Qn02u-9xT",
    "colab_type": "code",
    "outputId": "857aaee5-52e1-419f-eb1d-8b3a7a8a34bd",
    "colab": {
     "base_uri": "https://localhost:8080/",
     "height": 142
    }
   },
   "source": [
    "student_performance.iloc[[0,3,10], [-1,-2,-3]]"
   ],
   "execution_count": 14,
   "outputs": [
    {
     "data": {
      "text/plain": "    writing score  reading score  math score\n0              74             72          72\n3              44             57          47\n10             52             54          58",
      "text/html": "<div>\n<style scoped>\n    .dataframe tbody tr th:only-of-type {\n        vertical-align: middle;\n    }\n\n    .dataframe tbody tr th {\n        vertical-align: top;\n    }\n\n    .dataframe thead th {\n        text-align: right;\n    }\n</style>\n<table border=\"1\" class=\"dataframe\">\n  <thead>\n    <tr style=\"text-align: right;\">\n      <th></th>\n      <th>writing score</th>\n      <th>reading score</th>\n      <th>math score</th>\n    </tr>\n  </thead>\n  <tbody>\n    <tr>\n      <th>0</th>\n      <td>74</td>\n      <td>72</td>\n      <td>72</td>\n    </tr>\n    <tr>\n      <th>3</th>\n      <td>44</td>\n      <td>57</td>\n      <td>47</td>\n    </tr>\n    <tr>\n      <th>10</th>\n      <td>52</td>\n      <td>54</td>\n      <td>58</td>\n    </tr>\n  </tbody>\n</table>\n</div>"
     },
     "metadata": {},
     "output_type": "execute_result",
     "execution_count": 14
    }
   ]
  },
  {
   "cell_type": "code",
   "metadata": {
    "pycharm": {
     "name": "#%%\n",
     "is_executing": false
    },
    "id": "-5b5_BUT-9xW",
    "colab_type": "code",
    "outputId": "ac93c21c-29c2-49be-83ee-8d620f02d3f6",
    "colab": {
     "base_uri": "https://localhost:8080/",
     "height": 204
    }
   },
   "source": [
    "student_performance_with_names = student_performance.iloc[[0,3,4,7,8]]\n",
    "student_performance_with_names.index = ['Cersei', 'Tywin', 'Gregor', 'Joffrey', 'Pein']\n",
    "student_performance_with_names"
   ],
   "execution_count": 15,
   "outputs": [
    {
     "data": {
      "text/plain": "         gender race/ethnicity parental level of education         lunch  \\\nCersei   female        group B           bachelor's degree      standard   \nTywin      male        group A          associate's degree  free/reduced   \nGregor     male        group C                some college      standard   \nJoffrey    male        group B                some college  free/reduced   \nPein       male        group D                 high school  free/reduced   \n\n        test preparation course  math score  reading score  writing score  \nCersei                     none          72             72             74  \nTywin                      none          47             57             44  \nGregor                     none          76             78             75  \nJoffrey                    none          40             43             39  \nPein                  completed          64             64             67  ",
      "text/html": "<div>\n<style scoped>\n    .dataframe tbody tr th:only-of-type {\n        vertical-align: middle;\n    }\n\n    .dataframe tbody tr th {\n        vertical-align: top;\n    }\n\n    .dataframe thead th {\n        text-align: right;\n    }\n</style>\n<table border=\"1\" class=\"dataframe\">\n  <thead>\n    <tr style=\"text-align: right;\">\n      <th></th>\n      <th>gender</th>\n      <th>race/ethnicity</th>\n      <th>parental level of education</th>\n      <th>lunch</th>\n      <th>test preparation course</th>\n      <th>math score</th>\n      <th>reading score</th>\n      <th>writing score</th>\n    </tr>\n  </thead>\n  <tbody>\n    <tr>\n      <th>Cersei</th>\n      <td>female</td>\n      <td>group B</td>\n      <td>bachelor's degree</td>\n      <td>standard</td>\n      <td>none</td>\n      <td>72</td>\n      <td>72</td>\n      <td>74</td>\n    </tr>\n    <tr>\n      <th>Tywin</th>\n      <td>male</td>\n      <td>group A</td>\n      <td>associate's degree</td>\n      <td>free/reduced</td>\n      <td>none</td>\n      <td>47</td>\n      <td>57</td>\n      <td>44</td>\n    </tr>\n    <tr>\n      <th>Gregor</th>\n      <td>male</td>\n      <td>group C</td>\n      <td>some college</td>\n      <td>standard</td>\n      <td>none</td>\n      <td>76</td>\n      <td>78</td>\n      <td>75</td>\n    </tr>\n    <tr>\n      <th>Joffrey</th>\n      <td>male</td>\n      <td>group B</td>\n      <td>some college</td>\n      <td>free/reduced</td>\n      <td>none</td>\n      <td>40</td>\n      <td>43</td>\n      <td>39</td>\n    </tr>\n    <tr>\n      <th>Pein</th>\n      <td>male</td>\n      <td>group D</td>\n      <td>high school</td>\n      <td>free/reduced</td>\n      <td>completed</td>\n      <td>64</td>\n      <td>64</td>\n      <td>67</td>\n    </tr>\n  </tbody>\n</table>\n</div>"
     },
     "metadata": {},
     "output_type": "execute_result",
     "execution_count": 15
    }
   ]
  },
  {
   "cell_type": "code",
   "metadata": {
    "pycharm": {
     "name": "#%%\n",
     "is_executing": false
    },
    "id": "lzq_r_k4-9xY",
    "colab_type": "code",
    "outputId": "92a8a675-8c82-4b8f-ca5b-b1e2ac842a7b",
    "colab": {
     "base_uri": "https://localhost:8080/",
     "height": 111
    }
   },
   "source": [
    "student_performance_with_names.loc[['Cersei', 'Tywin'], ['gender', 'lunch']]"
   ],
   "execution_count": 0,
   "outputs": [
    {
     "output_type": "execute_result",
     "data": {
      "text/html": [
       "<div>\n",
       "<style scoped>\n",
       "    .dataframe tbody tr th:only-of-type {\n",
       "        vertical-align: middle;\n",
       "    }\n",
       "\n",
       "    .dataframe tbody tr th {\n",
       "        vertical-align: top;\n",
       "    }\n",
       "\n",
       "    .dataframe thead th {\n",
       "        text-align: right;\n",
       "    }\n",
       "</style>\n",
       "<table border=\"1\" class=\"dataframe\">\n",
       "  <thead>\n",
       "    <tr style=\"text-align: right;\">\n",
       "      <th></th>\n",
       "      <th>gender</th>\n",
       "      <th>lunch</th>\n",
       "    </tr>\n",
       "  </thead>\n",
       "  <tbody>\n",
       "    <tr>\n",
       "      <th>Cersei</th>\n",
       "      <td>female</td>\n",
       "      <td>standard</td>\n",
       "    </tr>\n",
       "    <tr>\n",
       "      <th>Tywin</th>\n",
       "      <td>male</td>\n",
       "      <td>free/reduced</td>\n",
       "    </tr>\n",
       "  </tbody>\n",
       "</table>\n",
       "</div>"
      ],
      "text/plain": [
       "        gender         lunch\n",
       "Cersei  female      standard\n",
       "Tywin     male  free/reduced"
      ]
     },
     "metadata": {
      "tags": []
     },
     "execution_count": 14
    }
   ]
  },
  {
   "cell_type": "code",
   "metadata": {
    "pycharm": {
     "name": "#%%\n",
     "is_executing": false
    },
    "id": "QFhfTB7--9xb",
    "colab_type": "code",
    "outputId": "fc429ba9-d840-4897-97e3-4098bc26b466",
    "colab": {
     "base_uri": "https://localhost:8080/",
     "height": 119
    }
   },
   "source": [
    "student_performance_with_names.iloc[:,0]"
   ],
   "execution_count": 0,
   "outputs": [
    {
     "output_type": "execute_result",
     "data": {
      "text/plain": [
       "Cersei     female\n",
       "Tywin        male\n",
       "Gregor       male\n",
       "Joffrey      male\n",
       "Pein         male\n",
       "Name: gender, dtype: object"
      ]
     },
     "metadata": {
      "tags": []
     },
     "execution_count": 15
    }
   ]
  },
  {
   "cell_type": "code",
   "metadata": {
    "pycharm": {
     "name": "#%%\n",
     "is_executing": false
    },
    "id": "E1uW28-r-9xe",
    "colab_type": "code",
    "outputId": "75441201-6563-493c-e6f3-1ae8c8825a55",
    "colab": {
     "base_uri": "https://localhost:8080/",
     "height": 80
    }
   },
   "source": [
    "student_performance_with_names.iloc[:1]\n"
   ],
   "execution_count": 0,
   "outputs": [
    {
     "output_type": "execute_result",
     "data": {
      "text/html": [
       "<div>\n",
       "<style scoped>\n",
       "    .dataframe tbody tr th:only-of-type {\n",
       "        vertical-align: middle;\n",
       "    }\n",
       "\n",
       "    .dataframe tbody tr th {\n",
       "        vertical-align: top;\n",
       "    }\n",
       "\n",
       "    .dataframe thead th {\n",
       "        text-align: right;\n",
       "    }\n",
       "</style>\n",
       "<table border=\"1\" class=\"dataframe\">\n",
       "  <thead>\n",
       "    <tr style=\"text-align: right;\">\n",
       "      <th></th>\n",
       "      <th>gender</th>\n",
       "      <th>race/ethnicity</th>\n",
       "      <th>parental level of education</th>\n",
       "      <th>lunch</th>\n",
       "      <th>test preparation course</th>\n",
       "      <th>math score</th>\n",
       "      <th>reading score</th>\n",
       "      <th>writing score</th>\n",
       "    </tr>\n",
       "  </thead>\n",
       "  <tbody>\n",
       "    <tr>\n",
       "      <th>Cersei</th>\n",
       "      <td>female</td>\n",
       "      <td>group B</td>\n",
       "      <td>bachelor's degree</td>\n",
       "      <td>standard</td>\n",
       "      <td>none</td>\n",
       "      <td>72</td>\n",
       "      <td>72</td>\n",
       "      <td>74</td>\n",
       "    </tr>\n",
       "  </tbody>\n",
       "</table>\n",
       "</div>"
      ],
      "text/plain": [
       "        gender race/ethnicity  ... reading score writing score\n",
       "Cersei  female        group B  ...            72            74\n",
       "\n",
       "[1 rows x 8 columns]"
      ]
     },
     "metadata": {
      "tags": []
     },
     "execution_count": 16
    }
   ]
  },
  {
   "cell_type": "code",
   "metadata": {
    "pycharm": {
     "name": "#%%\n",
     "is_executing": false
    },
    "id": "g3hSDvZo-9xg",
    "colab_type": "code",
    "outputId": "291048f4-0fb0-40de-a91c-7b8ecb152e0f",
    "colab": {
     "base_uri": "https://localhost:8080/",
     "height": 85
    }
   },
   "source": [
    "pd.Series([1,2,3])"
   ],
   "execution_count": 0,
   "outputs": [
    {
     "output_type": "execute_result",
     "data": {
      "text/plain": [
       "0    1\n",
       "1    2\n",
       "2    3\n",
       "dtype: int64"
      ]
     },
     "metadata": {
      "tags": []
     },
     "execution_count": 17
    }
   ]
  },
  {
   "cell_type": "code",
   "metadata": {
    "pycharm": {
     "name": "#%%\n",
     "is_executing": false
    },
    "id": "qScPvHXX-9xi",
    "colab_type": "code",
    "colab": {}
   },
   "source": [
    "my_Series_1 = pd.Series(['3Q',4], index=['Cersei', 'Tywin'])\n",
    "my_Series_2 = pd.Series(['qwer', 'retty'], index=['Cersei', 'Tywin'])"
   ],
   "execution_count": 0,
   "outputs": []
  },
  {
   "cell_type": "code",
   "metadata": {
    "pycharm": {
     "name": "#%%\n",
     "is_executing": false
    },
    "id": "3AYotTYq-9xk",
    "colab_type": "code",
    "outputId": "cc63859f-7e76-4c1c-cc40-e2526d09e049",
    "colab": {
     "base_uri": "https://localhost:8080/",
     "height": 111
    }
   },
   "source": [
    "pd.DataFrame({'Col1': my_Series_1, 'Col2': my_Series_2})"
   ],
   "execution_count": 0,
   "outputs": [
    {
     "output_type": "execute_result",
     "data": {
      "text/html": [
       "<div>\n",
       "<style scoped>\n",
       "    .dataframe tbody tr th:only-of-type {\n",
       "        vertical-align: middle;\n",
       "    }\n",
       "\n",
       "    .dataframe tbody tr th {\n",
       "        vertical-align: top;\n",
       "    }\n",
       "\n",
       "    .dataframe thead th {\n",
       "        text-align: right;\n",
       "    }\n",
       "</style>\n",
       "<table border=\"1\" class=\"dataframe\">\n",
       "  <thead>\n",
       "    <tr style=\"text-align: right;\">\n",
       "      <th></th>\n",
       "      <th>Col1</th>\n",
       "      <th>Col2</th>\n",
       "    </tr>\n",
       "  </thead>\n",
       "  <tbody>\n",
       "    <tr>\n",
       "      <th>Cersei</th>\n",
       "      <td>3Q</td>\n",
       "      <td>qwer</td>\n",
       "    </tr>\n",
       "    <tr>\n",
       "      <th>Tywin</th>\n",
       "      <td>4</td>\n",
       "      <td>retty</td>\n",
       "    </tr>\n",
       "  </tbody>\n",
       "</table>\n",
       "</div>"
      ],
      "text/plain": [
       "       Col1   Col2\n",
       "Cersei   3Q   qwer\n",
       "Tywin     4  retty"
      ]
     },
     "metadata": {
      "tags": []
     },
     "execution_count": 19
    }
   ]
  },
  {
   "cell_type": "code",
   "metadata": {
    "pycharm": {
     "name": "#%%\n",
     "is_executing": false
    },
    "id": "PiYtE-9_-9xm",
    "colab_type": "code",
    "outputId": "9a2d982c-c3ef-403e-f607-c2e325c1a53d",
    "colab": {
     "base_uri": "https://localhost:8080/",
     "height": 119
    }
   },
   "source": [
    "student_performance_with_names['gender']"
   ],
   "execution_count": 0,
   "outputs": [
    {
     "output_type": "execute_result",
     "data": {
      "text/plain": [
       "Cersei     female\n",
       "Tywin        male\n",
       "Gregor       male\n",
       "Joffrey      male\n",
       "Pein         male\n",
       "Name: gender, dtype: object"
      ]
     },
     "metadata": {
      "tags": []
     },
     "execution_count": 20
    }
   ]
  },
  {
   "cell_type": "code",
   "metadata": {
    "pycharm": {
     "name": "#%%\n",
     "is_executing": false
    },
    "id": "LofMfuii-9xo",
    "colab_type": "code",
    "outputId": "edd4dbad-f897-4fa0-8074-9fe5e7fc02fa",
    "colab": {
     "base_uri": "https://localhost:8080/",
     "height": 204
    }
   },
   "source": [
    "student_performance_with_names[['gender']]\n",
    "\n"
   ],
   "execution_count": 0,
   "outputs": [
    {
     "output_type": "execute_result",
     "data": {
      "text/html": [
       "<div>\n",
       "<style scoped>\n",
       "    .dataframe tbody tr th:only-of-type {\n",
       "        vertical-align: middle;\n",
       "    }\n",
       "\n",
       "    .dataframe tbody tr th {\n",
       "        vertical-align: top;\n",
       "    }\n",
       "\n",
       "    .dataframe thead th {\n",
       "        text-align: right;\n",
       "    }\n",
       "</style>\n",
       "<table border=\"1\" class=\"dataframe\">\n",
       "  <thead>\n",
       "    <tr style=\"text-align: right;\">\n",
       "      <th></th>\n",
       "      <th>gender</th>\n",
       "    </tr>\n",
       "  </thead>\n",
       "  <tbody>\n",
       "    <tr>\n",
       "      <th>Cersei</th>\n",
       "      <td>female</td>\n",
       "    </tr>\n",
       "    <tr>\n",
       "      <th>Tywin</th>\n",
       "      <td>male</td>\n",
       "    </tr>\n",
       "    <tr>\n",
       "      <th>Gregor</th>\n",
       "      <td>male</td>\n",
       "    </tr>\n",
       "    <tr>\n",
       "      <th>Joffrey</th>\n",
       "      <td>male</td>\n",
       "    </tr>\n",
       "    <tr>\n",
       "      <th>Pein</th>\n",
       "      <td>male</td>\n",
       "    </tr>\n",
       "  </tbody>\n",
       "</table>\n",
       "</div>"
      ],
      "text/plain": [
       "         gender\n",
       "Cersei   female\n",
       "Tywin      male\n",
       "Gregor     male\n",
       "Joffrey    male\n",
       "Pein       male"
      ]
     },
     "metadata": {
      "tags": []
     },
     "execution_count": 21
    }
   ]
  },
  {
   "cell_type": "code",
   "metadata": {
    "pycharm": {
     "name": "#%%\n",
     "is_executing": false
    },
    "id": "6595CcsK-9xq",
    "colab_type": "code",
    "outputId": "b08bee0f-cb65-4178-ff2c-8d93a81d6dc3",
    "colab": {
     "base_uri": "https://localhost:8080/",
     "height": 266
    }
   },
   "source": [
    "student_performance.head(7)\n"
   ],
   "execution_count": 0,
   "outputs": [
    {
     "output_type": "execute_result",
     "data": {
      "text/html": [
       "<div>\n",
       "<style scoped>\n",
       "    .dataframe tbody tr th:only-of-type {\n",
       "        vertical-align: middle;\n",
       "    }\n",
       "\n",
       "    .dataframe tbody tr th {\n",
       "        vertical-align: top;\n",
       "    }\n",
       "\n",
       "    .dataframe thead th {\n",
       "        text-align: right;\n",
       "    }\n",
       "</style>\n",
       "<table border=\"1\" class=\"dataframe\">\n",
       "  <thead>\n",
       "    <tr style=\"text-align: right;\">\n",
       "      <th></th>\n",
       "      <th>gender</th>\n",
       "      <th>race/ethnicity</th>\n",
       "      <th>parental level of education</th>\n",
       "      <th>lunch</th>\n",
       "      <th>test preparation course</th>\n",
       "      <th>math score</th>\n",
       "      <th>reading score</th>\n",
       "      <th>writing score</th>\n",
       "    </tr>\n",
       "  </thead>\n",
       "  <tbody>\n",
       "    <tr>\n",
       "      <th>0</th>\n",
       "      <td>female</td>\n",
       "      <td>group B</td>\n",
       "      <td>bachelor's degree</td>\n",
       "      <td>standard</td>\n",
       "      <td>none</td>\n",
       "      <td>72</td>\n",
       "      <td>72</td>\n",
       "      <td>74</td>\n",
       "    </tr>\n",
       "    <tr>\n",
       "      <th>1</th>\n",
       "      <td>female</td>\n",
       "      <td>group C</td>\n",
       "      <td>some college</td>\n",
       "      <td>standard</td>\n",
       "      <td>completed</td>\n",
       "      <td>69</td>\n",
       "      <td>90</td>\n",
       "      <td>88</td>\n",
       "    </tr>\n",
       "    <tr>\n",
       "      <th>2</th>\n",
       "      <td>female</td>\n",
       "      <td>group B</td>\n",
       "      <td>master's degree</td>\n",
       "      <td>standard</td>\n",
       "      <td>none</td>\n",
       "      <td>90</td>\n",
       "      <td>95</td>\n",
       "      <td>93</td>\n",
       "    </tr>\n",
       "    <tr>\n",
       "      <th>3</th>\n",
       "      <td>male</td>\n",
       "      <td>group A</td>\n",
       "      <td>associate's degree</td>\n",
       "      <td>free/reduced</td>\n",
       "      <td>none</td>\n",
       "      <td>47</td>\n",
       "      <td>57</td>\n",
       "      <td>44</td>\n",
       "    </tr>\n",
       "    <tr>\n",
       "      <th>4</th>\n",
       "      <td>male</td>\n",
       "      <td>group C</td>\n",
       "      <td>some college</td>\n",
       "      <td>standard</td>\n",
       "      <td>none</td>\n",
       "      <td>76</td>\n",
       "      <td>78</td>\n",
       "      <td>75</td>\n",
       "    </tr>\n",
       "    <tr>\n",
       "      <th>5</th>\n",
       "      <td>female</td>\n",
       "      <td>group B</td>\n",
       "      <td>associate's degree</td>\n",
       "      <td>standard</td>\n",
       "      <td>none</td>\n",
       "      <td>71</td>\n",
       "      <td>83</td>\n",
       "      <td>78</td>\n",
       "    </tr>\n",
       "    <tr>\n",
       "      <th>6</th>\n",
       "      <td>female</td>\n",
       "      <td>group B</td>\n",
       "      <td>some college</td>\n",
       "      <td>standard</td>\n",
       "      <td>completed</td>\n",
       "      <td>88</td>\n",
       "      <td>95</td>\n",
       "      <td>92</td>\n",
       "    </tr>\n",
       "  </tbody>\n",
       "</table>\n",
       "</div>"
      ],
      "text/plain": [
       "   gender race/ethnicity  ... reading score writing score\n",
       "0  female        group B  ...            72            74\n",
       "1  female        group C  ...            90            88\n",
       "2  female        group B  ...            95            93\n",
       "3    male        group A  ...            57            44\n",
       "4    male        group C  ...            78            75\n",
       "5  female        group B  ...            83            78\n",
       "6  female        group B  ...            95            92\n",
       "\n",
       "[7 rows x 8 columns]"
      ]
     },
     "metadata": {
      "tags": []
     },
     "execution_count": 22
    }
   ]
  },
  {
   "cell_type": "code",
   "metadata": {
    "pycharm": {
     "name": "#%%\n",
     "is_executing": false
    },
    "id": "Y4cKbXfr-9xt",
    "colab_type": "code",
    "outputId": "0982bbb1-7f6a-4211-9a5b-1fe1e2397ebe",
    "colab": {
     "base_uri": "https://localhost:8080/",
     "height": 170
    }
   },
   "source": [
    "student_performance.iloc[0:6],\n"
   ],
   "execution_count": 0,
   "outputs": [
    {
     "output_type": "execute_result",
     "data": {
      "text/plain": [
       "(   gender race/ethnicity  ... reading score writing score\n",
       " 0  female        group B  ...            72            74\n",
       " 1  female        group C  ...            90            88\n",
       " 2  female        group B  ...            95            93\n",
       " 3    male        group A  ...            57            44\n",
       " 4    male        group C  ...            78            75\n",
       " 5  female        group B  ...            83            78\n",
       " \n",
       " [6 rows x 8 columns],)"
      ]
     },
     "metadata": {
      "tags": []
     },
     "execution_count": 23
    }
   ]
  },
  {
   "cell_type": "code",
   "metadata": {
    "pycharm": {
     "name": "#%%\n",
     "is_executing": false
    },
    "id": "wblH722_-9xw",
    "colab_type": "code",
    "outputId": "7303ccc6-5416-4fb7-9b49-b0bd0d0c93e1",
    "colab": {
     "base_uri": "https://localhost:8080/",
     "height": 34
    }
   },
   "source": [
    "student_performance.index"
   ],
   "execution_count": 0,
   "outputs": [
    {
     "output_type": "execute_result",
     "data": {
      "text/plain": [
       "RangeIndex(start=0, stop=1000, step=1)"
      ]
     },
     "metadata": {
      "tags": []
     },
     "execution_count": 24
    }
   ]
  },
  {
   "cell_type": "code",
   "metadata": {
    "pycharm": {
     "name": "#%%\n",
     "is_executing": false
    },
    "id": "mk_vSqRy-9xz",
    "colab_type": "code",
    "outputId": "484fec7f-61b7-4098-b8fc-80937fd0ea41",
    "colab": {
     "base_uri": "https://localhost:8080/",
     "height": 34
    }
   },
   "source": [
    "from IPython.display import Image\n",
    "Image(\"img/12.jpg\")"
   ],
   "execution_count": 0,
   "outputs": [
    {
     "output_type": "execute_result",
     "data": {
      "image/png": "img/12.jpg",
      "text/plain": [
       "<IPython.core.display.Image object>"
      ]
     },
     "metadata": {
      "tags": []
     },
     "execution_count": 25
    }
   ]
  },
  {
   "cell_type": "code",
   "metadata": {
    "pycharm": {
     "name": "#%%\n",
     "is_executing": false
    },
    "id": "UOob1Zbb-9x1",
    "colab_type": "code",
    "outputId": "25e49ac3-a36d-464a-8cb9-14832b53aa6b",
    "colab": {
     "base_uri": "https://localhost:8080/",
     "height": 391
    }
   },
   "source": [
    "df = pd.read_csv('titanic.csv')\n",
    "df"
   ],
   "execution_count": 0,
   "outputs": [
    {
     "output_type": "error",
     "ename": "FileNotFoundError",
     "evalue": "ignored",
     "traceback": [
      "\u001b[0;31m---------------------------------------------------------------------------\u001b[0m",
      "\u001b[0;31mFileNotFoundError\u001b[0m                         Traceback (most recent call last)",
      "\u001b[0;32m<ipython-input-26-2a0379a1b990>\u001b[0m in \u001b[0;36m<module>\u001b[0;34m()\u001b[0m\n\u001b[0;32m----> 1\u001b[0;31m \u001b[0mdf\u001b[0m \u001b[0;34m=\u001b[0m \u001b[0mpd\u001b[0m\u001b[0;34m.\u001b[0m\u001b[0mread_csv\u001b[0m\u001b[0;34m(\u001b[0m\u001b[0;34m'titanic.csv'\u001b[0m\u001b[0;34m)\u001b[0m\u001b[0;34m\u001b[0m\u001b[0;34m\u001b[0m\u001b[0m\n\u001b[0m\u001b[1;32m      2\u001b[0m \u001b[0mdf\u001b[0m\u001b[0;34m\u001b[0m\u001b[0;34m\u001b[0m\u001b[0m\n",
      "\u001b[0;32m/usr/local/lib/python3.6/dist-packages/pandas/io/parsers.py\u001b[0m in \u001b[0;36mparser_f\u001b[0;34m(filepath_or_buffer, sep, delimiter, header, names, index_col, usecols, squeeze, prefix, mangle_dupe_cols, dtype, engine, converters, true_values, false_values, skipinitialspace, skiprows, skipfooter, nrows, na_values, keep_default_na, na_filter, verbose, skip_blank_lines, parse_dates, infer_datetime_format, keep_date_col, date_parser, dayfirst, iterator, chunksize, compression, thousands, decimal, lineterminator, quotechar, quoting, doublequote, escapechar, comment, encoding, dialect, tupleize_cols, error_bad_lines, warn_bad_lines, delim_whitespace, low_memory, memory_map, float_precision)\u001b[0m\n\u001b[1;32m    700\u001b[0m                     skip_blank_lines=skip_blank_lines)\n\u001b[1;32m    701\u001b[0m \u001b[0;34m\u001b[0m\u001b[0m\n\u001b[0;32m--> 702\u001b[0;31m         \u001b[0;32mreturn\u001b[0m \u001b[0m_read\u001b[0m\u001b[0;34m(\u001b[0m\u001b[0mfilepath_or_buffer\u001b[0m\u001b[0;34m,\u001b[0m \u001b[0mkwds\u001b[0m\u001b[0;34m)\u001b[0m\u001b[0;34m\u001b[0m\u001b[0;34m\u001b[0m\u001b[0m\n\u001b[0m\u001b[1;32m    703\u001b[0m \u001b[0;34m\u001b[0m\u001b[0m\n\u001b[1;32m    704\u001b[0m     \u001b[0mparser_f\u001b[0m\u001b[0;34m.\u001b[0m\u001b[0m__name__\u001b[0m \u001b[0;34m=\u001b[0m \u001b[0mname\u001b[0m\u001b[0;34m\u001b[0m\u001b[0;34m\u001b[0m\u001b[0m\n",
      "\u001b[0;32m/usr/local/lib/python3.6/dist-packages/pandas/io/parsers.py\u001b[0m in \u001b[0;36m_read\u001b[0;34m(filepath_or_buffer, kwds)\u001b[0m\n\u001b[1;32m    427\u001b[0m \u001b[0;34m\u001b[0m\u001b[0m\n\u001b[1;32m    428\u001b[0m     \u001b[0;31m# Create the parser.\u001b[0m\u001b[0;34m\u001b[0m\u001b[0;34m\u001b[0m\u001b[0;34m\u001b[0m\u001b[0m\n\u001b[0;32m--> 429\u001b[0;31m     \u001b[0mparser\u001b[0m \u001b[0;34m=\u001b[0m \u001b[0mTextFileReader\u001b[0m\u001b[0;34m(\u001b[0m\u001b[0mfilepath_or_buffer\u001b[0m\u001b[0;34m,\u001b[0m \u001b[0;34m**\u001b[0m\u001b[0mkwds\u001b[0m\u001b[0;34m)\u001b[0m\u001b[0;34m\u001b[0m\u001b[0;34m\u001b[0m\u001b[0m\n\u001b[0m\u001b[1;32m    430\u001b[0m \u001b[0;34m\u001b[0m\u001b[0m\n\u001b[1;32m    431\u001b[0m     \u001b[0;32mif\u001b[0m \u001b[0mchunksize\u001b[0m \u001b[0;32mor\u001b[0m \u001b[0miterator\u001b[0m\u001b[0;34m:\u001b[0m\u001b[0;34m\u001b[0m\u001b[0;34m\u001b[0m\u001b[0m\n",
      "\u001b[0;32m/usr/local/lib/python3.6/dist-packages/pandas/io/parsers.py\u001b[0m in \u001b[0;36m__init__\u001b[0;34m(self, f, engine, **kwds)\u001b[0m\n\u001b[1;32m    893\u001b[0m             \u001b[0mself\u001b[0m\u001b[0;34m.\u001b[0m\u001b[0moptions\u001b[0m\u001b[0;34m[\u001b[0m\u001b[0;34m'has_index_names'\u001b[0m\u001b[0;34m]\u001b[0m \u001b[0;34m=\u001b[0m \u001b[0mkwds\u001b[0m\u001b[0;34m[\u001b[0m\u001b[0;34m'has_index_names'\u001b[0m\u001b[0;34m]\u001b[0m\u001b[0;34m\u001b[0m\u001b[0;34m\u001b[0m\u001b[0m\n\u001b[1;32m    894\u001b[0m \u001b[0;34m\u001b[0m\u001b[0m\n\u001b[0;32m--> 895\u001b[0;31m         \u001b[0mself\u001b[0m\u001b[0;34m.\u001b[0m\u001b[0m_make_engine\u001b[0m\u001b[0;34m(\u001b[0m\u001b[0mself\u001b[0m\u001b[0;34m.\u001b[0m\u001b[0mengine\u001b[0m\u001b[0;34m)\u001b[0m\u001b[0;34m\u001b[0m\u001b[0;34m\u001b[0m\u001b[0m\n\u001b[0m\u001b[1;32m    896\u001b[0m \u001b[0;34m\u001b[0m\u001b[0m\n\u001b[1;32m    897\u001b[0m     \u001b[0;32mdef\u001b[0m \u001b[0mclose\u001b[0m\u001b[0;34m(\u001b[0m\u001b[0mself\u001b[0m\u001b[0;34m)\u001b[0m\u001b[0;34m:\u001b[0m\u001b[0;34m\u001b[0m\u001b[0;34m\u001b[0m\u001b[0m\n",
      "\u001b[0;32m/usr/local/lib/python3.6/dist-packages/pandas/io/parsers.py\u001b[0m in \u001b[0;36m_make_engine\u001b[0;34m(self, engine)\u001b[0m\n\u001b[1;32m   1120\u001b[0m     \u001b[0;32mdef\u001b[0m \u001b[0m_make_engine\u001b[0m\u001b[0;34m(\u001b[0m\u001b[0mself\u001b[0m\u001b[0;34m,\u001b[0m \u001b[0mengine\u001b[0m\u001b[0;34m=\u001b[0m\u001b[0;34m'c'\u001b[0m\u001b[0;34m)\u001b[0m\u001b[0;34m:\u001b[0m\u001b[0;34m\u001b[0m\u001b[0;34m\u001b[0m\u001b[0m\n\u001b[1;32m   1121\u001b[0m         \u001b[0;32mif\u001b[0m \u001b[0mengine\u001b[0m \u001b[0;34m==\u001b[0m \u001b[0;34m'c'\u001b[0m\u001b[0;34m:\u001b[0m\u001b[0;34m\u001b[0m\u001b[0;34m\u001b[0m\u001b[0m\n\u001b[0;32m-> 1122\u001b[0;31m             \u001b[0mself\u001b[0m\u001b[0;34m.\u001b[0m\u001b[0m_engine\u001b[0m \u001b[0;34m=\u001b[0m \u001b[0mCParserWrapper\u001b[0m\u001b[0;34m(\u001b[0m\u001b[0mself\u001b[0m\u001b[0;34m.\u001b[0m\u001b[0mf\u001b[0m\u001b[0;34m,\u001b[0m \u001b[0;34m**\u001b[0m\u001b[0mself\u001b[0m\u001b[0;34m.\u001b[0m\u001b[0moptions\u001b[0m\u001b[0;34m)\u001b[0m\u001b[0;34m\u001b[0m\u001b[0;34m\u001b[0m\u001b[0m\n\u001b[0m\u001b[1;32m   1123\u001b[0m         \u001b[0;32melse\u001b[0m\u001b[0;34m:\u001b[0m\u001b[0;34m\u001b[0m\u001b[0;34m\u001b[0m\u001b[0m\n\u001b[1;32m   1124\u001b[0m             \u001b[0;32mif\u001b[0m \u001b[0mengine\u001b[0m \u001b[0;34m==\u001b[0m \u001b[0;34m'python'\u001b[0m\u001b[0;34m:\u001b[0m\u001b[0;34m\u001b[0m\u001b[0;34m\u001b[0m\u001b[0m\n",
      "\u001b[0;32m/usr/local/lib/python3.6/dist-packages/pandas/io/parsers.py\u001b[0m in \u001b[0;36m__init__\u001b[0;34m(self, src, **kwds)\u001b[0m\n\u001b[1;32m   1851\u001b[0m         \u001b[0mkwds\u001b[0m\u001b[0;34m[\u001b[0m\u001b[0;34m'usecols'\u001b[0m\u001b[0;34m]\u001b[0m \u001b[0;34m=\u001b[0m \u001b[0mself\u001b[0m\u001b[0;34m.\u001b[0m\u001b[0musecols\u001b[0m\u001b[0;34m\u001b[0m\u001b[0;34m\u001b[0m\u001b[0m\n\u001b[1;32m   1852\u001b[0m \u001b[0;34m\u001b[0m\u001b[0m\n\u001b[0;32m-> 1853\u001b[0;31m         \u001b[0mself\u001b[0m\u001b[0;34m.\u001b[0m\u001b[0m_reader\u001b[0m \u001b[0;34m=\u001b[0m \u001b[0mparsers\u001b[0m\u001b[0;34m.\u001b[0m\u001b[0mTextReader\u001b[0m\u001b[0;34m(\u001b[0m\u001b[0msrc\u001b[0m\u001b[0;34m,\u001b[0m \u001b[0;34m**\u001b[0m\u001b[0mkwds\u001b[0m\u001b[0;34m)\u001b[0m\u001b[0;34m\u001b[0m\u001b[0;34m\u001b[0m\u001b[0m\n\u001b[0m\u001b[1;32m   1854\u001b[0m         \u001b[0mself\u001b[0m\u001b[0;34m.\u001b[0m\u001b[0munnamed_cols\u001b[0m \u001b[0;34m=\u001b[0m \u001b[0mself\u001b[0m\u001b[0;34m.\u001b[0m\u001b[0m_reader\u001b[0m\u001b[0;34m.\u001b[0m\u001b[0munnamed_cols\u001b[0m\u001b[0;34m\u001b[0m\u001b[0;34m\u001b[0m\u001b[0m\n\u001b[1;32m   1855\u001b[0m \u001b[0;34m\u001b[0m\u001b[0m\n",
      "\u001b[0;32mpandas/_libs/parsers.pyx\u001b[0m in \u001b[0;36mpandas._libs.parsers.TextReader.__cinit__\u001b[0;34m()\u001b[0m\n",
      "\u001b[0;32mpandas/_libs/parsers.pyx\u001b[0m in \u001b[0;36mpandas._libs.parsers.TextReader._setup_parser_source\u001b[0;34m()\u001b[0m\n",
      "\u001b[0;31mFileNotFoundError\u001b[0m: [Errno 2] File b'titanic.csv' does not exist: b'titanic.csv'"
     ]
    }
   ]
  },
  {
   "cell_type": "code",
   "metadata": {
    "pycharm": {
     "name": "#%%\n",
     "is_executing": false
    },
    "id": "t9ClP6Y7-9x3",
    "colab_type": "code",
    "colab": {}
   },
   "source": [
    "df.columns.size\n"
   ],
   "execution_count": 0,
   "outputs": []
  },
  {
   "cell_type": "code",
   "metadata": {
    "pycharm": {
     "name": "#%%\n",
     "is_executing": false
    },
    "id": "ouAa6FQV-9x5",
    "colab_type": "code",
    "colab": {}
   },
   "source": [
    "df.rows"
   ],
   "execution_count": 0,
   "outputs": []
  },
  {
   "cell_type": "code",
   "metadata": {
    "pycharm": {
     "name": "#%%\n",
     "is_executing": false
    },
    "id": "t7AY39_3-9x6",
    "colab_type": "code",
    "outputId": "9fdea2d5-c1d0-456b-f199-7c66b657ce93",
    "colab": {
     "base_uri": "https://localhost:8080/",
     "height": 180
    }
   },
   "source": [
    "\n",
    "df.shape"
   ],
   "execution_count": 0,
   "outputs": [
    {
     "output_type": "error",
     "ename": "NameError",
     "evalue": "ignored",
     "traceback": [
      "\u001b[0;31m---------------------------------------------------------------------------\u001b[0m",
      "\u001b[0;31mNameError\u001b[0m                                 Traceback (most recent call last)",
      "\u001b[0;32m<ipython-input-27-2cff99cc0137>\u001b[0m in \u001b[0;36m<module>\u001b[0;34m()\u001b[0m\n\u001b[1;32m      1\u001b[0m \u001b[0;34m\u001b[0m\u001b[0m\n\u001b[0;32m----> 2\u001b[0;31m \u001b[0mdf\u001b[0m\u001b[0;34m.\u001b[0m\u001b[0mshape\u001b[0m\u001b[0;34m\u001b[0m\u001b[0;34m\u001b[0m\u001b[0m\n\u001b[0m",
      "\u001b[0;31mNameError\u001b[0m: name 'df' is not defined"
     ]
    }
   ]
  },
  {
   "cell_type": "code",
   "metadata": {
    "pycharm": {
     "name": "#%%\n",
     "is_executing": false
    },
    "id": "3cd4XN91-9x8",
    "colab_type": "code",
    "colab": {}
   },
   "source": [
    "df.describe()"
   ],
   "execution_count": 0,
   "outputs": []
  },
  {
   "cell_type": "code",
   "metadata": {
    "pycharm": {
     "name": "#%%\n",
     "is_executing": false
    },
    "id": "zsK-Zq2u-9x-",
    "colab_type": "code",
    "colab": {}
   },
   "source": [
    "df.dtypes"
   ],
   "execution_count": 0,
   "outputs": []
  },
  {
   "cell_type": "code",
   "metadata": {
    "pycharm": {
     "name": "#%%\n",
     "is_executing": false
    },
    "id": "H_v7rBo9-9yA",
    "colab_type": "code",
    "colab": {}
   },
   "source": [
    "df.info()"
   ],
   "execution_count": 0,
   "outputs": []
  },
  {
   "cell_type": "code",
   "metadata": {
    "pycharm": {
     "name": "#%%\n",
     "is_executing": false
    },
    "id": "olvM3Plu-9yC",
    "colab_type": "code",
    "outputId": "b557e528-f5e7-4e55-e87f-108bf364e790",
    "colab": {
     "base_uri": "https://localhost:8080/",
     "height": 163
    }
   },
   "source": [
    "df.get_dtype_counts()"
   ],
   "execution_count": 0,
   "outputs": [
    {
     "output_type": "error",
     "ename": "NameError",
     "evalue": "ignored",
     "traceback": [
      "\u001b[0;31m---------------------------------------------------------------------------\u001b[0m",
      "\u001b[0;31mNameError\u001b[0m                                 Traceback (most recent call last)",
      "\u001b[0;32m<ipython-input-28-c272734f6f79>\u001b[0m in \u001b[0;36m<module>\u001b[0;34m()\u001b[0m\n\u001b[0;32m----> 1\u001b[0;31m \u001b[0mdf\u001b[0m\u001b[0;34m.\u001b[0m\u001b[0mget_dtype_counts\u001b[0m\u001b[0;34m(\u001b[0m\u001b[0;34m)\u001b[0m\u001b[0;34m\u001b[0m\u001b[0;34m\u001b[0m\u001b[0m\n\u001b[0m",
      "\u001b[0;31mNameError\u001b[0m: name 'df' is not defined"
     ]
    }
   ]
  },
  {
   "cell_type": "code",
   "metadata": {
    "pycharm": {
     "name": "#%%\n",
     "is_executing": false
    },
    "id": "80F-qf2a-9yD",
    "colab_type": "code",
    "colab": {}
   },
   "source": [
    "sdf = pd.DataFrame({'A': range(1, 6),\n",
    "'B': range(10, 0, -2),\n",
    "'C C': range(10, 5, -1)})\n",
    "sdf\n",
    "\n"
   ],
   "execution_count": 0,
   "outputs": []
  },
  {
   "cell_type": "code",
   "metadata": {
    "pycharm": {
     "name": "#%%\n",
     "is_executing": false
    },
    "id": "T_c5Act7-9yG",
    "colab_type": "code",
    "colab": {}
   },
   "source": [
    "sdf.query('A > B')"
   ],
   "execution_count": 0,
   "outputs": []
  },
  {
   "cell_type": "code",
   "metadata": {
    "pycharm": {
     "name": "#%%\n",
     "is_executing": false
    },
    "id": "jdzrw0MT-9yI",
    "colab_type": "code",
    "colab": {}
   },
   "source": [
    "sdf[sdf.A > sdf.B]"
   ],
   "execution_count": 0,
   "outputs": []
  },
  {
   "cell_type": "code",
   "metadata": {
    "pycharm": {
     "name": "#%%\n",
     "is_executing": false
    },
    "id": "osaW_xE7-9yK",
    "colab_type": "code",
    "colab": {}
   },
   "source": [
    "sdf.query('B == `C C`')"
   ],
   "execution_count": 0,
   "outputs": []
  },
  {
   "cell_type": "code",
   "metadata": {
    "pycharm": {
     "name": "#%%\n",
     "is_executing": false
    },
    "id": "JmohrbUx-9yM",
    "colab_type": "code",
    "colab": {}
   },
   "source": [
    "sdf[sdf.B == sdf['C C']]"
   ],
   "execution_count": 0,
   "outputs": []
  },
  {
   "cell_type": "code",
   "metadata": {
    "pycharm": {
     "name": "#%%\n",
     "is_executing": false
    },
    "id": "73D7ZV69-9yN",
    "colab_type": "code",
    "outputId": "aeeef04e-63f0-454c-d383-3fa7aba7392e",
    "colab": {
     "base_uri": "https://localhost:8080/",
     "height": 1000
    }
   },
   "source": [
    "student_performance.loc[student_performance.gender == 'female', ['gender', 'lunch']]"
   ],
   "execution_count": 0,
   "outputs": [
    {
     "output_type": "execute_result",
     "data": {
      "text/html": [
       "<div>\n",
       "<style scoped>\n",
       "    .dataframe tbody tr th:only-of-type {\n",
       "        vertical-align: middle;\n",
       "    }\n",
       "\n",
       "    .dataframe tbody tr th {\n",
       "        vertical-align: top;\n",
       "    }\n",
       "\n",
       "    .dataframe thead th {\n",
       "        text-align: right;\n",
       "    }\n",
       "</style>\n",
       "<table border=\"1\" class=\"dataframe\">\n",
       "  <thead>\n",
       "    <tr style=\"text-align: right;\">\n",
       "      <th></th>\n",
       "      <th>gender</th>\n",
       "      <th>lunch</th>\n",
       "    </tr>\n",
       "  </thead>\n",
       "  <tbody>\n",
       "    <tr>\n",
       "      <th>0</th>\n",
       "      <td>female</td>\n",
       "      <td>standard</td>\n",
       "    </tr>\n",
       "    <tr>\n",
       "      <th>1</th>\n",
       "      <td>female</td>\n",
       "      <td>standard</td>\n",
       "    </tr>\n",
       "    <tr>\n",
       "      <th>2</th>\n",
       "      <td>female</td>\n",
       "      <td>standard</td>\n",
       "    </tr>\n",
       "    <tr>\n",
       "      <th>5</th>\n",
       "      <td>female</td>\n",
       "      <td>standard</td>\n",
       "    </tr>\n",
       "    <tr>\n",
       "      <th>6</th>\n",
       "      <td>female</td>\n",
       "      <td>standard</td>\n",
       "    </tr>\n",
       "    <tr>\n",
       "      <th>9</th>\n",
       "      <td>female</td>\n",
       "      <td>free/reduced</td>\n",
       "    </tr>\n",
       "    <tr>\n",
       "      <th>12</th>\n",
       "      <td>female</td>\n",
       "      <td>standard</td>\n",
       "    </tr>\n",
       "    <tr>\n",
       "      <th>14</th>\n",
       "      <td>female</td>\n",
       "      <td>standard</td>\n",
       "    </tr>\n",
       "    <tr>\n",
       "      <th>15</th>\n",
       "      <td>female</td>\n",
       "      <td>standard</td>\n",
       "    </tr>\n",
       "    <tr>\n",
       "      <th>17</th>\n",
       "      <td>female</td>\n",
       "      <td>free/reduced</td>\n",
       "    </tr>\n",
       "    <tr>\n",
       "      <th>19</th>\n",
       "      <td>female</td>\n",
       "      <td>free/reduced</td>\n",
       "    </tr>\n",
       "    <tr>\n",
       "      <th>21</th>\n",
       "      <td>female</td>\n",
       "      <td>free/reduced</td>\n",
       "    </tr>\n",
       "    <tr>\n",
       "      <th>23</th>\n",
       "      <td>female</td>\n",
       "      <td>standard</td>\n",
       "    </tr>\n",
       "    <tr>\n",
       "      <th>27</th>\n",
       "      <td>female</td>\n",
       "      <td>standard</td>\n",
       "    </tr>\n",
       "    <tr>\n",
       "      <th>29</th>\n",
       "      <td>female</td>\n",
       "      <td>standard</td>\n",
       "    </tr>\n",
       "    <tr>\n",
       "      <th>30</th>\n",
       "      <td>female</td>\n",
       "      <td>standard</td>\n",
       "    </tr>\n",
       "    <tr>\n",
       "      <th>31</th>\n",
       "      <td>female</td>\n",
       "      <td>standard</td>\n",
       "    </tr>\n",
       "    <tr>\n",
       "      <th>32</th>\n",
       "      <td>female</td>\n",
       "      <td>free/reduced</td>\n",
       "    </tr>\n",
       "    <tr>\n",
       "      <th>36</th>\n",
       "      <td>female</td>\n",
       "      <td>standard</td>\n",
       "    </tr>\n",
       "    <tr>\n",
       "      <th>37</th>\n",
       "      <td>female</td>\n",
       "      <td>free/reduced</td>\n",
       "    </tr>\n",
       "    <tr>\n",
       "      <th>38</th>\n",
       "      <td>female</td>\n",
       "      <td>free/reduced</td>\n",
       "    </tr>\n",
       "    <tr>\n",
       "      <th>41</th>\n",
       "      <td>female</td>\n",
       "      <td>standard</td>\n",
       "    </tr>\n",
       "    <tr>\n",
       "      <th>42</th>\n",
       "      <td>female</td>\n",
       "      <td>standard</td>\n",
       "    </tr>\n",
       "    <tr>\n",
       "      <th>44</th>\n",
       "      <td>female</td>\n",
       "      <td>free/reduced</td>\n",
       "    </tr>\n",
       "    <tr>\n",
       "      <th>46</th>\n",
       "      <td>female</td>\n",
       "      <td>standard</td>\n",
       "    </tr>\n",
       "    <tr>\n",
       "      <th>47</th>\n",
       "      <td>female</td>\n",
       "      <td>standard</td>\n",
       "    </tr>\n",
       "    <tr>\n",
       "      <th>48</th>\n",
       "      <td>female</td>\n",
       "      <td>free/reduced</td>\n",
       "    </tr>\n",
       "    <tr>\n",
       "      <th>54</th>\n",
       "      <td>female</td>\n",
       "      <td>free/reduced</td>\n",
       "    </tr>\n",
       "    <tr>\n",
       "      <th>55</th>\n",
       "      <td>female</td>\n",
       "      <td>free/reduced</td>\n",
       "    </tr>\n",
       "    <tr>\n",
       "      <th>56</th>\n",
       "      <td>female</td>\n",
       "      <td>standard</td>\n",
       "    </tr>\n",
       "    <tr>\n",
       "      <th>...</th>\n",
       "      <td>...</td>\n",
       "      <td>...</td>\n",
       "    </tr>\n",
       "    <tr>\n",
       "      <th>952</th>\n",
       "      <td>female</td>\n",
       "      <td>free/reduced</td>\n",
       "    </tr>\n",
       "    <tr>\n",
       "      <th>954</th>\n",
       "      <td>female</td>\n",
       "      <td>standard</td>\n",
       "    </tr>\n",
       "    <tr>\n",
       "      <th>957</th>\n",
       "      <td>female</td>\n",
       "      <td>standard</td>\n",
       "    </tr>\n",
       "    <tr>\n",
       "      <th>958</th>\n",
       "      <td>female</td>\n",
       "      <td>standard</td>\n",
       "    </tr>\n",
       "    <tr>\n",
       "      <th>960</th>\n",
       "      <td>female</td>\n",
       "      <td>standard</td>\n",
       "    </tr>\n",
       "    <tr>\n",
       "      <th>961</th>\n",
       "      <td>female</td>\n",
       "      <td>free/reduced</td>\n",
       "    </tr>\n",
       "    <tr>\n",
       "      <th>962</th>\n",
       "      <td>female</td>\n",
       "      <td>standard</td>\n",
       "    </tr>\n",
       "    <tr>\n",
       "      <th>963</th>\n",
       "      <td>female</td>\n",
       "      <td>free/reduced</td>\n",
       "    </tr>\n",
       "    <tr>\n",
       "      <th>965</th>\n",
       "      <td>female</td>\n",
       "      <td>standard</td>\n",
       "    </tr>\n",
       "    <tr>\n",
       "      <th>968</th>\n",
       "      <td>female</td>\n",
       "      <td>standard</td>\n",
       "    </tr>\n",
       "    <tr>\n",
       "      <th>969</th>\n",
       "      <td>female</td>\n",
       "      <td>standard</td>\n",
       "    </tr>\n",
       "    <tr>\n",
       "      <th>970</th>\n",
       "      <td>female</td>\n",
       "      <td>standard</td>\n",
       "    </tr>\n",
       "    <tr>\n",
       "      <th>972</th>\n",
       "      <td>female</td>\n",
       "      <td>free/reduced</td>\n",
       "    </tr>\n",
       "    <tr>\n",
       "      <th>973</th>\n",
       "      <td>female</td>\n",
       "      <td>free/reduced</td>\n",
       "    </tr>\n",
       "    <tr>\n",
       "      <th>974</th>\n",
       "      <td>female</td>\n",
       "      <td>standard</td>\n",
       "    </tr>\n",
       "    <tr>\n",
       "      <th>975</th>\n",
       "      <td>female</td>\n",
       "      <td>standard</td>\n",
       "    </tr>\n",
       "    <tr>\n",
       "      <th>979</th>\n",
       "      <td>female</td>\n",
       "      <td>standard</td>\n",
       "    </tr>\n",
       "    <tr>\n",
       "      <th>980</th>\n",
       "      <td>female</td>\n",
       "      <td>free/reduced</td>\n",
       "    </tr>\n",
       "    <tr>\n",
       "      <th>983</th>\n",
       "      <td>female</td>\n",
       "      <td>standard</td>\n",
       "    </tr>\n",
       "    <tr>\n",
       "      <th>984</th>\n",
       "      <td>female</td>\n",
       "      <td>standard</td>\n",
       "    </tr>\n",
       "    <tr>\n",
       "      <th>986</th>\n",
       "      <td>female</td>\n",
       "      <td>standard</td>\n",
       "    </tr>\n",
       "    <tr>\n",
       "      <th>988</th>\n",
       "      <td>female</td>\n",
       "      <td>free/reduced</td>\n",
       "    </tr>\n",
       "    <tr>\n",
       "      <th>989</th>\n",
       "      <td>female</td>\n",
       "      <td>free/reduced</td>\n",
       "    </tr>\n",
       "    <tr>\n",
       "      <th>991</th>\n",
       "      <td>female</td>\n",
       "      <td>standard</td>\n",
       "    </tr>\n",
       "    <tr>\n",
       "      <th>992</th>\n",
       "      <td>female</td>\n",
       "      <td>free/reduced</td>\n",
       "    </tr>\n",
       "    <tr>\n",
       "      <th>993</th>\n",
       "      <td>female</td>\n",
       "      <td>free/reduced</td>\n",
       "    </tr>\n",
       "    <tr>\n",
       "      <th>995</th>\n",
       "      <td>female</td>\n",
       "      <td>standard</td>\n",
       "    </tr>\n",
       "    <tr>\n",
       "      <th>997</th>\n",
       "      <td>female</td>\n",
       "      <td>free/reduced</td>\n",
       "    </tr>\n",
       "    <tr>\n",
       "      <th>998</th>\n",
       "      <td>female</td>\n",
       "      <td>standard</td>\n",
       "    </tr>\n",
       "    <tr>\n",
       "      <th>999</th>\n",
       "      <td>female</td>\n",
       "      <td>free/reduced</td>\n",
       "    </tr>\n",
       "  </tbody>\n",
       "</table>\n",
       "<p>518 rows × 2 columns</p>\n",
       "</div>"
      ],
      "text/plain": [
       "     gender         lunch\n",
       "0    female      standard\n",
       "1    female      standard\n",
       "2    female      standard\n",
       "5    female      standard\n",
       "6    female      standard\n",
       "9    female  free/reduced\n",
       "12   female      standard\n",
       "14   female      standard\n",
       "15   female      standard\n",
       "17   female  free/reduced\n",
       "19   female  free/reduced\n",
       "21   female  free/reduced\n",
       "23   female      standard\n",
       "27   female      standard\n",
       "29   female      standard\n",
       "30   female      standard\n",
       "31   female      standard\n",
       "32   female  free/reduced\n",
       "36   female      standard\n",
       "37   female  free/reduced\n",
       "38   female  free/reduced\n",
       "41   female      standard\n",
       "42   female      standard\n",
       "44   female  free/reduced\n",
       "46   female      standard\n",
       "47   female      standard\n",
       "48   female  free/reduced\n",
       "54   female  free/reduced\n",
       "55   female  free/reduced\n",
       "56   female      standard\n",
       "..      ...           ...\n",
       "952  female  free/reduced\n",
       "954  female      standard\n",
       "957  female      standard\n",
       "958  female      standard\n",
       "960  female      standard\n",
       "961  female  free/reduced\n",
       "962  female      standard\n",
       "963  female  free/reduced\n",
       "965  female      standard\n",
       "968  female      standard\n",
       "969  female      standard\n",
       "970  female      standard\n",
       "972  female  free/reduced\n",
       "973  female  free/reduced\n",
       "974  female      standard\n",
       "975  female      standard\n",
       "979  female      standard\n",
       "980  female  free/reduced\n",
       "983  female      standard\n",
       "984  female      standard\n",
       "986  female      standard\n",
       "988  female  free/reduced\n",
       "989  female  free/reduced\n",
       "991  female      standard\n",
       "992  female  free/reduced\n",
       "993  female  free/reduced\n",
       "995  female      standard\n",
       "997  female  free/reduced\n",
       "998  female      standard\n",
       "999  female  free/reduced\n",
       "\n",
       "[518 rows x 2 columns]"
      ]
     },
     "metadata": {
      "tags": []
     },
     "execution_count": 79
    }
   ]
  },
  {
   "cell_type": "code",
   "metadata": {
    "pycharm": {
     "name": "#%%\n",
     "is_executing": false
    },
    "id": "BclRnB6m-9yP",
    "colab_type": "code",
    "outputId": "d75fd529-2c18-4359-8fb8-42c01989ca94",
    "colab": {
     "base_uri": "https://localhost:8080/",
     "height": 204
    }
   },
   "source": [
    "\n",
    "student_performance[0:5][['gender', 'lunch']]"
   ],
   "execution_count": 0,
   "outputs": [
    {
     "output_type": "execute_result",
     "data": {
      "text/html": [
       "<div>\n",
       "<style scoped>\n",
       "    .dataframe tbody tr th:only-of-type {\n",
       "        vertical-align: middle;\n",
       "    }\n",
       "\n",
       "    .dataframe tbody tr th {\n",
       "        vertical-align: top;\n",
       "    }\n",
       "\n",
       "    .dataframe thead th {\n",
       "        text-align: right;\n",
       "    }\n",
       "</style>\n",
       "<table border=\"1\" class=\"dataframe\">\n",
       "  <thead>\n",
       "    <tr style=\"text-align: right;\">\n",
       "      <th></th>\n",
       "      <th>gender</th>\n",
       "      <th>lunch</th>\n",
       "    </tr>\n",
       "  </thead>\n",
       "  <tbody>\n",
       "    <tr>\n",
       "      <th>0</th>\n",
       "      <td>female</td>\n",
       "      <td>standard</td>\n",
       "    </tr>\n",
       "    <tr>\n",
       "      <th>1</th>\n",
       "      <td>female</td>\n",
       "      <td>standard</td>\n",
       "    </tr>\n",
       "    <tr>\n",
       "      <th>2</th>\n",
       "      <td>female</td>\n",
       "      <td>standard</td>\n",
       "    </tr>\n",
       "    <tr>\n",
       "      <th>3</th>\n",
       "      <td>male</td>\n",
       "      <td>free/reduced</td>\n",
       "    </tr>\n",
       "    <tr>\n",
       "      <th>4</th>\n",
       "      <td>male</td>\n",
       "      <td>standard</td>\n",
       "    </tr>\n",
       "  </tbody>\n",
       "</table>\n",
       "</div>"
      ],
      "text/plain": [
       "   gender         lunch\n",
       "0  female      standard\n",
       "1  female      standard\n",
       "2  female      standard\n",
       "3    male  free/reduced\n",
       "4    male      standard"
      ]
     },
     "metadata": {
      "tags": []
     },
     "execution_count": 85
    }
   ]
  },
  {
   "cell_type": "code",
   "metadata": {
    "pycharm": {
     "name": "#%%\n",
     "is_executing": false
    },
    "id": "L0WtM-y0-9yU",
    "colab_type": "code",
    "outputId": "5de06250-297e-4903-eb6a-961782874fa8",
    "colab": {
     "base_uri": "https://localhost:8080/",
     "height": 1000
    }
   },
   "source": [
    "student_performance.loc[student_performance['writing_score'] > 85]\n"
   ],
   "execution_count": 0,
   "outputs": [
    {
     "output_type": "execute_result",
     "data": {
      "text/html": [
       "<div>\n",
       "<style scoped>\n",
       "    .dataframe tbody tr th:only-of-type {\n",
       "        vertical-align: middle;\n",
       "    }\n",
       "\n",
       "    .dataframe tbody tr th {\n",
       "        vertical-align: top;\n",
       "    }\n",
       "\n",
       "    .dataframe thead th {\n",
       "        text-align: right;\n",
       "    }\n",
       "</style>\n",
       "<table border=\"1\" class=\"dataframe\">\n",
       "  <thead>\n",
       "    <tr style=\"text-align: right;\">\n",
       "      <th></th>\n",
       "      <th>gender</th>\n",
       "      <th>race/ethnicity</th>\n",
       "      <th>parental_level_of_education</th>\n",
       "      <th>lunch</th>\n",
       "      <th>test_preparation_course</th>\n",
       "      <th>math_score</th>\n",
       "      <th>reading_score</th>\n",
       "      <th>writing_score</th>\n",
       "    </tr>\n",
       "  </thead>\n",
       "  <tbody>\n",
       "    <tr>\n",
       "      <th>1</th>\n",
       "      <td>female</td>\n",
       "      <td>group C</td>\n",
       "      <td>some college</td>\n",
       "      <td>standard</td>\n",
       "      <td>completed</td>\n",
       "      <td>69</td>\n",
       "      <td>90</td>\n",
       "      <td>88</td>\n",
       "    </tr>\n",
       "    <tr>\n",
       "      <th>2</th>\n",
       "      <td>female</td>\n",
       "      <td>group B</td>\n",
       "      <td>master's degree</td>\n",
       "      <td>standard</td>\n",
       "      <td>none</td>\n",
       "      <td>90</td>\n",
       "      <td>95</td>\n",
       "      <td>93</td>\n",
       "    </tr>\n",
       "    <tr>\n",
       "      <th>6</th>\n",
       "      <td>female</td>\n",
       "      <td>group B</td>\n",
       "      <td>some college</td>\n",
       "      <td>standard</td>\n",
       "      <td>completed</td>\n",
       "      <td>88</td>\n",
       "      <td>95</td>\n",
       "      <td>92</td>\n",
       "    </tr>\n",
       "    <tr>\n",
       "      <th>16</th>\n",
       "      <td>male</td>\n",
       "      <td>group C</td>\n",
       "      <td>high school</td>\n",
       "      <td>standard</td>\n",
       "      <td>none</td>\n",
       "      <td>88</td>\n",
       "      <td>89</td>\n",
       "      <td>86</td>\n",
       "    </tr>\n",
       "    <tr>\n",
       "      <th>38</th>\n",
       "      <td>female</td>\n",
       "      <td>group D</td>\n",
       "      <td>associate's degree</td>\n",
       "      <td>free/reduced</td>\n",
       "      <td>completed</td>\n",
       "      <td>75</td>\n",
       "      <td>90</td>\n",
       "      <td>88</td>\n",
       "    </tr>\n",
       "    <tr>\n",
       "      <th>54</th>\n",
       "      <td>female</td>\n",
       "      <td>group C</td>\n",
       "      <td>some high school</td>\n",
       "      <td>free/reduced</td>\n",
       "      <td>completed</td>\n",
       "      <td>71</td>\n",
       "      <td>84</td>\n",
       "      <td>87</td>\n",
       "    </tr>\n",
       "    <tr>\n",
       "      <th>56</th>\n",
       "      <td>female</td>\n",
       "      <td>group E</td>\n",
       "      <td>associate's degree</td>\n",
       "      <td>standard</td>\n",
       "      <td>completed</td>\n",
       "      <td>82</td>\n",
       "      <td>85</td>\n",
       "      <td>86</td>\n",
       "    </tr>\n",
       "    <tr>\n",
       "      <th>86</th>\n",
       "      <td>female</td>\n",
       "      <td>group C</td>\n",
       "      <td>some college</td>\n",
       "      <td>free/reduced</td>\n",
       "      <td>none</td>\n",
       "      <td>76</td>\n",
       "      <td>83</td>\n",
       "      <td>88</td>\n",
       "    </tr>\n",
       "    <tr>\n",
       "      <th>94</th>\n",
       "      <td>female</td>\n",
       "      <td>group B</td>\n",
       "      <td>some college</td>\n",
       "      <td>standard</td>\n",
       "      <td>none</td>\n",
       "      <td>79</td>\n",
       "      <td>86</td>\n",
       "      <td>92</td>\n",
       "    </tr>\n",
       "    <tr>\n",
       "      <th>102</th>\n",
       "      <td>female</td>\n",
       "      <td>group D</td>\n",
       "      <td>associate's degree</td>\n",
       "      <td>standard</td>\n",
       "      <td>none</td>\n",
       "      <td>85</td>\n",
       "      <td>91</td>\n",
       "      <td>89</td>\n",
       "    </tr>\n",
       "    <tr>\n",
       "      <th>104</th>\n",
       "      <td>male</td>\n",
       "      <td>group C</td>\n",
       "      <td>some college</td>\n",
       "      <td>standard</td>\n",
       "      <td>completed</td>\n",
       "      <td>98</td>\n",
       "      <td>86</td>\n",
       "      <td>90</td>\n",
       "    </tr>\n",
       "    <tr>\n",
       "      <th>106</th>\n",
       "      <td>female</td>\n",
       "      <td>group D</td>\n",
       "      <td>master's degree</td>\n",
       "      <td>standard</td>\n",
       "      <td>none</td>\n",
       "      <td>87</td>\n",
       "      <td>100</td>\n",
       "      <td>100</td>\n",
       "    </tr>\n",
       "    <tr>\n",
       "      <th>110</th>\n",
       "      <td>female</td>\n",
       "      <td>group D</td>\n",
       "      <td>associate's degree</td>\n",
       "      <td>free/reduced</td>\n",
       "      <td>completed</td>\n",
       "      <td>77</td>\n",
       "      <td>89</td>\n",
       "      <td>98</td>\n",
       "    </tr>\n",
       "    <tr>\n",
       "      <th>114</th>\n",
       "      <td>female</td>\n",
       "      <td>group E</td>\n",
       "      <td>bachelor's degree</td>\n",
       "      <td>standard</td>\n",
       "      <td>completed</td>\n",
       "      <td>99</td>\n",
       "      <td>100</td>\n",
       "      <td>100</td>\n",
       "    </tr>\n",
       "    <tr>\n",
       "      <th>120</th>\n",
       "      <td>female</td>\n",
       "      <td>group C</td>\n",
       "      <td>bachelor's degree</td>\n",
       "      <td>standard</td>\n",
       "      <td>completed</td>\n",
       "      <td>79</td>\n",
       "      <td>92</td>\n",
       "      <td>89</td>\n",
       "    </tr>\n",
       "    <tr>\n",
       "      <th>121</th>\n",
       "      <td>male</td>\n",
       "      <td>group B</td>\n",
       "      <td>associate's degree</td>\n",
       "      <td>standard</td>\n",
       "      <td>completed</td>\n",
       "      <td>91</td>\n",
       "      <td>89</td>\n",
       "      <td>92</td>\n",
       "    </tr>\n",
       "    <tr>\n",
       "      <th>122</th>\n",
       "      <td>female</td>\n",
       "      <td>group C</td>\n",
       "      <td>some college</td>\n",
       "      <td>standard</td>\n",
       "      <td>completed</td>\n",
       "      <td>88</td>\n",
       "      <td>93</td>\n",
       "      <td>93</td>\n",
       "    </tr>\n",
       "    <tr>\n",
       "      <th>125</th>\n",
       "      <td>female</td>\n",
       "      <td>group B</td>\n",
       "      <td>high school</td>\n",
       "      <td>standard</td>\n",
       "      <td>none</td>\n",
       "      <td>87</td>\n",
       "      <td>95</td>\n",
       "      <td>86</td>\n",
       "    </tr>\n",
       "    <tr>\n",
       "      <th>149</th>\n",
       "      <td>male</td>\n",
       "      <td>group E</td>\n",
       "      <td>associate's degree</td>\n",
       "      <td>free/reduced</td>\n",
       "      <td>completed</td>\n",
       "      <td>100</td>\n",
       "      <td>100</td>\n",
       "      <td>93</td>\n",
       "    </tr>\n",
       "    <tr>\n",
       "      <th>155</th>\n",
       "      <td>female</td>\n",
       "      <td>group C</td>\n",
       "      <td>some college</td>\n",
       "      <td>standard</td>\n",
       "      <td>completed</td>\n",
       "      <td>70</td>\n",
       "      <td>89</td>\n",
       "      <td>88</td>\n",
       "    </tr>\n",
       "    <tr>\n",
       "      <th>158</th>\n",
       "      <td>female</td>\n",
       "      <td>group B</td>\n",
       "      <td>associate's degree</td>\n",
       "      <td>standard</td>\n",
       "      <td>completed</td>\n",
       "      <td>61</td>\n",
       "      <td>86</td>\n",
       "      <td>87</td>\n",
       "    </tr>\n",
       "    <tr>\n",
       "      <th>164</th>\n",
       "      <td>female</td>\n",
       "      <td>group E</td>\n",
       "      <td>master's degree</td>\n",
       "      <td>standard</td>\n",
       "      <td>none</td>\n",
       "      <td>81</td>\n",
       "      <td>92</td>\n",
       "      <td>91</td>\n",
       "    </tr>\n",
       "    <tr>\n",
       "      <th>165</th>\n",
       "      <td>female</td>\n",
       "      <td>group C</td>\n",
       "      <td>bachelor's degree</td>\n",
       "      <td>standard</td>\n",
       "      <td>completed</td>\n",
       "      <td>96</td>\n",
       "      <td>100</td>\n",
       "      <td>100</td>\n",
       "    </tr>\n",
       "    <tr>\n",
       "      <th>175</th>\n",
       "      <td>female</td>\n",
       "      <td>group C</td>\n",
       "      <td>master's degree</td>\n",
       "      <td>standard</td>\n",
       "      <td>completed</td>\n",
       "      <td>81</td>\n",
       "      <td>91</td>\n",
       "      <td>87</td>\n",
       "    </tr>\n",
       "    <tr>\n",
       "      <th>179</th>\n",
       "      <td>female</td>\n",
       "      <td>group D</td>\n",
       "      <td>some high school</td>\n",
       "      <td>standard</td>\n",
       "      <td>completed</td>\n",
       "      <td>97</td>\n",
       "      <td>100</td>\n",
       "      <td>100</td>\n",
       "    </tr>\n",
       "    <tr>\n",
       "      <th>189</th>\n",
       "      <td>female</td>\n",
       "      <td>group C</td>\n",
       "      <td>bachelor's degree</td>\n",
       "      <td>standard</td>\n",
       "      <td>none</td>\n",
       "      <td>77</td>\n",
       "      <td>88</td>\n",
       "      <td>87</td>\n",
       "    </tr>\n",
       "    <tr>\n",
       "      <th>200</th>\n",
       "      <td>female</td>\n",
       "      <td>group C</td>\n",
       "      <td>associate's degree</td>\n",
       "      <td>standard</td>\n",
       "      <td>completed</td>\n",
       "      <td>67</td>\n",
       "      <td>84</td>\n",
       "      <td>86</td>\n",
       "    </tr>\n",
       "    <tr>\n",
       "      <th>216</th>\n",
       "      <td>female</td>\n",
       "      <td>group E</td>\n",
       "      <td>associate's degree</td>\n",
       "      <td>free/reduced</td>\n",
       "      <td>completed</td>\n",
       "      <td>83</td>\n",
       "      <td>86</td>\n",
       "      <td>88</td>\n",
       "    </tr>\n",
       "    <tr>\n",
       "      <th>229</th>\n",
       "      <td>female</td>\n",
       "      <td>group C</td>\n",
       "      <td>some college</td>\n",
       "      <td>standard</td>\n",
       "      <td>completed</td>\n",
       "      <td>88</td>\n",
       "      <td>95</td>\n",
       "      <td>94</td>\n",
       "    </tr>\n",
       "    <tr>\n",
       "      <th>263</th>\n",
       "      <td>female</td>\n",
       "      <td>group E</td>\n",
       "      <td>high school</td>\n",
       "      <td>standard</td>\n",
       "      <td>none</td>\n",
       "      <td>99</td>\n",
       "      <td>93</td>\n",
       "      <td>90</td>\n",
       "    </tr>\n",
       "    <tr>\n",
       "      <th>...</th>\n",
       "      <td>...</td>\n",
       "      <td>...</td>\n",
       "      <td>...</td>\n",
       "      <td>...</td>\n",
       "      <td>...</td>\n",
       "      <td>...</td>\n",
       "      <td>...</td>\n",
       "      <td>...</td>\n",
       "    </tr>\n",
       "    <tr>\n",
       "      <th>802</th>\n",
       "      <td>female</td>\n",
       "      <td>group E</td>\n",
       "      <td>associate's degree</td>\n",
       "      <td>standard</td>\n",
       "      <td>none</td>\n",
       "      <td>87</td>\n",
       "      <td>94</td>\n",
       "      <td>95</td>\n",
       "    </tr>\n",
       "    <tr>\n",
       "      <th>803</th>\n",
       "      <td>female</td>\n",
       "      <td>group B</td>\n",
       "      <td>some college</td>\n",
       "      <td>standard</td>\n",
       "      <td>none</td>\n",
       "      <td>82</td>\n",
       "      <td>85</td>\n",
       "      <td>87</td>\n",
       "    </tr>\n",
       "    <tr>\n",
       "      <th>815</th>\n",
       "      <td>male</td>\n",
       "      <td>group B</td>\n",
       "      <td>some high school</td>\n",
       "      <td>standard</td>\n",
       "      <td>completed</td>\n",
       "      <td>94</td>\n",
       "      <td>86</td>\n",
       "      <td>87</td>\n",
       "    </tr>\n",
       "    <tr>\n",
       "      <th>819</th>\n",
       "      <td>female</td>\n",
       "      <td>group C</td>\n",
       "      <td>some high school</td>\n",
       "      <td>standard</td>\n",
       "      <td>none</td>\n",
       "      <td>77</td>\n",
       "      <td>91</td>\n",
       "      <td>88</td>\n",
       "    </tr>\n",
       "    <tr>\n",
       "      <th>820</th>\n",
       "      <td>female</td>\n",
       "      <td>group A</td>\n",
       "      <td>some high school</td>\n",
       "      <td>standard</td>\n",
       "      <td>completed</td>\n",
       "      <td>85</td>\n",
       "      <td>90</td>\n",
       "      <td>92</td>\n",
       "    </tr>\n",
       "    <tr>\n",
       "      <th>821</th>\n",
       "      <td>female</td>\n",
       "      <td>group D</td>\n",
       "      <td>bachelor's degree</td>\n",
       "      <td>free/reduced</td>\n",
       "      <td>none</td>\n",
       "      <td>78</td>\n",
       "      <td>90</td>\n",
       "      <td>93</td>\n",
       "    </tr>\n",
       "    <tr>\n",
       "      <th>831</th>\n",
       "      <td>female</td>\n",
       "      <td>group C</td>\n",
       "      <td>bachelor's degree</td>\n",
       "      <td>free/reduced</td>\n",
       "      <td>completed</td>\n",
       "      <td>74</td>\n",
       "      <td>86</td>\n",
       "      <td>89</td>\n",
       "    </tr>\n",
       "    <tr>\n",
       "      <th>833</th>\n",
       "      <td>female</td>\n",
       "      <td>group B</td>\n",
       "      <td>high school</td>\n",
       "      <td>standard</td>\n",
       "      <td>completed</td>\n",
       "      <td>77</td>\n",
       "      <td>82</td>\n",
       "      <td>89</td>\n",
       "    </tr>\n",
       "    <tr>\n",
       "      <th>852</th>\n",
       "      <td>female</td>\n",
       "      <td>group E</td>\n",
       "      <td>some college</td>\n",
       "      <td>standard</td>\n",
       "      <td>none</td>\n",
       "      <td>87</td>\n",
       "      <td>85</td>\n",
       "      <td>93</td>\n",
       "    </tr>\n",
       "    <tr>\n",
       "      <th>855</th>\n",
       "      <td>female</td>\n",
       "      <td>group B</td>\n",
       "      <td>bachelor's degree</td>\n",
       "      <td>standard</td>\n",
       "      <td>none</td>\n",
       "      <td>97</td>\n",
       "      <td>97</td>\n",
       "      <td>96</td>\n",
       "    </tr>\n",
       "    <tr>\n",
       "      <th>861</th>\n",
       "      <td>female</td>\n",
       "      <td>group E</td>\n",
       "      <td>master's degree</td>\n",
       "      <td>free/reduced</td>\n",
       "      <td>none</td>\n",
       "      <td>81</td>\n",
       "      <td>86</td>\n",
       "      <td>87</td>\n",
       "    </tr>\n",
       "    <tr>\n",
       "      <th>864</th>\n",
       "      <td>male</td>\n",
       "      <td>group C</td>\n",
       "      <td>associate's degree</td>\n",
       "      <td>standard</td>\n",
       "      <td>none</td>\n",
       "      <td>97</td>\n",
       "      <td>93</td>\n",
       "      <td>91</td>\n",
       "    </tr>\n",
       "    <tr>\n",
       "      <th>865</th>\n",
       "      <td>male</td>\n",
       "      <td>group D</td>\n",
       "      <td>some college</td>\n",
       "      <td>standard</td>\n",
       "      <td>completed</td>\n",
       "      <td>82</td>\n",
       "      <td>82</td>\n",
       "      <td>88</td>\n",
       "    </tr>\n",
       "    <tr>\n",
       "      <th>886</th>\n",
       "      <td>female</td>\n",
       "      <td>group E</td>\n",
       "      <td>associate's degree</td>\n",
       "      <td>standard</td>\n",
       "      <td>completed</td>\n",
       "      <td>93</td>\n",
       "      <td>100</td>\n",
       "      <td>95</td>\n",
       "    </tr>\n",
       "    <tr>\n",
       "      <th>890</th>\n",
       "      <td>female</td>\n",
       "      <td>group E</td>\n",
       "      <td>some college</td>\n",
       "      <td>standard</td>\n",
       "      <td>completed</td>\n",
       "      <td>86</td>\n",
       "      <td>85</td>\n",
       "      <td>91</td>\n",
       "    </tr>\n",
       "    <tr>\n",
       "      <th>900</th>\n",
       "      <td>male</td>\n",
       "      <td>group D</td>\n",
       "      <td>master's degree</td>\n",
       "      <td>standard</td>\n",
       "      <td>none</td>\n",
       "      <td>85</td>\n",
       "      <td>84</td>\n",
       "      <td>89</td>\n",
       "    </tr>\n",
       "    <tr>\n",
       "      <th>903</th>\n",
       "      <td>female</td>\n",
       "      <td>group D</td>\n",
       "      <td>bachelor's degree</td>\n",
       "      <td>free/reduced</td>\n",
       "      <td>completed</td>\n",
       "      <td>93</td>\n",
       "      <td>100</td>\n",
       "      <td>100</td>\n",
       "    </tr>\n",
       "    <tr>\n",
       "      <th>907</th>\n",
       "      <td>female</td>\n",
       "      <td>group D</td>\n",
       "      <td>some college</td>\n",
       "      <td>standard</td>\n",
       "      <td>completed</td>\n",
       "      <td>79</td>\n",
       "      <td>84</td>\n",
       "      <td>91</td>\n",
       "    </tr>\n",
       "    <tr>\n",
       "      <th>916</th>\n",
       "      <td>male</td>\n",
       "      <td>group E</td>\n",
       "      <td>bachelor's degree</td>\n",
       "      <td>standard</td>\n",
       "      <td>completed</td>\n",
       "      <td>100</td>\n",
       "      <td>100</td>\n",
       "      <td>100</td>\n",
       "    </tr>\n",
       "    <tr>\n",
       "      <th>919</th>\n",
       "      <td>male</td>\n",
       "      <td>group B</td>\n",
       "      <td>some college</td>\n",
       "      <td>standard</td>\n",
       "      <td>completed</td>\n",
       "      <td>91</td>\n",
       "      <td>96</td>\n",
       "      <td>91</td>\n",
       "    </tr>\n",
       "    <tr>\n",
       "      <th>934</th>\n",
       "      <td>male</td>\n",
       "      <td>group C</td>\n",
       "      <td>associate's degree</td>\n",
       "      <td>standard</td>\n",
       "      <td>completed</td>\n",
       "      <td>98</td>\n",
       "      <td>87</td>\n",
       "      <td>90</td>\n",
       "    </tr>\n",
       "    <tr>\n",
       "      <th>941</th>\n",
       "      <td>female</td>\n",
       "      <td>group D</td>\n",
       "      <td>master's degree</td>\n",
       "      <td>standard</td>\n",
       "      <td>none</td>\n",
       "      <td>78</td>\n",
       "      <td>91</td>\n",
       "      <td>96</td>\n",
       "    </tr>\n",
       "    <tr>\n",
       "      <th>957</th>\n",
       "      <td>female</td>\n",
       "      <td>group D</td>\n",
       "      <td>master's degree</td>\n",
       "      <td>standard</td>\n",
       "      <td>none</td>\n",
       "      <td>92</td>\n",
       "      <td>100</td>\n",
       "      <td>100</td>\n",
       "    </tr>\n",
       "    <tr>\n",
       "      <th>962</th>\n",
       "      <td>female</td>\n",
       "      <td>group E</td>\n",
       "      <td>associate's degree</td>\n",
       "      <td>standard</td>\n",
       "      <td>none</td>\n",
       "      <td>100</td>\n",
       "      <td>100</td>\n",
       "      <td>100</td>\n",
       "    </tr>\n",
       "    <tr>\n",
       "      <th>970</th>\n",
       "      <td>female</td>\n",
       "      <td>group D</td>\n",
       "      <td>bachelor's degree</td>\n",
       "      <td>standard</td>\n",
       "      <td>none</td>\n",
       "      <td>89</td>\n",
       "      <td>100</td>\n",
       "      <td>100</td>\n",
       "    </tr>\n",
       "    <tr>\n",
       "      <th>979</th>\n",
       "      <td>female</td>\n",
       "      <td>group C</td>\n",
       "      <td>associate's degree</td>\n",
       "      <td>standard</td>\n",
       "      <td>none</td>\n",
       "      <td>91</td>\n",
       "      <td>95</td>\n",
       "      <td>94</td>\n",
       "    </tr>\n",
       "    <tr>\n",
       "      <th>982</th>\n",
       "      <td>male</td>\n",
       "      <td>group B</td>\n",
       "      <td>some high school</td>\n",
       "      <td>standard</td>\n",
       "      <td>completed</td>\n",
       "      <td>79</td>\n",
       "      <td>85</td>\n",
       "      <td>86</td>\n",
       "    </tr>\n",
       "    <tr>\n",
       "      <th>983</th>\n",
       "      <td>female</td>\n",
       "      <td>group A</td>\n",
       "      <td>some college</td>\n",
       "      <td>standard</td>\n",
       "      <td>completed</td>\n",
       "      <td>78</td>\n",
       "      <td>87</td>\n",
       "      <td>91</td>\n",
       "    </tr>\n",
       "    <tr>\n",
       "      <th>995</th>\n",
       "      <td>female</td>\n",
       "      <td>group E</td>\n",
       "      <td>master's degree</td>\n",
       "      <td>standard</td>\n",
       "      <td>completed</td>\n",
       "      <td>88</td>\n",
       "      <td>99</td>\n",
       "      <td>95</td>\n",
       "    </tr>\n",
       "    <tr>\n",
       "      <th>999</th>\n",
       "      <td>female</td>\n",
       "      <td>group D</td>\n",
       "      <td>some college</td>\n",
       "      <td>free/reduced</td>\n",
       "      <td>none</td>\n",
       "      <td>77</td>\n",
       "      <td>86</td>\n",
       "      <td>86</td>\n",
       "    </tr>\n",
       "  </tbody>\n",
       "</table>\n",
       "<p>121 rows × 8 columns</p>\n",
       "</div>"
      ],
      "text/plain": [
       "     gender race/ethnicity  ... reading_score writing_score\n",
       "1    female        group C  ...            90            88\n",
       "2    female        group B  ...            95            93\n",
       "6    female        group B  ...            95            92\n",
       "16     male        group C  ...            89            86\n",
       "38   female        group D  ...            90            88\n",
       "54   female        group C  ...            84            87\n",
       "56   female        group E  ...            85            86\n",
       "86   female        group C  ...            83            88\n",
       "94   female        group B  ...            86            92\n",
       "102  female        group D  ...            91            89\n",
       "104    male        group C  ...            86            90\n",
       "106  female        group D  ...           100           100\n",
       "110  female        group D  ...            89            98\n",
       "114  female        group E  ...           100           100\n",
       "120  female        group C  ...            92            89\n",
       "121    male        group B  ...            89            92\n",
       "122  female        group C  ...            93            93\n",
       "125  female        group B  ...            95            86\n",
       "149    male        group E  ...           100            93\n",
       "155  female        group C  ...            89            88\n",
       "158  female        group B  ...            86            87\n",
       "164  female        group E  ...            92            91\n",
       "165  female        group C  ...           100           100\n",
       "175  female        group C  ...            91            87\n",
       "179  female        group D  ...           100           100\n",
       "189  female        group C  ...            88            87\n",
       "200  female        group C  ...            84            86\n",
       "216  female        group E  ...            86            88\n",
       "229  female        group C  ...            95            94\n",
       "263  female        group E  ...            93            90\n",
       "..      ...            ...  ...           ...           ...\n",
       "802  female        group E  ...            94            95\n",
       "803  female        group B  ...            85            87\n",
       "815    male        group B  ...            86            87\n",
       "819  female        group C  ...            91            88\n",
       "820  female        group A  ...            90            92\n",
       "821  female        group D  ...            90            93\n",
       "831  female        group C  ...            86            89\n",
       "833  female        group B  ...            82            89\n",
       "852  female        group E  ...            85            93\n",
       "855  female        group B  ...            97            96\n",
       "861  female        group E  ...            86            87\n",
       "864    male        group C  ...            93            91\n",
       "865    male        group D  ...            82            88\n",
       "886  female        group E  ...           100            95\n",
       "890  female        group E  ...            85            91\n",
       "900    male        group D  ...            84            89\n",
       "903  female        group D  ...           100           100\n",
       "907  female        group D  ...            84            91\n",
       "916    male        group E  ...           100           100\n",
       "919    male        group B  ...            96            91\n",
       "934    male        group C  ...            87            90\n",
       "941  female        group D  ...            91            96\n",
       "957  female        group D  ...           100           100\n",
       "962  female        group E  ...           100           100\n",
       "970  female        group D  ...           100           100\n",
       "979  female        group C  ...            95            94\n",
       "982    male        group B  ...            85            86\n",
       "983  female        group A  ...            87            91\n",
       "995  female        group E  ...            99            95\n",
       "999  female        group D  ...            86            86\n",
       "\n",
       "[121 rows x 8 columns]"
      ]
     },
     "metadata": {
      "tags": []
     },
     "execution_count": 87
    }
   ]
  },
  {
   "cell_type": "code",
   "metadata": {
    "pycharm": {
     "name": "#%%\n",
     "is_executing": false
    },
    "id": "aV_s3rhp-9yW",
    "colab_type": "code",
    "outputId": "ef5685cc-0cae-44bb-eb74-7522937a4305",
    "colab": {
     "base_uri": "https://localhost:8080/",
     "height": 452
    }
   },
   "source": [
    "student_performance.loc[(student_performance['writing score'] >= 100) & (student_performance.gender == 'female')]"
   ],
   "execution_count": 0,
   "outputs": [
    {
     "output_type": "execute_result",
     "data": {
      "text/html": [
       "<div>\n",
       "<style scoped>\n",
       "    .dataframe tbody tr th:only-of-type {\n",
       "        vertical-align: middle;\n",
       "    }\n",
       "\n",
       "    .dataframe tbody tr th {\n",
       "        vertical-align: top;\n",
       "    }\n",
       "\n",
       "    .dataframe thead th {\n",
       "        text-align: right;\n",
       "    }\n",
       "</style>\n",
       "<table border=\"1\" class=\"dataframe\">\n",
       "  <thead>\n",
       "    <tr style=\"text-align: right;\">\n",
       "      <th></th>\n",
       "      <th>gender</th>\n",
       "      <th>race/ethnicity</th>\n",
       "      <th>parental level of education</th>\n",
       "      <th>lunch</th>\n",
       "      <th>test preparation course</th>\n",
       "      <th>math score</th>\n",
       "      <th>reading score</th>\n",
       "      <th>writing score</th>\n",
       "    </tr>\n",
       "  </thead>\n",
       "  <tbody>\n",
       "    <tr>\n",
       "      <th>106</th>\n",
       "      <td>female</td>\n",
       "      <td>group D</td>\n",
       "      <td>master's degree</td>\n",
       "      <td>standard</td>\n",
       "      <td>none</td>\n",
       "      <td>87</td>\n",
       "      <td>100</td>\n",
       "      <td>100</td>\n",
       "    </tr>\n",
       "    <tr>\n",
       "      <th>114</th>\n",
       "      <td>female</td>\n",
       "      <td>group E</td>\n",
       "      <td>bachelor's degree</td>\n",
       "      <td>standard</td>\n",
       "      <td>completed</td>\n",
       "      <td>99</td>\n",
       "      <td>100</td>\n",
       "      <td>100</td>\n",
       "    </tr>\n",
       "    <tr>\n",
       "      <th>165</th>\n",
       "      <td>female</td>\n",
       "      <td>group C</td>\n",
       "      <td>bachelor's degree</td>\n",
       "      <td>standard</td>\n",
       "      <td>completed</td>\n",
       "      <td>96</td>\n",
       "      <td>100</td>\n",
       "      <td>100</td>\n",
       "    </tr>\n",
       "    <tr>\n",
       "      <th>179</th>\n",
       "      <td>female</td>\n",
       "      <td>group D</td>\n",
       "      <td>some high school</td>\n",
       "      <td>standard</td>\n",
       "      <td>completed</td>\n",
       "      <td>97</td>\n",
       "      <td>100</td>\n",
       "      <td>100</td>\n",
       "    </tr>\n",
       "    <tr>\n",
       "      <th>377</th>\n",
       "      <td>female</td>\n",
       "      <td>group D</td>\n",
       "      <td>master's degree</td>\n",
       "      <td>free/reduced</td>\n",
       "      <td>completed</td>\n",
       "      <td>85</td>\n",
       "      <td>95</td>\n",
       "      <td>100</td>\n",
       "    </tr>\n",
       "    <tr>\n",
       "      <th>403</th>\n",
       "      <td>female</td>\n",
       "      <td>group D</td>\n",
       "      <td>high school</td>\n",
       "      <td>standard</td>\n",
       "      <td>completed</td>\n",
       "      <td>88</td>\n",
       "      <td>99</td>\n",
       "      <td>100</td>\n",
       "    </tr>\n",
       "    <tr>\n",
       "      <th>458</th>\n",
       "      <td>female</td>\n",
       "      <td>group E</td>\n",
       "      <td>bachelor's degree</td>\n",
       "      <td>standard</td>\n",
       "      <td>none</td>\n",
       "      <td>100</td>\n",
       "      <td>100</td>\n",
       "      <td>100</td>\n",
       "    </tr>\n",
       "    <tr>\n",
       "      <th>566</th>\n",
       "      <td>female</td>\n",
       "      <td>group E</td>\n",
       "      <td>bachelor's degree</td>\n",
       "      <td>free/reduced</td>\n",
       "      <td>completed</td>\n",
       "      <td>92</td>\n",
       "      <td>100</td>\n",
       "      <td>100</td>\n",
       "    </tr>\n",
       "    <tr>\n",
       "      <th>685</th>\n",
       "      <td>female</td>\n",
       "      <td>group E</td>\n",
       "      <td>master's degree</td>\n",
       "      <td>standard</td>\n",
       "      <td>completed</td>\n",
       "      <td>94</td>\n",
       "      <td>99</td>\n",
       "      <td>100</td>\n",
       "    </tr>\n",
       "    <tr>\n",
       "      <th>903</th>\n",
       "      <td>female</td>\n",
       "      <td>group D</td>\n",
       "      <td>bachelor's degree</td>\n",
       "      <td>free/reduced</td>\n",
       "      <td>completed</td>\n",
       "      <td>93</td>\n",
       "      <td>100</td>\n",
       "      <td>100</td>\n",
       "    </tr>\n",
       "    <tr>\n",
       "      <th>957</th>\n",
       "      <td>female</td>\n",
       "      <td>group D</td>\n",
       "      <td>master's degree</td>\n",
       "      <td>standard</td>\n",
       "      <td>none</td>\n",
       "      <td>92</td>\n",
       "      <td>100</td>\n",
       "      <td>100</td>\n",
       "    </tr>\n",
       "    <tr>\n",
       "      <th>962</th>\n",
       "      <td>female</td>\n",
       "      <td>group E</td>\n",
       "      <td>associate's degree</td>\n",
       "      <td>standard</td>\n",
       "      <td>none</td>\n",
       "      <td>100</td>\n",
       "      <td>100</td>\n",
       "      <td>100</td>\n",
       "    </tr>\n",
       "    <tr>\n",
       "      <th>970</th>\n",
       "      <td>female</td>\n",
       "      <td>group D</td>\n",
       "      <td>bachelor's degree</td>\n",
       "      <td>standard</td>\n",
       "      <td>none</td>\n",
       "      <td>89</td>\n",
       "      <td>100</td>\n",
       "      <td>100</td>\n",
       "    </tr>\n",
       "  </tbody>\n",
       "</table>\n",
       "</div>"
      ],
      "text/plain": [
       "     gender race/ethnicity  ... reading score writing score\n",
       "106  female        group D  ...           100           100\n",
       "114  female        group E  ...           100           100\n",
       "165  female        group C  ...           100           100\n",
       "179  female        group D  ...           100           100\n",
       "377  female        group D  ...            95           100\n",
       "403  female        group D  ...            99           100\n",
       "458  female        group E  ...           100           100\n",
       "566  female        group E  ...           100           100\n",
       "685  female        group E  ...            99           100\n",
       "903  female        group D  ...           100           100\n",
       "957  female        group D  ...           100           100\n",
       "962  female        group E  ...           100           100\n",
       "970  female        group D  ...           100           100\n",
       "\n",
       "[13 rows x 8 columns]"
      ]
     },
     "metadata": {
      "tags": []
     },
     "execution_count": 33
    }
   ]
  },
  {
   "cell_type": "code",
   "metadata": {
    "pycharm": {
     "name": "#%%\n",
     "is_executing": false
    },
    "id": "qq0wzHc5-9yY",
    "colab_type": "code",
    "outputId": "10b17dfc-6e50-45b4-84d6-01c6bfdddff7",
    "colab": {
     "base_uri": "https://localhost:8080/",
     "height": 34
    }
   },
   "source": [
    "student_performance.loc[student_performance.lunch == 'free/reduced'].size/student_performance.size"
   ],
   "execution_count": 0,
   "outputs": [
    {
     "output_type": "execute_result",
     "data": {
      "text/plain": [
       "0.355"
      ]
     },
     "metadata": {
      "tags": []
     },
     "execution_count": 34
    }
   ]
  },
  {
   "cell_type": "code",
   "metadata": {
    "pycharm": {
     "name": "#%%\n",
     "is_executing": false
    },
    "id": "5bYb1K4x-9ya",
    "colab_type": "code",
    "outputId": "5f1a571f-2ed7-4116-c9df-ab1291a81498",
    "colab": {
     "base_uri": "https://localhost:8080/",
     "height": 111
    }
   },
   "source": [
    "# standard = student_performance.iloc[[0,1],[2,3]]\n",
    "# standard = student_performance.iloc[1:3,0:3]\n",
    "# standard = student_performance.loc[0:2]\n",
    "standard\n",
    "student_performance_with_names.loc[['Cersei', 'Tywin'], ['gender', 'lunch']]"
   ],
   "execution_count": 0,
   "outputs": [
    {
     "output_type": "execute_result",
     "data": {
      "text/html": [
       "<div>\n",
       "<style scoped>\n",
       "    .dataframe tbody tr th:only-of-type {\n",
       "        vertical-align: middle;\n",
       "    }\n",
       "\n",
       "    .dataframe tbody tr th {\n",
       "        vertical-align: top;\n",
       "    }\n",
       "\n",
       "    .dataframe thead th {\n",
       "        text-align: right;\n",
       "    }\n",
       "</style>\n",
       "<table border=\"1\" class=\"dataframe\">\n",
       "  <thead>\n",
       "    <tr style=\"text-align: right;\">\n",
       "      <th></th>\n",
       "      <th>gender</th>\n",
       "      <th>lunch</th>\n",
       "    </tr>\n",
       "  </thead>\n",
       "  <tbody>\n",
       "    <tr>\n",
       "      <th>Cersei</th>\n",
       "      <td>female</td>\n",
       "      <td>standard</td>\n",
       "    </tr>\n",
       "    <tr>\n",
       "      <th>Tywin</th>\n",
       "      <td>male</td>\n",
       "      <td>free/reduced</td>\n",
       "    </tr>\n",
       "  </tbody>\n",
       "</table>\n",
       "</div>"
      ],
      "text/plain": [
       "        gender         lunch\n",
       "Cersei  female      standard\n",
       "Tywin     male  free/reduced"
      ]
     },
     "metadata": {
      "tags": []
     },
     "execution_count": 142
    }
   ]
  },
  {
   "cell_type": "code",
   "metadata": {
    "id": "TDxC5uBkPuV7",
    "colab_type": "code",
    "outputId": "62dbe7cd-3c20-4de0-b182-185aa3eb8a2b",
    "colab": {
     "base_uri": "https://localhost:8080/",
     "height": 142
    }
   },
   "source": [
    "Lstandare = student_performance[0:3][0:4]\n",
    "# standare = student_performance.iloc[0:3,0:3]\n",
    "standare"
   ],
   "execution_count": 0,
   "outputs": [
    {
     "output_type": "execute_result",
     "data": {
      "text/html": [
       "<div>\n",
       "<style scoped>\n",
       "    .dataframe tbody tr th:only-of-type {\n",
       "        vertical-align: middle;\n",
       "    }\n",
       "\n",
       "    .dataframe tbody tr th {\n",
       "        vertical-align: top;\n",
       "    }\n",
       "\n",
       "    .dataframe thead th {\n",
       "        text-align: right;\n",
       "    }\n",
       "</style>\n",
       "<table border=\"1\" class=\"dataframe\">\n",
       "  <thead>\n",
       "    <tr style=\"text-align: right;\">\n",
       "      <th></th>\n",
       "      <th>gender</th>\n",
       "      <th>race/ethnicity</th>\n",
       "      <th>parental_level_of_education</th>\n",
       "      <th>lunch</th>\n",
       "      <th>test_preparation_course</th>\n",
       "      <th>math_score</th>\n",
       "      <th>reading_score</th>\n",
       "      <th>writing_score</th>\n",
       "    </tr>\n",
       "  </thead>\n",
       "  <tbody>\n",
       "    <tr>\n",
       "      <th>0</th>\n",
       "      <td>female</td>\n",
       "      <td>group B</td>\n",
       "      <td>bachelor's degree</td>\n",
       "      <td>standard</td>\n",
       "      <td>none</td>\n",
       "      <td>72</td>\n",
       "      <td>72</td>\n",
       "      <td>74</td>\n",
       "    </tr>\n",
       "    <tr>\n",
       "      <th>1</th>\n",
       "      <td>female</td>\n",
       "      <td>group C</td>\n",
       "      <td>some college</td>\n",
       "      <td>standard</td>\n",
       "      <td>completed</td>\n",
       "      <td>69</td>\n",
       "      <td>90</td>\n",
       "      <td>88</td>\n",
       "    </tr>\n",
       "    <tr>\n",
       "      <th>2</th>\n",
       "      <td>female</td>\n",
       "      <td>group B</td>\n",
       "      <td>master's degree</td>\n",
       "      <td>standard</td>\n",
       "      <td>none</td>\n",
       "      <td>90</td>\n",
       "      <td>95</td>\n",
       "      <td>93</td>\n",
       "    </tr>\n",
       "  </tbody>\n",
       "</table>\n",
       "</div>"
      ],
      "text/plain": [
       "   gender race/ethnicity  ... reading_score writing_score\n",
       "0  female        group B  ...            72            74\n",
       "1  female        group C  ...            90            88\n",
       "2  female        group B  ...            95            93\n",
       "\n",
       "[3 rows x 8 columns]"
      ]
     },
     "metadata": {
      "tags": []
     },
     "execution_count": 122
    }
   ]
  },
  {
   "cell_type": "code",
   "metadata": {
    "id": "9iO3a9FWF1V4",
    "colab_type": "code",
    "colab": {}
   },
   "source": [
    "score1 = student_performance.filter( like='score')\n",
    "standart = student_performance[student_performance.lunch=='standard'], [student_performance.filter(like='score')]\n"
   ],
   "execution_count": 0,
   "outputs": []
  },
  {
   "cell_type": "code",
   "metadata": {
    "pycharm": {
     "name": "#%%\n",
     "is_executing": false
    },
    "id": "VLS8HGxY-9yb",
    "colab_type": "code",
    "outputId": "f40b9ad9-3d77-4f64-fe82-f470ff837316",
    "colab": {
     "base_uri": "https://localhost:8080/",
     "height": 323
    }
   },
   "source": [
    "free_reduced = student_performance.loc[student_performance.lunch == 'free/reduced', ['math score', 'reading score', 'writing score']]\n",
    "free_reduced"
   ],
   "execution_count": 0,
   "outputs": [
    {
     "output_type": "error",
     "ename": "KeyError",
     "evalue": "ignored",
     "traceback": [
      "\u001b[0;31m---------------------------------------------------------------------------\u001b[0m",
      "\u001b[0;31mKeyError\u001b[0m                                  Traceback (most recent call last)",
      "\u001b[0;32m<ipython-input-57-eafcac6a800a>\u001b[0m in \u001b[0;36m<module>\u001b[0;34m()\u001b[0m\n\u001b[0;32m----> 1\u001b[0;31m \u001b[0mfree_reduced\u001b[0m \u001b[0;34m=\u001b[0m \u001b[0mstudent_performance\u001b[0m\u001b[0;34m.\u001b[0m\u001b[0mloc\u001b[0m\u001b[0;34m[\u001b[0m\u001b[0mstudent_performance\u001b[0m\u001b[0;34m.\u001b[0m\u001b[0mlunch\u001b[0m \u001b[0;34m==\u001b[0m \u001b[0;34m'free/reduced'\u001b[0m\u001b[0;34m,\u001b[0m \u001b[0;34m[\u001b[0m\u001b[0;34m'math score'\u001b[0m\u001b[0;34m,\u001b[0m \u001b[0;34m'reading score'\u001b[0m\u001b[0;34m,\u001b[0m \u001b[0;34m'writing score'\u001b[0m\u001b[0;34m]\u001b[0m\u001b[0;34m]\u001b[0m\u001b[0;34m\u001b[0m\u001b[0;34m\u001b[0m\u001b[0m\n\u001b[0m\u001b[1;32m      2\u001b[0m \u001b[0mfree_reduced\u001b[0m\u001b[0;34m\u001b[0m\u001b[0;34m\u001b[0m\u001b[0m\n",
      "\u001b[0;32m/usr/local/lib/python3.6/dist-packages/pandas/core/indexing.py\u001b[0m in \u001b[0;36m__getitem__\u001b[0;34m(self, key)\u001b[0m\n\u001b[1;32m   1492\u001b[0m             \u001b[0;32mexcept\u001b[0m \u001b[0;34m(\u001b[0m\u001b[0mKeyError\u001b[0m\u001b[0;34m,\u001b[0m \u001b[0mIndexError\u001b[0m\u001b[0;34m,\u001b[0m \u001b[0mAttributeError\u001b[0m\u001b[0;34m)\u001b[0m\u001b[0;34m:\u001b[0m\u001b[0;34m\u001b[0m\u001b[0;34m\u001b[0m\u001b[0m\n\u001b[1;32m   1493\u001b[0m                 \u001b[0;32mpass\u001b[0m\u001b[0;34m\u001b[0m\u001b[0;34m\u001b[0m\u001b[0m\n\u001b[0;32m-> 1494\u001b[0;31m             \u001b[0;32mreturn\u001b[0m \u001b[0mself\u001b[0m\u001b[0;34m.\u001b[0m\u001b[0m_getitem_tuple\u001b[0m\u001b[0;34m(\u001b[0m\u001b[0mkey\u001b[0m\u001b[0;34m)\u001b[0m\u001b[0;34m\u001b[0m\u001b[0;34m\u001b[0m\u001b[0m\n\u001b[0m\u001b[1;32m   1495\u001b[0m         \u001b[0;32melse\u001b[0m\u001b[0;34m:\u001b[0m\u001b[0;34m\u001b[0m\u001b[0;34m\u001b[0m\u001b[0m\n\u001b[1;32m   1496\u001b[0m             \u001b[0;31m# we by definition only have the 0th axis\u001b[0m\u001b[0;34m\u001b[0m\u001b[0;34m\u001b[0m\u001b[0;34m\u001b[0m\u001b[0m\n",
      "\u001b[0;32m/usr/local/lib/python3.6/dist-packages/pandas/core/indexing.py\u001b[0m in \u001b[0;36m_getitem_tuple\u001b[0;34m(self, tup)\u001b[0m\n\u001b[1;32m    886\u001b[0m                 \u001b[0;32mcontinue\u001b[0m\u001b[0;34m\u001b[0m\u001b[0;34m\u001b[0m\u001b[0m\n\u001b[1;32m    887\u001b[0m \u001b[0;34m\u001b[0m\u001b[0m\n\u001b[0;32m--> 888\u001b[0;31m             \u001b[0mretval\u001b[0m \u001b[0;34m=\u001b[0m \u001b[0mgetattr\u001b[0m\u001b[0;34m(\u001b[0m\u001b[0mretval\u001b[0m\u001b[0;34m,\u001b[0m \u001b[0mself\u001b[0m\u001b[0;34m.\u001b[0m\u001b[0mname\u001b[0m\u001b[0;34m)\u001b[0m\u001b[0;34m.\u001b[0m\u001b[0m_getitem_axis\u001b[0m\u001b[0;34m(\u001b[0m\u001b[0mkey\u001b[0m\u001b[0;34m,\u001b[0m \u001b[0maxis\u001b[0m\u001b[0;34m=\u001b[0m\u001b[0mi\u001b[0m\u001b[0;34m)\u001b[0m\u001b[0;34m\u001b[0m\u001b[0;34m\u001b[0m\u001b[0m\n\u001b[0m\u001b[1;32m    889\u001b[0m \u001b[0;34m\u001b[0m\u001b[0m\n\u001b[1;32m    890\u001b[0m         \u001b[0;32mreturn\u001b[0m \u001b[0mretval\u001b[0m\u001b[0;34m\u001b[0m\u001b[0;34m\u001b[0m\u001b[0m\n",
      "\u001b[0;32m/usr/local/lib/python3.6/dist-packages/pandas/core/indexing.py\u001b[0m in \u001b[0;36m_getitem_axis\u001b[0;34m(self, key, axis)\u001b[0m\n\u001b[1;32m   1900\u001b[0m                     \u001b[0;32mraise\u001b[0m \u001b[0mValueError\u001b[0m\u001b[0;34m(\u001b[0m\u001b[0;34m'Cannot index with multidimensional key'\u001b[0m\u001b[0;34m)\u001b[0m\u001b[0;34m\u001b[0m\u001b[0;34m\u001b[0m\u001b[0m\n\u001b[1;32m   1901\u001b[0m \u001b[0;34m\u001b[0m\u001b[0m\n\u001b[0;32m-> 1902\u001b[0;31m                 \u001b[0;32mreturn\u001b[0m \u001b[0mself\u001b[0m\u001b[0;34m.\u001b[0m\u001b[0m_getitem_iterable\u001b[0m\u001b[0;34m(\u001b[0m\u001b[0mkey\u001b[0m\u001b[0;34m,\u001b[0m \u001b[0maxis\u001b[0m\u001b[0;34m=\u001b[0m\u001b[0maxis\u001b[0m\u001b[0;34m)\u001b[0m\u001b[0;34m\u001b[0m\u001b[0;34m\u001b[0m\u001b[0m\n\u001b[0m\u001b[1;32m   1903\u001b[0m \u001b[0;34m\u001b[0m\u001b[0m\n\u001b[1;32m   1904\u001b[0m             \u001b[0;31m# nested tuple slicing\u001b[0m\u001b[0;34m\u001b[0m\u001b[0;34m\u001b[0m\u001b[0;34m\u001b[0m\u001b[0m\n",
      "\u001b[0;32m/usr/local/lib/python3.6/dist-packages/pandas/core/indexing.py\u001b[0m in \u001b[0;36m_getitem_iterable\u001b[0;34m(self, key, axis)\u001b[0m\n\u001b[1;32m   1203\u001b[0m             \u001b[0;31m# A collection of keys\u001b[0m\u001b[0;34m\u001b[0m\u001b[0;34m\u001b[0m\u001b[0;34m\u001b[0m\u001b[0m\n\u001b[1;32m   1204\u001b[0m             keyarr, indexer = self._get_listlike_indexer(key, axis,\n\u001b[0;32m-> 1205\u001b[0;31m                                                          raise_missing=False)\n\u001b[0m\u001b[1;32m   1206\u001b[0m             return self.obj._reindex_with_indexers({axis: [keyarr, indexer]},\n\u001b[1;32m   1207\u001b[0m                                                    copy=True, allow_dups=True)\n",
      "\u001b[0;32m/usr/local/lib/python3.6/dist-packages/pandas/core/indexing.py\u001b[0m in \u001b[0;36m_get_listlike_indexer\u001b[0;34m(self, key, axis, raise_missing)\u001b[0m\n\u001b[1;32m   1159\u001b[0m         self._validate_read_indexer(keyarr, indexer,\n\u001b[1;32m   1160\u001b[0m                                     \u001b[0mo\u001b[0m\u001b[0;34m.\u001b[0m\u001b[0m_get_axis_number\u001b[0m\u001b[0;34m(\u001b[0m\u001b[0maxis\u001b[0m\u001b[0;34m)\u001b[0m\u001b[0;34m,\u001b[0m\u001b[0;34m\u001b[0m\u001b[0;34m\u001b[0m\u001b[0m\n\u001b[0;32m-> 1161\u001b[0;31m                                     raise_missing=raise_missing)\n\u001b[0m\u001b[1;32m   1162\u001b[0m         \u001b[0;32mreturn\u001b[0m \u001b[0mkeyarr\u001b[0m\u001b[0;34m,\u001b[0m \u001b[0mindexer\u001b[0m\u001b[0;34m\u001b[0m\u001b[0;34m\u001b[0m\u001b[0m\n\u001b[1;32m   1163\u001b[0m \u001b[0;34m\u001b[0m\u001b[0m\n",
      "\u001b[0;32m/usr/local/lib/python3.6/dist-packages/pandas/core/indexing.py\u001b[0m in \u001b[0;36m_validate_read_indexer\u001b[0;34m(self, key, indexer, axis, raise_missing)\u001b[0m\n\u001b[1;32m   1244\u001b[0m                 raise KeyError(\n\u001b[1;32m   1245\u001b[0m                     u\"None of [{key}] are in the [{axis}]\".format(\n\u001b[0;32m-> 1246\u001b[0;31m                         key=key, axis=self.obj._get_axis_name(axis)))\n\u001b[0m\u001b[1;32m   1247\u001b[0m \u001b[0;34m\u001b[0m\u001b[0m\n\u001b[1;32m   1248\u001b[0m             \u001b[0;31m# We (temporarily) allow for some missing keys with .loc, except in\u001b[0m\u001b[0;34m\u001b[0m\u001b[0;34m\u001b[0m\u001b[0;34m\u001b[0m\u001b[0m\n",
      "\u001b[0;31mKeyError\u001b[0m: \"None of [Index(['math score', 'reading score', 'writing score'], dtype='object')] are in the [columns]\""
     ]
    }
   ]
  },
  {
   "cell_type": "code",
   "metadata": {
    "pycharm": {
     "name": "#%%\n",
     "is_executing": false
    },
    "id": "JvOs7tz4-9yd",
    "colab_type": "code",
    "outputId": "ee3f326a-14f1-4496-b8a5-026c344d2a18",
    "colab": {
     "base_uri": "https://localhost:8080/",
     "height": 85
    }
   },
   "source": [
    "free_reduced.var()\n"
   ],
   "execution_count": 0,
   "outputs": [
    {
     "output_type": "execute_result",
     "data": {
      "text/plain": [
       "math score       229.824270\n",
       "reading score    221.871139\n",
       "writing score    238.202881\n",
       "dtype: float64"
      ]
     },
     "metadata": {
      "tags": []
     },
     "execution_count": 37
    }
   ]
  },
  {
   "cell_type": "code",
   "metadata": {
    "pycharm": {
     "name": "#%%\n",
     "is_executing": false
    },
    "id": "hMm5S4Ap-9yg",
    "colab_type": "code",
    "outputId": "3d85ede4-fdab-4a0f-fb28-29e07b90db55",
    "colab": {
     "base_uri": "https://localhost:8080/",
     "height": 85
    }
   },
   "source": [
    "standard.var()"
   ],
   "execution_count": 0,
   "outputs": [
    {
     "output_type": "execute_result",
     "data": {
      "text/plain": [
       "math score       186.418089\n",
       "writing score    205.620887\n",
       "reading score    191.285560\n",
       "dtype: float64"
      ]
     },
     "metadata": {
      "tags": []
     },
     "execution_count": 38
    }
   ]
  },
  {
   "cell_type": "code",
   "metadata": {
    "pycharm": {
     "name": "#%%\n",
     "is_executing": false
    },
    "id": "LNpvZWxg-9yk",
    "colab_type": "code",
    "outputId": "a01c3d54-3944-49bc-e348-2c36076883c4",
    "colab": {
     "base_uri": "https://localhost:8080/",
     "height": 85
    }
   },
   "source": [
    "free_reduced.mean()"
   ],
   "execution_count": 0,
   "outputs": [
    {
     "output_type": "execute_result",
     "data": {
      "text/plain": [
       "math score       58.921127\n",
       "reading score    64.653521\n",
       "writing score    63.022535\n",
       "dtype: float64"
      ]
     },
     "metadata": {
      "tags": []
     },
     "execution_count": 39
    }
   ]
  },
  {
   "cell_type": "code",
   "metadata": {
    "pycharm": {
     "name": "#%%\n",
     "is_executing": false
    },
    "id": "PtUlRXj5-9yq",
    "colab_type": "code",
    "outputId": "9dd542c4-fe1c-4081-cd23-930366cf793d",
    "colab": {
     "base_uri": "https://localhost:8080/",
     "height": 85
    }
   },
   "source": [
    "standard.mean()"
   ],
   "execution_count": 0,
   "outputs": [
    {
     "output_type": "execute_result",
     "data": {
      "text/plain": [
       "math score       70.034109\n",
       "writing score    70.823256\n",
       "reading score    71.654264\n",
       "dtype: float64"
      ]
     },
     "metadata": {
      "tags": []
     },
     "execution_count": 40
    }
   ]
  },
  {
   "cell_type": "code",
   "metadata": {
    "pycharm": {
     "name": "#%%\n",
     "is_executing": false
    },
    "id": "4AaXbf0r-9yy",
    "colab_type": "code",
    "outputId": "9727e74e-5d3c-4dda-a54b-e8953b9b9c02",
    "colab": {
     "base_uri": "https://localhost:8080/",
     "height": 85
    }
   },
   "source": [
    "student_performance.columns\n"
   ],
   "execution_count": 0,
   "outputs": [
    {
     "output_type": "execute_result",
     "data": {
      "text/plain": [
       "Index(['gender', 'race/ethnicity', 'parental level of education', 'lunch',\n",
       "       'test preparation course', 'math score', 'reading score',\n",
       "       'writing score'],\n",
       "      dtype='object')"
      ]
     },
     "metadata": {
      "tags": []
     },
     "execution_count": 41
    }
   ]
  },
  {
   "cell_type": "code",
   "metadata": {
    "pycharm": {
     "name": "#%%\n",
     "is_executing": false
    },
    "id": "haRbbYWP-9y0",
    "colab_type": "code",
    "colab": {}
   },
   "source": [
    "student_performance = student_performance.rename(columns = {\n",
    "    'parental level of education':'parental_level_of_education',\n",
    "    'test preparation course': 'test_preparation_course',\n",
    "    'math score': 'math_score',\n",
    "    'reading score': 'reading_score',\n",
    "    'writing score': 'writing_score'\n",
    "})\n"
   ],
   "execution_count": 0,
   "outputs": []
  },
  {
   "cell_type": "code",
   "metadata": {
    "pycharm": {
     "name": "#%%\n",
     "is_executing": false
    },
    "id": "bs_Lppr3-9y4",
    "colab_type": "code",
    "outputId": "f31ae580-0aa9-46a6-bcd9-58cbb0d24bf2",
    "colab": {
     "base_uri": "https://localhost:8080/",
     "height": 886
    }
   },
   "source": [
    "writing_score_query = 80\n",
    "student_performance.query(\"writing_score == @writing_score_query\")"
   ],
   "execution_count": 0,
   "outputs": [
    {
     "output_type": "execute_result",
     "data": {
      "text/html": [
       "<div>\n",
       "<style scoped>\n",
       "    .dataframe tbody tr th:only-of-type {\n",
       "        vertical-align: middle;\n",
       "    }\n",
       "\n",
       "    .dataframe tbody tr th {\n",
       "        vertical-align: top;\n",
       "    }\n",
       "\n",
       "    .dataframe thead th {\n",
       "        text-align: right;\n",
       "    }\n",
       "</style>\n",
       "<table border=\"1\" class=\"dataframe\">\n",
       "  <thead>\n",
       "    <tr style=\"text-align: right;\">\n",
       "      <th></th>\n",
       "      <th>gender</th>\n",
       "      <th>race/ethnicity</th>\n",
       "      <th>parental_level_of_education</th>\n",
       "      <th>lunch</th>\n",
       "      <th>test_preparation_course</th>\n",
       "      <th>math_score</th>\n",
       "      <th>reading_score</th>\n",
       "      <th>writing_score</th>\n",
       "    </tr>\n",
       "  </thead>\n",
       "  <tbody>\n",
       "    <tr>\n",
       "      <th>24</th>\n",
       "      <td>male</td>\n",
       "      <td>group D</td>\n",
       "      <td>bachelor's degree</td>\n",
       "      <td>free/reduced</td>\n",
       "      <td>completed</td>\n",
       "      <td>74</td>\n",
       "      <td>71</td>\n",
       "      <td>80</td>\n",
       "    </tr>\n",
       "    <tr>\n",
       "      <th>239</th>\n",
       "      <td>male</td>\n",
       "      <td>group C</td>\n",
       "      <td>associate's degree</td>\n",
       "      <td>standard</td>\n",
       "      <td>none</td>\n",
       "      <td>84</td>\n",
       "      <td>80</td>\n",
       "      <td>80</td>\n",
       "    </tr>\n",
       "    <tr>\n",
       "      <th>278</th>\n",
       "      <td>female</td>\n",
       "      <td>group C</td>\n",
       "      <td>some high school</td>\n",
       "      <td>free/reduced</td>\n",
       "      <td>none</td>\n",
       "      <td>65</td>\n",
       "      <td>86</td>\n",
       "      <td>80</td>\n",
       "    </tr>\n",
       "    <tr>\n",
       "      <th>294</th>\n",
       "      <td>male</td>\n",
       "      <td>group D</td>\n",
       "      <td>high school</td>\n",
       "      <td>free/reduced</td>\n",
       "      <td>completed</td>\n",
       "      <td>78</td>\n",
       "      <td>77</td>\n",
       "      <td>80</td>\n",
       "    </tr>\n",
       "    <tr>\n",
       "      <th>310</th>\n",
       "      <td>female</td>\n",
       "      <td>group B</td>\n",
       "      <td>associate's degree</td>\n",
       "      <td>standard</td>\n",
       "      <td>none</td>\n",
       "      <td>73</td>\n",
       "      <td>76</td>\n",
       "      <td>80</td>\n",
       "    </tr>\n",
       "    <tr>\n",
       "      <th>322</th>\n",
       "      <td>female</td>\n",
       "      <td>group C</td>\n",
       "      <td>some college</td>\n",
       "      <td>standard</td>\n",
       "      <td>none</td>\n",
       "      <td>71</td>\n",
       "      <td>81</td>\n",
       "      <td>80</td>\n",
       "    </tr>\n",
       "    <tr>\n",
       "      <th>352</th>\n",
       "      <td>female</td>\n",
       "      <td>group C</td>\n",
       "      <td>some college</td>\n",
       "      <td>standard</td>\n",
       "      <td>completed</td>\n",
       "      <td>63</td>\n",
       "      <td>78</td>\n",
       "      <td>80</td>\n",
       "    </tr>\n",
       "    <tr>\n",
       "      <th>423</th>\n",
       "      <td>female</td>\n",
       "      <td>group A</td>\n",
       "      <td>some high school</td>\n",
       "      <td>standard</td>\n",
       "      <td>completed</td>\n",
       "      <td>59</td>\n",
       "      <td>85</td>\n",
       "      <td>80</td>\n",
       "    </tr>\n",
       "    <tr>\n",
       "      <th>441</th>\n",
       "      <td>female</td>\n",
       "      <td>group D</td>\n",
       "      <td>high school</td>\n",
       "      <td>standard</td>\n",
       "      <td>none</td>\n",
       "      <td>78</td>\n",
       "      <td>81</td>\n",
       "      <td>80</td>\n",
       "    </tr>\n",
       "    <tr>\n",
       "      <th>447</th>\n",
       "      <td>male</td>\n",
       "      <td>group C</td>\n",
       "      <td>high school</td>\n",
       "      <td>standard</td>\n",
       "      <td>completed</td>\n",
       "      <td>86</td>\n",
       "      <td>81</td>\n",
       "      <td>80</td>\n",
       "    </tr>\n",
       "    <tr>\n",
       "      <th>505</th>\n",
       "      <td>female</td>\n",
       "      <td>group B</td>\n",
       "      <td>some high school</td>\n",
       "      <td>standard</td>\n",
       "      <td>none</td>\n",
       "      <td>82</td>\n",
       "      <td>82</td>\n",
       "      <td>80</td>\n",
       "    </tr>\n",
       "    <tr>\n",
       "      <th>541</th>\n",
       "      <td>male</td>\n",
       "      <td>group D</td>\n",
       "      <td>associate's degree</td>\n",
       "      <td>free/reduced</td>\n",
       "      <td>completed</td>\n",
       "      <td>79</td>\n",
       "      <td>82</td>\n",
       "      <td>80</td>\n",
       "    </tr>\n",
       "    <tr>\n",
       "      <th>545</th>\n",
       "      <td>male</td>\n",
       "      <td>group E</td>\n",
       "      <td>some high school</td>\n",
       "      <td>free/reduced</td>\n",
       "      <td>completed</td>\n",
       "      <td>78</td>\n",
       "      <td>83</td>\n",
       "      <td>80</td>\n",
       "    </tr>\n",
       "    <tr>\n",
       "      <th>563</th>\n",
       "      <td>female</td>\n",
       "      <td>group D</td>\n",
       "      <td>some college</td>\n",
       "      <td>free/reduced</td>\n",
       "      <td>completed</td>\n",
       "      <td>63</td>\n",
       "      <td>80</td>\n",
       "      <td>80</td>\n",
       "    </tr>\n",
       "    <tr>\n",
       "      <th>581</th>\n",
       "      <td>female</td>\n",
       "      <td>group E</td>\n",
       "      <td>some high school</td>\n",
       "      <td>standard</td>\n",
       "      <td>none</td>\n",
       "      <td>77</td>\n",
       "      <td>79</td>\n",
       "      <td>80</td>\n",
       "    </tr>\n",
       "    <tr>\n",
       "      <th>583</th>\n",
       "      <td>female</td>\n",
       "      <td>group D</td>\n",
       "      <td>associate's degree</td>\n",
       "      <td>standard</td>\n",
       "      <td>completed</td>\n",
       "      <td>73</td>\n",
       "      <td>75</td>\n",
       "      <td>80</td>\n",
       "    </tr>\n",
       "    <tr>\n",
       "      <th>602</th>\n",
       "      <td>female</td>\n",
       "      <td>group E</td>\n",
       "      <td>some college</td>\n",
       "      <td>standard</td>\n",
       "      <td>none</td>\n",
       "      <td>76</td>\n",
       "      <td>78</td>\n",
       "      <td>80</td>\n",
       "    </tr>\n",
       "    <tr>\n",
       "      <th>634</th>\n",
       "      <td>male</td>\n",
       "      <td>group D</td>\n",
       "      <td>some high school</td>\n",
       "      <td>standard</td>\n",
       "      <td>none</td>\n",
       "      <td>84</td>\n",
       "      <td>84</td>\n",
       "      <td>80</td>\n",
       "    </tr>\n",
       "    <tr>\n",
       "      <th>643</th>\n",
       "      <td>female</td>\n",
       "      <td>group E</td>\n",
       "      <td>high school</td>\n",
       "      <td>standard</td>\n",
       "      <td>completed</td>\n",
       "      <td>74</td>\n",
       "      <td>79</td>\n",
       "      <td>80</td>\n",
       "    </tr>\n",
       "    <tr>\n",
       "      <th>719</th>\n",
       "      <td>male</td>\n",
       "      <td>group E</td>\n",
       "      <td>associate's degree</td>\n",
       "      <td>free/reduced</td>\n",
       "      <td>completed</td>\n",
       "      <td>91</td>\n",
       "      <td>73</td>\n",
       "      <td>80</td>\n",
       "    </tr>\n",
       "    <tr>\n",
       "      <th>730</th>\n",
       "      <td>female</td>\n",
       "      <td>group B</td>\n",
       "      <td>associate's degree</td>\n",
       "      <td>free/reduced</td>\n",
       "      <td>completed</td>\n",
       "      <td>68</td>\n",
       "      <td>77</td>\n",
       "      <td>80</td>\n",
       "    </tr>\n",
       "    <tr>\n",
       "      <th>863</th>\n",
       "      <td>female</td>\n",
       "      <td>group C</td>\n",
       "      <td>some college</td>\n",
       "      <td>standard</td>\n",
       "      <td>completed</td>\n",
       "      <td>71</td>\n",
       "      <td>71</td>\n",
       "      <td>80</td>\n",
       "    </tr>\n",
       "    <tr>\n",
       "      <th>878</th>\n",
       "      <td>female</td>\n",
       "      <td>group D</td>\n",
       "      <td>some high school</td>\n",
       "      <td>standard</td>\n",
       "      <td>none</td>\n",
       "      <td>59</td>\n",
       "      <td>72</td>\n",
       "      <td>80</td>\n",
       "    </tr>\n",
       "    <tr>\n",
       "      <th>885</th>\n",
       "      <td>female</td>\n",
       "      <td>group C</td>\n",
       "      <td>associate's degree</td>\n",
       "      <td>standard</td>\n",
       "      <td>completed</td>\n",
       "      <td>62</td>\n",
       "      <td>76</td>\n",
       "      <td>80</td>\n",
       "    </tr>\n",
       "    <tr>\n",
       "      <th>918</th>\n",
       "      <td>female</td>\n",
       "      <td>group C</td>\n",
       "      <td>associate's degree</td>\n",
       "      <td>standard</td>\n",
       "      <td>completed</td>\n",
       "      <td>57</td>\n",
       "      <td>77</td>\n",
       "      <td>80</td>\n",
       "    </tr>\n",
       "    <tr>\n",
       "      <th>946</th>\n",
       "      <td>male</td>\n",
       "      <td>group B</td>\n",
       "      <td>high school</td>\n",
       "      <td>standard</td>\n",
       "      <td>none</td>\n",
       "      <td>82</td>\n",
       "      <td>82</td>\n",
       "      <td>80</td>\n",
       "    </tr>\n",
       "    <tr>\n",
       "      <th>969</th>\n",
       "      <td>female</td>\n",
       "      <td>group B</td>\n",
       "      <td>bachelor's degree</td>\n",
       "      <td>standard</td>\n",
       "      <td>none</td>\n",
       "      <td>75</td>\n",
       "      <td>84</td>\n",
       "      <td>80</td>\n",
       "    </tr>\n",
       "  </tbody>\n",
       "</table>\n",
       "</div>"
      ],
      "text/plain": [
       "     gender race/ethnicity  ... reading_score writing_score\n",
       "24     male        group D  ...            71            80\n",
       "239    male        group C  ...            80            80\n",
       "278  female        group C  ...            86            80\n",
       "294    male        group D  ...            77            80\n",
       "310  female        group B  ...            76            80\n",
       "322  female        group C  ...            81            80\n",
       "352  female        group C  ...            78            80\n",
       "423  female        group A  ...            85            80\n",
       "441  female        group D  ...            81            80\n",
       "447    male        group C  ...            81            80\n",
       "505  female        group B  ...            82            80\n",
       "541    male        group D  ...            82            80\n",
       "545    male        group E  ...            83            80\n",
       "563  female        group D  ...            80            80\n",
       "581  female        group E  ...            79            80\n",
       "583  female        group D  ...            75            80\n",
       "602  female        group E  ...            78            80\n",
       "634    male        group D  ...            84            80\n",
       "643  female        group E  ...            79            80\n",
       "719    male        group E  ...            73            80\n",
       "730  female        group B  ...            77            80\n",
       "863  female        group C  ...            71            80\n",
       "878  female        group D  ...            72            80\n",
       "885  female        group C  ...            76            80\n",
       "918  female        group C  ...            77            80\n",
       "946    male        group B  ...            82            80\n",
       "969  female        group B  ...            84            80\n",
       "\n",
       "[27 rows x 8 columns]"
      ]
     },
     "metadata": {
      "tags": []
     },
     "execution_count": 43
    }
   ]
  },
  {
   "cell_type": "code",
   "metadata": {
    "pycharm": {
     "name": "#%%\n"
    },
    "id": "ybEEr8SV-9y7",
    "colab_type": "code",
    "outputId": "d56fe5dc-5bb9-41f7-a7c9-40468ac6b13b",
    "colab": {
     "base_uri": "https://localhost:8080/",
     "height": 204
    }
   },
   "source": [
    "\n",
    "score_columnss = [i for i in list(student_performance) if 'score' in i]\n",
    "student_performance[score_columnss].head()"
   ],
   "execution_count": 0,
   "outputs": [
    {
     "output_type": "execute_result",
     "data": {
      "text/html": [
       "<div>\n",
       "<style scoped>\n",
       "    .dataframe tbody tr th:only-of-type {\n",
       "        vertical-align: middle;\n",
       "    }\n",
       "\n",
       "    .dataframe tbody tr th {\n",
       "        vertical-align: top;\n",
       "    }\n",
       "\n",
       "    .dataframe thead th {\n",
       "        text-align: right;\n",
       "    }\n",
       "</style>\n",
       "<table border=\"1\" class=\"dataframe\">\n",
       "  <thead>\n",
       "    <tr style=\"text-align: right;\">\n",
       "      <th></th>\n",
       "      <th>math_score</th>\n",
       "      <th>reading_score</th>\n",
       "      <th>writing_score</th>\n",
       "    </tr>\n",
       "  </thead>\n",
       "  <tbody>\n",
       "    <tr>\n",
       "      <th>0</th>\n",
       "      <td>72</td>\n",
       "      <td>72</td>\n",
       "      <td>74</td>\n",
       "    </tr>\n",
       "    <tr>\n",
       "      <th>1</th>\n",
       "      <td>69</td>\n",
       "      <td>90</td>\n",
       "      <td>88</td>\n",
       "    </tr>\n",
       "    <tr>\n",
       "      <th>2</th>\n",
       "      <td>90</td>\n",
       "      <td>95</td>\n",
       "      <td>93</td>\n",
       "    </tr>\n",
       "    <tr>\n",
       "      <th>3</th>\n",
       "      <td>47</td>\n",
       "      <td>57</td>\n",
       "      <td>44</td>\n",
       "    </tr>\n",
       "    <tr>\n",
       "      <th>4</th>\n",
       "      <td>76</td>\n",
       "      <td>78</td>\n",
       "      <td>75</td>\n",
       "    </tr>\n",
       "  </tbody>\n",
       "</table>\n",
       "</div>"
      ],
      "text/plain": [
       "   math_score  reading_score  writing_score\n",
       "0          72             72             74\n",
       "1          69             90             88\n",
       "2          90             95             93\n",
       "3          47             57             44\n",
       "4          76             78             75"
      ]
     },
     "metadata": {
      "tags": []
     },
     "execution_count": 50
    }
   ]
  },
  {
   "cell_type": "code",
   "metadata": {
    "id": "rq_LsNYv_C25",
    "colab_type": "code",
    "outputId": "f469061f-3905-4456-c448-7e8b1a9c7285",
    "colab": {
     "base_uri": "https://localhost:8080/",
     "height": 204
    }
   },
   "source": [
    "score_columns = student_performance_with_names.filter(like='e', axis = 'columns')\n",
    "score_columns"
   ],
   "execution_count": 0,
   "outputs": [
    {
     "output_type": "execute_result",
     "data": {
      "text/html": [
       "<div>\n",
       "<style scoped>\n",
       "    .dataframe tbody tr th:only-of-type {\n",
       "        vertical-align: middle;\n",
       "    }\n",
       "\n",
       "    .dataframe tbody tr th {\n",
       "        vertical-align: top;\n",
       "    }\n",
       "\n",
       "    .dataframe thead th {\n",
       "        text-align: right;\n",
       "    }\n",
       "</style>\n",
       "<table border=\"1\" class=\"dataframe\">\n",
       "  <thead>\n",
       "    <tr style=\"text-align: right;\">\n",
       "      <th></th>\n",
       "      <th>gender</th>\n",
       "      <th>race/ethnicity</th>\n",
       "      <th>parental level of education</th>\n",
       "      <th>test preparation course</th>\n",
       "      <th>math score</th>\n",
       "      <th>reading score</th>\n",
       "      <th>writing score</th>\n",
       "    </tr>\n",
       "  </thead>\n",
       "  <tbody>\n",
       "    <tr>\n",
       "      <th>Cersei</th>\n",
       "      <td>female</td>\n",
       "      <td>group B</td>\n",
       "      <td>bachelor's degree</td>\n",
       "      <td>none</td>\n",
       "      <td>72</td>\n",
       "      <td>72</td>\n",
       "      <td>74</td>\n",
       "    </tr>\n",
       "    <tr>\n",
       "      <th>Tywin</th>\n",
       "      <td>male</td>\n",
       "      <td>group A</td>\n",
       "      <td>associate's degree</td>\n",
       "      <td>none</td>\n",
       "      <td>47</td>\n",
       "      <td>57</td>\n",
       "      <td>44</td>\n",
       "    </tr>\n",
       "    <tr>\n",
       "      <th>Gregor</th>\n",
       "      <td>male</td>\n",
       "      <td>group C</td>\n",
       "      <td>some college</td>\n",
       "      <td>none</td>\n",
       "      <td>76</td>\n",
       "      <td>78</td>\n",
       "      <td>75</td>\n",
       "    </tr>\n",
       "    <tr>\n",
       "      <th>Joffrey</th>\n",
       "      <td>male</td>\n",
       "      <td>group B</td>\n",
       "      <td>some college</td>\n",
       "      <td>none</td>\n",
       "      <td>40</td>\n",
       "      <td>43</td>\n",
       "      <td>39</td>\n",
       "    </tr>\n",
       "    <tr>\n",
       "      <th>Pein</th>\n",
       "      <td>male</td>\n",
       "      <td>group D</td>\n",
       "      <td>high school</td>\n",
       "      <td>completed</td>\n",
       "      <td>64</td>\n",
       "      <td>64</td>\n",
       "      <td>67</td>\n",
       "    </tr>\n",
       "  </tbody>\n",
       "</table>\n",
       "</div>"
      ],
      "text/plain": [
       "         gender race/ethnicity  ... reading score writing score\n",
       "Cersei   female        group B  ...            72            74\n",
       "Tywin      male        group A  ...            57            44\n",
       "Gregor     male        group C  ...            78            75\n",
       "Joffrey    male        group B  ...            43            39\n",
       "Pein       male        group D  ...            64            67\n",
       "\n",
       "[5 rows x 7 columns]"
      ]
     },
     "metadata": {
      "tags": []
     },
     "execution_count": 56
    }
   ]
  },
  {
   "cell_type": "code",
   "metadata": {
    "id": "akQ_zhW-Aive",
    "colab_type": "code",
    "outputId": "8f9d8373-16f5-47b2-85b3-bc1543507079",
    "colab": {
     "base_uri": "https://localhost:8080/",
     "height": 85
    }
   },
   "source": [
    "score_columnsss = student_performance.filter(like='score')\n",
    "score_columnsss.mean()"
   ],
   "execution_count": 0,
   "outputs": [
    {
     "output_type": "execute_result",
     "data": {
      "text/plain": [
       "math_score       66.089\n",
       "reading_score    69.169\n",
       "writing_score    68.054\n",
       "dtype: float64"
      ]
     },
     "metadata": {
      "tags": []
     },
     "execution_count": 143
    }
   ]
  },
  {
   "cell_type": "code",
   "metadata": {
    "id": "CXyOdgSICRKW",
    "colab_type": "code",
    "outputId": "b9598289-2eda-47aa-f690-66f64dd8d0d3",
    "colab": {
     "base_uri": "https://localhost:8080/",
     "height": 142
    }
   },
   "source": [
    "student_performance.groupby('gender').mean()"
   ],
   "execution_count": 0,
   "outputs": [
    {
     "output_type": "execute_result",
     "data": {
      "text/html": [
       "<div>\n",
       "<style scoped>\n",
       "    .dataframe tbody tr th:only-of-type {\n",
       "        vertical-align: middle;\n",
       "    }\n",
       "\n",
       "    .dataframe tbody tr th {\n",
       "        vertical-align: top;\n",
       "    }\n",
       "\n",
       "    .dataframe thead th {\n",
       "        text-align: right;\n",
       "    }\n",
       "</style>\n",
       "<table border=\"1\" class=\"dataframe\">\n",
       "  <thead>\n",
       "    <tr style=\"text-align: right;\">\n",
       "      <th></th>\n",
       "      <th>math_score</th>\n",
       "      <th>reading_score</th>\n",
       "      <th>writing_score</th>\n",
       "    </tr>\n",
       "    <tr>\n",
       "      <th>gender</th>\n",
       "      <th></th>\n",
       "      <th></th>\n",
       "      <th></th>\n",
       "    </tr>\n",
       "  </thead>\n",
       "  <tbody>\n",
       "    <tr>\n",
       "      <th>female</th>\n",
       "      <td>63.633205</td>\n",
       "      <td>72.608108</td>\n",
       "      <td>72.467181</td>\n",
       "    </tr>\n",
       "    <tr>\n",
       "      <th>male</th>\n",
       "      <td>68.728216</td>\n",
       "      <td>65.473029</td>\n",
       "      <td>63.311203</td>\n",
       "    </tr>\n",
       "  </tbody>\n",
       "</table>\n",
       "</div>"
      ],
      "text/plain": [
       "        math_score  reading_score  writing_score\n",
       "gender                                          \n",
       "female   63.633205      72.608108      72.467181\n",
       "male     68.728216      65.473029      63.311203"
      ]
     },
     "metadata": {
      "tags": []
     },
     "execution_count": 145
    }
   ]
  },
  {
   "cell_type": "code",
   "metadata": {
    "id": "iD5qPoVpc_H2",
    "colab_type": "code",
    "outputId": "4647b392-757e-477e-cd66-ba49389ac995",
    "colab": {
     "base_uri": "https://localhost:8080/",
     "height": 390
    }
   },
   "source": [
    "mean_scores = student_performance.groupby(['gender', 'race/ethnicity']) \\\n",
    ".aggregate({'math_score':'mean', 'reading_score':'mean'}) \\\n",
    ".rename(columns = {'math_score':'mean_math_score', 'reading_score':'mean_reading_score'})\n",
    "mean_scores"
   ],
   "execution_count": 0,
   "outputs": [
    {
     "output_type": "execute_result",
     "data": {
      "text/html": [
       "<div>\n",
       "<style scoped>\n",
       "    .dataframe tbody tr th:only-of-type {\n",
       "        vertical-align: middle;\n",
       "    }\n",
       "\n",
       "    .dataframe tbody tr th {\n",
       "        vertical-align: top;\n",
       "    }\n",
       "\n",
       "    .dataframe thead th {\n",
       "        text-align: right;\n",
       "    }\n",
       "</style>\n",
       "<table border=\"1\" class=\"dataframe\">\n",
       "  <thead>\n",
       "    <tr style=\"text-align: right;\">\n",
       "      <th></th>\n",
       "      <th></th>\n",
       "      <th>mean_math_score</th>\n",
       "      <th>mean_reading_score</th>\n",
       "    </tr>\n",
       "    <tr>\n",
       "      <th>gender</th>\n",
       "      <th>race/ethnicity</th>\n",
       "      <th></th>\n",
       "      <th></th>\n",
       "    </tr>\n",
       "  </thead>\n",
       "  <tbody>\n",
       "    <tr>\n",
       "      <th rowspan=\"5\" valign=\"top\">female</th>\n",
       "      <th>group A</th>\n",
       "      <td>58.527778</td>\n",
       "      <td>69.000000</td>\n",
       "    </tr>\n",
       "    <tr>\n",
       "      <th>group B</th>\n",
       "      <td>61.403846</td>\n",
       "      <td>71.076923</td>\n",
       "    </tr>\n",
       "    <tr>\n",
       "      <th>group C</th>\n",
       "      <td>62.033333</td>\n",
       "      <td>71.944444</td>\n",
       "    </tr>\n",
       "    <tr>\n",
       "      <th>group D</th>\n",
       "      <td>65.248062</td>\n",
       "      <td>74.046512</td>\n",
       "    </tr>\n",
       "    <tr>\n",
       "      <th>group E</th>\n",
       "      <td>70.811594</td>\n",
       "      <td>75.840580</td>\n",
       "    </tr>\n",
       "    <tr>\n",
       "      <th rowspan=\"5\" valign=\"top\">male</th>\n",
       "      <th>group A</th>\n",
       "      <td>63.735849</td>\n",
       "      <td>61.735849</td>\n",
       "    </tr>\n",
       "    <tr>\n",
       "      <th>group B</th>\n",
       "      <td>65.930233</td>\n",
       "      <td>62.848837</td>\n",
       "    </tr>\n",
       "    <tr>\n",
       "      <th>group C</th>\n",
       "      <td>67.611511</td>\n",
       "      <td>65.424460</td>\n",
       "    </tr>\n",
       "    <tr>\n",
       "      <th>group D</th>\n",
       "      <td>69.413534</td>\n",
       "      <td>66.135338</td>\n",
       "    </tr>\n",
       "    <tr>\n",
       "      <th>group E</th>\n",
       "      <td>76.746479</td>\n",
       "      <td>70.295775</td>\n",
       "    </tr>\n",
       "  </tbody>\n",
       "</table>\n",
       "</div>"
      ],
      "text/plain": [
       "                       mean_math_score  mean_reading_score\n",
       "gender race/ethnicity                                     \n",
       "female group A               58.527778           69.000000\n",
       "       group B               61.403846           71.076923\n",
       "       group C               62.033333           71.944444\n",
       "       group D               65.248062           74.046512\n",
       "       group E               70.811594           75.840580\n",
       "male   group A               63.735849           61.735849\n",
       "       group B               65.930233           62.848837\n",
       "       group C               67.611511           65.424460\n",
       "       group D               69.413534           66.135338\n",
       "       group E               76.746479           70.295775"
      ]
     },
     "metadata": {
      "tags": []
     },
     "execution_count": 162
    }
   ]
  },
  {
   "cell_type": "code",
   "metadata": {
    "id": "dBzdrteLdbh3",
    "colab_type": "code",
    "outputId": "1c056db9-122c-410f-9b38-c189748f38f6",
    "colab": {
     "base_uri": "https://localhost:8080/",
     "height": 68
    }
   },
   "source": [
    "mean_scores.loc[('female', 'group A')]"
   ],
   "execution_count": 0,
   "outputs": [
    {
     "output_type": "execute_result",
     "data": {
      "text/plain": [
       "mean_math_score       58.527778\n",
       "mean_reading_score    69.000000\n",
       "Name: (female, group A), dtype: float64"
      ]
     },
     "metadata": {
      "tags": []
     },
     "execution_count": 165
    }
   ]
  },
  {
   "cell_type": "code",
   "metadata": {
    "id": "nfaVYyc2h-Jp",
    "colab_type": "code",
    "outputId": "4ff9ad0d-8aef-4032-c488-2f9f8793f273",
    "colab": {
     "base_uri": "https://localhost:8080/",
     "height": 142
    }
   },
   "source": [
    "mean_scores.loc[[('female', 'group A'), ('female', 'group B')]]"
   ],
   "execution_count": 0,
   "outputs": [
    {
     "output_type": "execute_result",
     "data": {
      "text/html": [
       "<div>\n",
       "<style scoped>\n",
       "    .dataframe tbody tr th:only-of-type {\n",
       "        vertical-align: middle;\n",
       "    }\n",
       "\n",
       "    .dataframe tbody tr th {\n",
       "        vertical-align: top;\n",
       "    }\n",
       "\n",
       "    .dataframe thead th {\n",
       "        text-align: right;\n",
       "    }\n",
       "</style>\n",
       "<table border=\"1\" class=\"dataframe\">\n",
       "  <thead>\n",
       "    <tr style=\"text-align: right;\">\n",
       "      <th></th>\n",
       "      <th></th>\n",
       "      <th>mean_math_score</th>\n",
       "      <th>mean_reading_score</th>\n",
       "    </tr>\n",
       "    <tr>\n",
       "      <th>gender</th>\n",
       "      <th>race/ethnicity</th>\n",
       "      <th></th>\n",
       "      <th></th>\n",
       "    </tr>\n",
       "  </thead>\n",
       "  <tbody>\n",
       "    <tr>\n",
       "      <th rowspan=\"2\" valign=\"top\">female</th>\n",
       "      <th>group A</th>\n",
       "      <td>58.527778</td>\n",
       "      <td>69.000000</td>\n",
       "    </tr>\n",
       "    <tr>\n",
       "      <th>group B</th>\n",
       "      <td>61.403846</td>\n",
       "      <td>71.076923</td>\n",
       "    </tr>\n",
       "  </tbody>\n",
       "</table>\n",
       "</div>"
      ],
      "text/plain": [
       "                       mean_math_score  mean_reading_score\n",
       "gender race/ethnicity                                     \n",
       "female group A               58.527778           69.000000\n",
       "       group B               61.403846           71.076923"
      ]
     },
     "metadata": {
      "tags": []
     },
     "execution_count": 166
    }
   ]
  },
  {
   "cell_type": "code",
   "metadata": {
    "id": "omD02MFvi4d3",
    "colab_type": "code",
    "outputId": "26a8735f-8933-4b10-e3b2-fa0a078f39be",
    "colab": {
     "base_uri": "https://localhost:8080/",
     "height": 359
    }
   },
   "source": [
    "mean_scores2 = student_performance.groupby(['gender', 'race/ethnicity'], as_index=False) \\\n",
    ".aggregate({'math_score': 'mean', 'reading_score': 'mean'}) \\\n",
    ".rename(columns={'math_score':'mean_math_score', 'reading_score': 'mean_reading_score'})\n",
    "mean_scores2"
   ],
   "execution_count": 0,
   "outputs": [
    {
     "output_type": "execute_result",
     "data": {
      "text/html": [
       "<div>\n",
       "<style scoped>\n",
       "    .dataframe tbody tr th:only-of-type {\n",
       "        vertical-align: middle;\n",
       "    }\n",
       "\n",
       "    .dataframe tbody tr th {\n",
       "        vertical-align: top;\n",
       "    }\n",
       "\n",
       "    .dataframe thead th {\n",
       "        text-align: right;\n",
       "    }\n",
       "</style>\n",
       "<table border=\"1\" class=\"dataframe\">\n",
       "  <thead>\n",
       "    <tr style=\"text-align: right;\">\n",
       "      <th></th>\n",
       "      <th>gender</th>\n",
       "      <th>race/ethnicity</th>\n",
       "      <th>mean_math_score</th>\n",
       "      <th>mean_reading_score</th>\n",
       "    </tr>\n",
       "  </thead>\n",
       "  <tbody>\n",
       "    <tr>\n",
       "      <th>0</th>\n",
       "      <td>female</td>\n",
       "      <td>group A</td>\n",
       "      <td>58.527778</td>\n",
       "      <td>69.000000</td>\n",
       "    </tr>\n",
       "    <tr>\n",
       "      <th>1</th>\n",
       "      <td>female</td>\n",
       "      <td>group B</td>\n",
       "      <td>61.403846</td>\n",
       "      <td>71.076923</td>\n",
       "    </tr>\n",
       "    <tr>\n",
       "      <th>2</th>\n",
       "      <td>female</td>\n",
       "      <td>group C</td>\n",
       "      <td>62.033333</td>\n",
       "      <td>71.944444</td>\n",
       "    </tr>\n",
       "    <tr>\n",
       "      <th>3</th>\n",
       "      <td>female</td>\n",
       "      <td>group D</td>\n",
       "      <td>65.248062</td>\n",
       "      <td>74.046512</td>\n",
       "    </tr>\n",
       "    <tr>\n",
       "      <th>4</th>\n",
       "      <td>female</td>\n",
       "      <td>group E</td>\n",
       "      <td>70.811594</td>\n",
       "      <td>75.840580</td>\n",
       "    </tr>\n",
       "    <tr>\n",
       "      <th>5</th>\n",
       "      <td>male</td>\n",
       "      <td>group A</td>\n",
       "      <td>63.735849</td>\n",
       "      <td>61.735849</td>\n",
       "    </tr>\n",
       "    <tr>\n",
       "      <th>6</th>\n",
       "      <td>male</td>\n",
       "      <td>group B</td>\n",
       "      <td>65.930233</td>\n",
       "      <td>62.848837</td>\n",
       "    </tr>\n",
       "    <tr>\n",
       "      <th>7</th>\n",
       "      <td>male</td>\n",
       "      <td>group C</td>\n",
       "      <td>67.611511</td>\n",
       "      <td>65.424460</td>\n",
       "    </tr>\n",
       "    <tr>\n",
       "      <th>8</th>\n",
       "      <td>male</td>\n",
       "      <td>group D</td>\n",
       "      <td>69.413534</td>\n",
       "      <td>66.135338</td>\n",
       "    </tr>\n",
       "    <tr>\n",
       "      <th>9</th>\n",
       "      <td>male</td>\n",
       "      <td>group E</td>\n",
       "      <td>76.746479</td>\n",
       "      <td>70.295775</td>\n",
       "    </tr>\n",
       "  </tbody>\n",
       "</table>\n",
       "</div>"
      ],
      "text/plain": [
       "   gender race/ethnicity  mean_math_score  mean_reading_score\n",
       "0  female        group A        58.527778           69.000000\n",
       "1  female        group B        61.403846           71.076923\n",
       "2  female        group C        62.033333           71.944444\n",
       "3  female        group D        65.248062           74.046512\n",
       "4  female        group E        70.811594           75.840580\n",
       "5    male        group A        63.735849           61.735849\n",
       "6    male        group B        65.930233           62.848837\n",
       "7    male        group C        67.611511           65.424460\n",
       "8    male        group D        69.413534           66.135338\n",
       "9    male        group E        76.746479           70.295775"
      ]
     },
     "metadata": {
      "tags": []
     },
     "execution_count": 173
    }
   ]
  },
  {
   "cell_type": "code",
   "metadata": {
    "id": "y1LHy552j9jg",
    "colab_type": "code",
    "outputId": "12c78ab3-dfd2-4481-a953-130204a987e9",
    "colab": {
     "base_uri": "https://localhost:8080/",
     "height": 359
    }
   },
   "source": [
    "student_performance.sort_values(['gender', 'math_score'], ascending=False) \\\n",
    ".groupby('gender') \\\n",
    ".head()"
   ],
   "execution_count": 0,
   "outputs": [
    {
     "output_type": "execute_result",
     "data": {
      "text/html": [
       "<div>\n",
       "<style scoped>\n",
       "    .dataframe tbody tr th:only-of-type {\n",
       "        vertical-align: middle;\n",
       "    }\n",
       "\n",
       "    .dataframe tbody tr th {\n",
       "        vertical-align: top;\n",
       "    }\n",
       "\n",
       "    .dataframe thead th {\n",
       "        text-align: right;\n",
       "    }\n",
       "</style>\n",
       "<table border=\"1\" class=\"dataframe\">\n",
       "  <thead>\n",
       "    <tr style=\"text-align: right;\">\n",
       "      <th></th>\n",
       "      <th>gender</th>\n",
       "      <th>race/ethnicity</th>\n",
       "      <th>parental_level_of_education</th>\n",
       "      <th>lunch</th>\n",
       "      <th>test_preparation_course</th>\n",
       "      <th>math_score</th>\n",
       "      <th>reading_score</th>\n",
       "      <th>writing_score</th>\n",
       "    </tr>\n",
       "  </thead>\n",
       "  <tbody>\n",
       "    <tr>\n",
       "      <th>149</th>\n",
       "      <td>male</td>\n",
       "      <td>group E</td>\n",
       "      <td>associate's degree</td>\n",
       "      <td>free/reduced</td>\n",
       "      <td>completed</td>\n",
       "      <td>100</td>\n",
       "      <td>100</td>\n",
       "      <td>93</td>\n",
       "    </tr>\n",
       "    <tr>\n",
       "      <th>623</th>\n",
       "      <td>male</td>\n",
       "      <td>group A</td>\n",
       "      <td>some college</td>\n",
       "      <td>standard</td>\n",
       "      <td>completed</td>\n",
       "      <td>100</td>\n",
       "      <td>96</td>\n",
       "      <td>86</td>\n",
       "    </tr>\n",
       "    <tr>\n",
       "      <th>625</th>\n",
       "      <td>male</td>\n",
       "      <td>group D</td>\n",
       "      <td>some college</td>\n",
       "      <td>standard</td>\n",
       "      <td>completed</td>\n",
       "      <td>100</td>\n",
       "      <td>97</td>\n",
       "      <td>99</td>\n",
       "    </tr>\n",
       "    <tr>\n",
       "      <th>916</th>\n",
       "      <td>male</td>\n",
       "      <td>group E</td>\n",
       "      <td>bachelor's degree</td>\n",
       "      <td>standard</td>\n",
       "      <td>completed</td>\n",
       "      <td>100</td>\n",
       "      <td>100</td>\n",
       "      <td>100</td>\n",
       "    </tr>\n",
       "    <tr>\n",
       "      <th>306</th>\n",
       "      <td>male</td>\n",
       "      <td>group E</td>\n",
       "      <td>some college</td>\n",
       "      <td>standard</td>\n",
       "      <td>completed</td>\n",
       "      <td>99</td>\n",
       "      <td>87</td>\n",
       "      <td>81</td>\n",
       "    </tr>\n",
       "    <tr>\n",
       "      <th>451</th>\n",
       "      <td>female</td>\n",
       "      <td>group E</td>\n",
       "      <td>some college</td>\n",
       "      <td>standard</td>\n",
       "      <td>none</td>\n",
       "      <td>100</td>\n",
       "      <td>92</td>\n",
       "      <td>97</td>\n",
       "    </tr>\n",
       "    <tr>\n",
       "      <th>458</th>\n",
       "      <td>female</td>\n",
       "      <td>group E</td>\n",
       "      <td>bachelor's degree</td>\n",
       "      <td>standard</td>\n",
       "      <td>none</td>\n",
       "      <td>100</td>\n",
       "      <td>100</td>\n",
       "      <td>100</td>\n",
       "    </tr>\n",
       "    <tr>\n",
       "      <th>962</th>\n",
       "      <td>female</td>\n",
       "      <td>group E</td>\n",
       "      <td>associate's degree</td>\n",
       "      <td>standard</td>\n",
       "      <td>none</td>\n",
       "      <td>100</td>\n",
       "      <td>100</td>\n",
       "      <td>100</td>\n",
       "    </tr>\n",
       "    <tr>\n",
       "      <th>114</th>\n",
       "      <td>female</td>\n",
       "      <td>group E</td>\n",
       "      <td>bachelor's degree</td>\n",
       "      <td>standard</td>\n",
       "      <td>completed</td>\n",
       "      <td>99</td>\n",
       "      <td>100</td>\n",
       "      <td>100</td>\n",
       "    </tr>\n",
       "    <tr>\n",
       "      <th>263</th>\n",
       "      <td>female</td>\n",
       "      <td>group E</td>\n",
       "      <td>high school</td>\n",
       "      <td>standard</td>\n",
       "      <td>none</td>\n",
       "      <td>99</td>\n",
       "      <td>93</td>\n",
       "      <td>90</td>\n",
       "    </tr>\n",
       "  </tbody>\n",
       "</table>\n",
       "</div>"
      ],
      "text/plain": [
       "     gender race/ethnicity  ... reading_score writing_score\n",
       "149    male        group E  ...           100            93\n",
       "623    male        group A  ...            96            86\n",
       "625    male        group D  ...            97            99\n",
       "916    male        group E  ...           100           100\n",
       "306    male        group E  ...            87            81\n",
       "451  female        group E  ...            92            97\n",
       "458  female        group E  ...           100           100\n",
       "962  female        group E  ...           100           100\n",
       "114  female        group E  ...           100           100\n",
       "263  female        group E  ...            93            90\n",
       "\n",
       "[10 rows x 8 columns]"
      ]
     },
     "metadata": {
      "tags": []
     },
     "execution_count": 190
    }
   ]
  },
  {
   "cell_type": "code",
   "metadata": {
    "id": "nSE6o7-Rl6RJ",
    "colab_type": "code",
    "outputId": "61ac5db7-13bf-4c61-ae5a-1d8cf724fa6a",
    "colab": {
     "base_uri": "https://localhost:8080/",
     "height": 119
    }
   },
   "source": [
    "student_performance.total_score=student_performance.math_score+student_performance.reading_score+student_performance.writing_score\n",
    "student_performance.total_score.head()"
   ],
   "execution_count": 0,
   "outputs": [
    {
     "output_type": "execute_result",
     "data": {
      "text/plain": [
       "0    218\n",
       "1    247\n",
       "2    278\n",
       "3    148\n",
       "4    229\n",
       "Name: total_score, dtype: int64"
      ]
     },
     "metadata": {
      "tags": []
     },
     "execution_count": 194
    }
   ]
  },
  {
   "cell_type": "code",
   "metadata": {
    "id": "7sDPYbJ5pJHi",
    "colab_type": "code",
    "outputId": "69a06ec3-1646-4186-b88f-d25cba4cc161",
    "colab": {
     "base_uri": "https://localhost:8080/",
     "height": 119
    }
   },
   "source": [
    "student_performance['total_score']=student_performance.math_score+student_performance.reading_score+student_performance.writing_score\n",
    "student_performance['total_score'].head()"
   ],
   "execution_count": 0,
   "outputs": [
    {
     "output_type": "execute_result",
     "data": {
      "text/plain": [
       "0    218\n",
       "1    247\n",
       "2    278\n",
       "3    148\n",
       "4    229\n",
       "Name: total_score, dtype: int64"
      ]
     },
     "metadata": {
      "tags": []
     },
     "execution_count": 198
    }
   ]
  },
  {
   "cell_type": "code",
   "metadata": {
    "id": "rglWfzPFpOlS",
    "colab_type": "code",
    "outputId": "dbbc326a-3623-4a92-f8d9-cb932228bfe7",
    "colab": {
     "base_uri": "https://localhost:8080/",
     "height": 204
    }
   },
   "source": [
    "student_performances = student_performance.assign(total_score_log=np.log(student_performance.total_score))\n",
    "student_performances.head()"
   ],
   "execution_count": 0,
   "outputs": [
    {
     "output_type": "execute_result",
     "data": {
      "text/html": [
       "<div>\n",
       "<style scoped>\n",
       "    .dataframe tbody tr th:only-of-type {\n",
       "        vertical-align: middle;\n",
       "    }\n",
       "\n",
       "    .dataframe tbody tr th {\n",
       "        vertical-align: top;\n",
       "    }\n",
       "\n",
       "    .dataframe thead th {\n",
       "        text-align: right;\n",
       "    }\n",
       "</style>\n",
       "<table border=\"1\" class=\"dataframe\">\n",
       "  <thead>\n",
       "    <tr style=\"text-align: right;\">\n",
       "      <th></th>\n",
       "      <th>gender</th>\n",
       "      <th>race/ethnicity</th>\n",
       "      <th>parental_level_of_education</th>\n",
       "      <th>lunch</th>\n",
       "      <th>test_preparation_course</th>\n",
       "      <th>math_score</th>\n",
       "      <th>reading_score</th>\n",
       "      <th>writing_score</th>\n",
       "      <th>total_score</th>\n",
       "      <th>total_score_log</th>\n",
       "    </tr>\n",
       "  </thead>\n",
       "  <tbody>\n",
       "    <tr>\n",
       "      <th>0</th>\n",
       "      <td>female</td>\n",
       "      <td>group B</td>\n",
       "      <td>bachelor's degree</td>\n",
       "      <td>standard</td>\n",
       "      <td>none</td>\n",
       "      <td>72</td>\n",
       "      <td>72</td>\n",
       "      <td>74</td>\n",
       "      <td>218</td>\n",
       "      <td>5.384495</td>\n",
       "    </tr>\n",
       "    <tr>\n",
       "      <th>1</th>\n",
       "      <td>female</td>\n",
       "      <td>group C</td>\n",
       "      <td>some college</td>\n",
       "      <td>standard</td>\n",
       "      <td>completed</td>\n",
       "      <td>69</td>\n",
       "      <td>90</td>\n",
       "      <td>88</td>\n",
       "      <td>247</td>\n",
       "      <td>5.509388</td>\n",
       "    </tr>\n",
       "    <tr>\n",
       "      <th>2</th>\n",
       "      <td>female</td>\n",
       "      <td>group B</td>\n",
       "      <td>master's degree</td>\n",
       "      <td>standard</td>\n",
       "      <td>none</td>\n",
       "      <td>90</td>\n",
       "      <td>95</td>\n",
       "      <td>93</td>\n",
       "      <td>278</td>\n",
       "      <td>5.627621</td>\n",
       "    </tr>\n",
       "    <tr>\n",
       "      <th>3</th>\n",
       "      <td>male</td>\n",
       "      <td>group A</td>\n",
       "      <td>associate's degree</td>\n",
       "      <td>free/reduced</td>\n",
       "      <td>none</td>\n",
       "      <td>47</td>\n",
       "      <td>57</td>\n",
       "      <td>44</td>\n",
       "      <td>148</td>\n",
       "      <td>4.997212</td>\n",
       "    </tr>\n",
       "    <tr>\n",
       "      <th>4</th>\n",
       "      <td>male</td>\n",
       "      <td>group C</td>\n",
       "      <td>some college</td>\n",
       "      <td>standard</td>\n",
       "      <td>none</td>\n",
       "      <td>76</td>\n",
       "      <td>78</td>\n",
       "      <td>75</td>\n",
       "      <td>229</td>\n",
       "      <td>5.433722</td>\n",
       "    </tr>\n",
       "  </tbody>\n",
       "</table>\n",
       "</div>"
      ],
      "text/plain": [
       "   gender race/ethnicity  ... total_score total_score_log\n",
       "0  female        group B  ...         218        5.384495\n",
       "1  female        group C  ...         247        5.509388\n",
       "2  female        group B  ...         278        5.627621\n",
       "3    male        group A  ...         148        4.997212\n",
       "4    male        group C  ...         229        5.433722\n",
       "\n",
       "[5 rows x 10 columns]"
      ]
     },
     "metadata": {
      "tags": []
     },
     "execution_count": 201
    }
   ]
  },
  {
   "cell_type": "code",
   "metadata": {
    "id": "pC8dKO7Cp300",
    "colab_type": "code",
    "outputId": "044f17d5-abfe-4e65-fdeb-22ef7d11add1",
    "colab": {
     "base_uri": "https://localhost:8080/",
     "height": 204
    }
   },
   "source": [
    "student_performances.drop(['total_score', 'lunch'], axis=1).head()\n"
   ],
   "execution_count": 0,
   "outputs": [
    {
     "output_type": "execute_result",
     "data": {
      "text/html": [
       "<div>\n",
       "<style scoped>\n",
       "    .dataframe tbody tr th:only-of-type {\n",
       "        vertical-align: middle;\n",
       "    }\n",
       "\n",
       "    .dataframe tbody tr th {\n",
       "        vertical-align: top;\n",
       "    }\n",
       "\n",
       "    .dataframe thead th {\n",
       "        text-align: right;\n",
       "    }\n",
       "</style>\n",
       "<table border=\"1\" class=\"dataframe\">\n",
       "  <thead>\n",
       "    <tr style=\"text-align: right;\">\n",
       "      <th></th>\n",
       "      <th>gender</th>\n",
       "      <th>race/ethnicity</th>\n",
       "      <th>parental_level_of_education</th>\n",
       "      <th>test_preparation_course</th>\n",
       "      <th>math_score</th>\n",
       "      <th>reading_score</th>\n",
       "      <th>writing_score</th>\n",
       "      <th>total_score_log</th>\n",
       "    </tr>\n",
       "  </thead>\n",
       "  <tbody>\n",
       "    <tr>\n",
       "      <th>0</th>\n",
       "      <td>female</td>\n",
       "      <td>group B</td>\n",
       "      <td>bachelor's degree</td>\n",
       "      <td>none</td>\n",
       "      <td>72</td>\n",
       "      <td>72</td>\n",
       "      <td>74</td>\n",
       "      <td>5.384495</td>\n",
       "    </tr>\n",
       "    <tr>\n",
       "      <th>1</th>\n",
       "      <td>female</td>\n",
       "      <td>group C</td>\n",
       "      <td>some college</td>\n",
       "      <td>completed</td>\n",
       "      <td>69</td>\n",
       "      <td>90</td>\n",
       "      <td>88</td>\n",
       "      <td>5.509388</td>\n",
       "    </tr>\n",
       "    <tr>\n",
       "      <th>2</th>\n",
       "      <td>female</td>\n",
       "      <td>group B</td>\n",
       "      <td>master's degree</td>\n",
       "      <td>none</td>\n",
       "      <td>90</td>\n",
       "      <td>95</td>\n",
       "      <td>93</td>\n",
       "      <td>5.627621</td>\n",
       "    </tr>\n",
       "    <tr>\n",
       "      <th>3</th>\n",
       "      <td>male</td>\n",
       "      <td>group A</td>\n",
       "      <td>associate's degree</td>\n",
       "      <td>none</td>\n",
       "      <td>47</td>\n",
       "      <td>57</td>\n",
       "      <td>44</td>\n",
       "      <td>4.997212</td>\n",
       "    </tr>\n",
       "    <tr>\n",
       "      <th>4</th>\n",
       "      <td>male</td>\n",
       "      <td>group C</td>\n",
       "      <td>some college</td>\n",
       "      <td>none</td>\n",
       "      <td>76</td>\n",
       "      <td>78</td>\n",
       "      <td>75</td>\n",
       "      <td>5.433722</td>\n",
       "    </tr>\n",
       "  </tbody>\n",
       "</table>\n",
       "</div>"
      ],
      "text/plain": [
       "   gender race/ethnicity  ... writing_score total_score_log\n",
       "0  female        group B  ...            74        5.384495\n",
       "1  female        group C  ...            88        5.509388\n",
       "2  female        group B  ...            93        5.627621\n",
       "3    male        group A  ...            44        4.997212\n",
       "4    male        group C  ...            75        5.433722\n",
       "\n",
       "[5 rows x 8 columns]"
      ]
     },
     "metadata": {
      "tags": []
     },
     "execution_count": 207
    }
   ]
  },
  {
   "cell_type": "code",
   "metadata": {
    "id": "GtLUgdChqtcP",
    "colab_type": "code",
    "colab": {},
    "pycharm": {
     "is_executing": false
    }
   },
   "source": [
    "student_performance.loc[2,['gender','lunch']]"
   ],
   "execution_count": 91,
   "outputs": [
    {
     "data": {
      "text/plain": "gender      female\nlunch     standard\nName: 2, dtype: object"
     },
     "metadata": {},
     "output_type": "execute_result",
     "execution_count": 91
    }
   ]
  },
  {
   "cell_type": "code",
   "execution_count": 121,
   "outputs": [
    {
     "data": {
      "text/plain": "parental level of education    associate's degree\nlunch                                    standard\nName: 5, dtype: object"
     },
     "metadata": {},
     "output_type": "execute_result",
     "execution_count": 121
    }
   ],
   "source": [
    "student_performance.iloc[5,[2,3]]\n"
   ],
   "metadata": {
    "collapsed": false,
    "pycharm": {
     "name": "#%%\n",
     "is_executing": false
    }
   }
  },
  {
   "cell_type": "code",
   "execution_count": 63,
   "outputs": [
    {
     "data": {
      "text/plain": "        gender race/ethnicity parental level of education\nCersei  female        group B           bachelor's degree\nJoffry     NaN            NaN                         NaN",
      "text/html": "<div>\n<style scoped>\n    .dataframe tbody tr th:only-of-type {\n        vertical-align: middle;\n    }\n\n    .dataframe tbody tr th {\n        vertical-align: top;\n    }\n\n    .dataframe thead th {\n        text-align: right;\n    }\n</style>\n<table border=\"1\" class=\"dataframe\">\n  <thead>\n    <tr style=\"text-align: right;\">\n      <th></th>\n      <th>gender</th>\n      <th>race/ethnicity</th>\n      <th>parental level of education</th>\n    </tr>\n  </thead>\n  <tbody>\n    <tr>\n      <th>Cersei</th>\n      <td>female</td>\n      <td>group B</td>\n      <td>bachelor's degree</td>\n    </tr>\n    <tr>\n      <th>Joffry</th>\n      <td>NaN</td>\n      <td>NaN</td>\n      <td>NaN</td>\n    </tr>\n  </tbody>\n</table>\n</div>"
     },
     "metadata": {},
     "output_type": "execute_result",
     "execution_count": 63
    }
   ],
   "source": [
    "student_performance_with_names.loc[['Cersei', 'Joffry'], ['gender', 'race/ethnicity', 'parental level of education']]"
   ],
   "metadata": {
    "collapsed": false,
    "pycharm": {
     "name": "#%%\n",
     "is_executing": false
    }
   }
  },
  {
   "cell_type": "code",
   "execution_count": 92,
   "outputs": [
    {
     "traceback": [
      "\u001b[1;31m---------------------------------------------------------------------------\u001b[0m",
      "\u001b[1;31mKeyError\u001b[0m                                  Traceback (most recent call last)",
      "\u001b[1;32m<ipython-input-92-57fa58797208>\u001b[0m in \u001b[0;36m<module>\u001b[1;34m\u001b[0m\n\u001b[0;32m      1\u001b[0m \u001b[1;33m\u001b[0m\u001b[0m\n\u001b[1;32m----> 2\u001b[1;33m \u001b[0mstudent_performance_with_names\u001b[0m\u001b[1;33m.\u001b[0m\u001b[0mloc\u001b[0m\u001b[1;33m[\u001b[0m\u001b[1;33m[\u001b[0m\u001b[1;36m1\u001b[0m\u001b[1;33m,\u001b[0m\u001b[1;36m2\u001b[0m\u001b[1;33m]\u001b[0m\u001b[1;33m,\u001b[0m\u001b[1;34m'gender'\u001b[0m\u001b[1;33m]\u001b[0m\u001b[1;33m\u001b[0m\u001b[1;33m\u001b[0m\u001b[0m\n\u001b[0m\u001b[0;32m      3\u001b[0m \u001b[1;33m\u001b[0m\u001b[0m\n\u001b[0;32m      4\u001b[0m \u001b[1;33m\u001b[0m\u001b[0m\n",
      "\u001b[1;32m~\\Annaconda3\\lib\\site-packages\\pandas\\core\\indexing.py\u001b[0m in \u001b[0;36m__getitem__\u001b[1;34m(self, key)\u001b[0m\n\u001b[0;32m   1492\u001b[0m             \u001b[1;32mexcept\u001b[0m \u001b[1;33m(\u001b[0m\u001b[0mKeyError\u001b[0m\u001b[1;33m,\u001b[0m \u001b[0mIndexError\u001b[0m\u001b[1;33m,\u001b[0m \u001b[0mAttributeError\u001b[0m\u001b[1;33m)\u001b[0m\u001b[1;33m:\u001b[0m\u001b[1;33m\u001b[0m\u001b[1;33m\u001b[0m\u001b[0m\n\u001b[0;32m   1493\u001b[0m                 \u001b[1;32mpass\u001b[0m\u001b[1;33m\u001b[0m\u001b[1;33m\u001b[0m\u001b[0m\n\u001b[1;32m-> 1494\u001b[1;33m             \u001b[1;32mreturn\u001b[0m \u001b[0mself\u001b[0m\u001b[1;33m.\u001b[0m\u001b[0m_getitem_tuple\u001b[0m\u001b[1;33m(\u001b[0m\u001b[0mkey\u001b[0m\u001b[1;33m)\u001b[0m\u001b[1;33m\u001b[0m\u001b[1;33m\u001b[0m\u001b[0m\n\u001b[0m\u001b[0;32m   1495\u001b[0m         \u001b[1;32melse\u001b[0m\u001b[1;33m:\u001b[0m\u001b[1;33m\u001b[0m\u001b[1;33m\u001b[0m\u001b[0m\n\u001b[0;32m   1496\u001b[0m             \u001b[1;31m# we by definition only have the 0th axis\u001b[0m\u001b[1;33m\u001b[0m\u001b[1;33m\u001b[0m\u001b[1;33m\u001b[0m\u001b[0m\n",
      "\u001b[1;32m~\\Annaconda3\\lib\\site-packages\\pandas\\core\\indexing.py\u001b[0m in \u001b[0;36m_getitem_tuple\u001b[1;34m(self, tup)\u001b[0m\n\u001b[0;32m    866\u001b[0m     \u001b[1;32mdef\u001b[0m \u001b[0m_getitem_tuple\u001b[0m\u001b[1;33m(\u001b[0m\u001b[0mself\u001b[0m\u001b[1;33m,\u001b[0m \u001b[0mtup\u001b[0m\u001b[1;33m)\u001b[0m\u001b[1;33m:\u001b[0m\u001b[1;33m\u001b[0m\u001b[1;33m\u001b[0m\u001b[0m\n\u001b[0;32m    867\u001b[0m         \u001b[1;32mtry\u001b[0m\u001b[1;33m:\u001b[0m\u001b[1;33m\u001b[0m\u001b[1;33m\u001b[0m\u001b[0m\n\u001b[1;32m--> 868\u001b[1;33m             \u001b[1;32mreturn\u001b[0m \u001b[0mself\u001b[0m\u001b[1;33m.\u001b[0m\u001b[0m_getitem_lowerdim\u001b[0m\u001b[1;33m(\u001b[0m\u001b[0mtup\u001b[0m\u001b[1;33m)\u001b[0m\u001b[1;33m\u001b[0m\u001b[1;33m\u001b[0m\u001b[0m\n\u001b[0m\u001b[0;32m    869\u001b[0m         \u001b[1;32mexcept\u001b[0m \u001b[0mIndexingError\u001b[0m\u001b[1;33m:\u001b[0m\u001b[1;33m\u001b[0m\u001b[1;33m\u001b[0m\u001b[0m\n\u001b[0;32m    870\u001b[0m             \u001b[1;32mpass\u001b[0m\u001b[1;33m\u001b[0m\u001b[1;33m\u001b[0m\u001b[0m\n",
      "\u001b[1;32m~\\Annaconda3\\lib\\site-packages\\pandas\\core\\indexing.py\u001b[0m in \u001b[0;36m_getitem_lowerdim\u001b[1;34m(self, tup)\u001b[0m\n\u001b[0;32m   1015\u001b[0m                     \u001b[1;32mreturn\u001b[0m \u001b[0msection\u001b[0m\u001b[1;33m\u001b[0m\u001b[1;33m\u001b[0m\u001b[0m\n\u001b[0;32m   1016\u001b[0m                 \u001b[1;31m# This is an elided recursive call to iloc/loc/etc'\u001b[0m\u001b[1;33m\u001b[0m\u001b[1;33m\u001b[0m\u001b[1;33m\u001b[0m\u001b[0m\n\u001b[1;32m-> 1017\u001b[1;33m                 \u001b[1;32mreturn\u001b[0m \u001b[0mgetattr\u001b[0m\u001b[1;33m(\u001b[0m\u001b[0msection\u001b[0m\u001b[1;33m,\u001b[0m \u001b[0mself\u001b[0m\u001b[1;33m.\u001b[0m\u001b[0mname\u001b[0m\u001b[1;33m)\u001b[0m\u001b[1;33m[\u001b[0m\u001b[0mnew_key\u001b[0m\u001b[1;33m]\u001b[0m\u001b[1;33m\u001b[0m\u001b[1;33m\u001b[0m\u001b[0m\n\u001b[0m\u001b[0;32m   1018\u001b[0m \u001b[1;33m\u001b[0m\u001b[0m\n\u001b[0;32m   1019\u001b[0m         \u001b[1;32mraise\u001b[0m \u001b[0mIndexingError\u001b[0m\u001b[1;33m(\u001b[0m\u001b[1;34m'not applicable'\u001b[0m\u001b[1;33m)\u001b[0m\u001b[1;33m\u001b[0m\u001b[1;33m\u001b[0m\u001b[0m\n",
      "\u001b[1;32m~\\Annaconda3\\lib\\site-packages\\pandas\\core\\indexing.py\u001b[0m in \u001b[0;36m__getitem__\u001b[1;34m(self, key)\u001b[0m\n\u001b[0;32m   1498\u001b[0m \u001b[1;33m\u001b[0m\u001b[0m\n\u001b[0;32m   1499\u001b[0m             \u001b[0mmaybe_callable\u001b[0m \u001b[1;33m=\u001b[0m \u001b[0mcom\u001b[0m\u001b[1;33m.\u001b[0m\u001b[0mapply_if_callable\u001b[0m\u001b[1;33m(\u001b[0m\u001b[0mkey\u001b[0m\u001b[1;33m,\u001b[0m \u001b[0mself\u001b[0m\u001b[1;33m.\u001b[0m\u001b[0mobj\u001b[0m\u001b[1;33m)\u001b[0m\u001b[1;33m\u001b[0m\u001b[1;33m\u001b[0m\u001b[0m\n\u001b[1;32m-> 1500\u001b[1;33m             \u001b[1;32mreturn\u001b[0m \u001b[0mself\u001b[0m\u001b[1;33m.\u001b[0m\u001b[0m_getitem_axis\u001b[0m\u001b[1;33m(\u001b[0m\u001b[0mmaybe_callable\u001b[0m\u001b[1;33m,\u001b[0m \u001b[0maxis\u001b[0m\u001b[1;33m=\u001b[0m\u001b[0maxis\u001b[0m\u001b[1;33m)\u001b[0m\u001b[1;33m\u001b[0m\u001b[1;33m\u001b[0m\u001b[0m\n\u001b[0m\u001b[0;32m   1501\u001b[0m \u001b[1;33m\u001b[0m\u001b[0m\n\u001b[0;32m   1502\u001b[0m     \u001b[1;32mdef\u001b[0m \u001b[0m_is_scalar_access\u001b[0m\u001b[1;33m(\u001b[0m\u001b[0mself\u001b[0m\u001b[1;33m,\u001b[0m \u001b[0mkey\u001b[0m\u001b[1;33m)\u001b[0m\u001b[1;33m:\u001b[0m\u001b[1;33m\u001b[0m\u001b[1;33m\u001b[0m\u001b[0m\n",
      "\u001b[1;32m~\\Annaconda3\\lib\\site-packages\\pandas\\core\\indexing.py\u001b[0m in \u001b[0;36m_getitem_axis\u001b[1;34m(self, key, axis)\u001b[0m\n\u001b[0;32m   1900\u001b[0m                     \u001b[1;32mraise\u001b[0m \u001b[0mValueError\u001b[0m\u001b[1;33m(\u001b[0m\u001b[1;34m'Cannot index with multidimensional key'\u001b[0m\u001b[1;33m)\u001b[0m\u001b[1;33m\u001b[0m\u001b[1;33m\u001b[0m\u001b[0m\n\u001b[0;32m   1901\u001b[0m \u001b[1;33m\u001b[0m\u001b[0m\n\u001b[1;32m-> 1902\u001b[1;33m                 \u001b[1;32mreturn\u001b[0m \u001b[0mself\u001b[0m\u001b[1;33m.\u001b[0m\u001b[0m_getitem_iterable\u001b[0m\u001b[1;33m(\u001b[0m\u001b[0mkey\u001b[0m\u001b[1;33m,\u001b[0m \u001b[0maxis\u001b[0m\u001b[1;33m=\u001b[0m\u001b[0maxis\u001b[0m\u001b[1;33m)\u001b[0m\u001b[1;33m\u001b[0m\u001b[1;33m\u001b[0m\u001b[0m\n\u001b[0m\u001b[0;32m   1903\u001b[0m \u001b[1;33m\u001b[0m\u001b[0m\n\u001b[0;32m   1904\u001b[0m             \u001b[1;31m# nested tuple slicing\u001b[0m\u001b[1;33m\u001b[0m\u001b[1;33m\u001b[0m\u001b[1;33m\u001b[0m\u001b[0m\n",
      "\u001b[1;32m~\\Annaconda3\\lib\\site-packages\\pandas\\core\\indexing.py\u001b[0m in \u001b[0;36m_getitem_iterable\u001b[1;34m(self, key, axis)\u001b[0m\n\u001b[0;32m   1203\u001b[0m             \u001b[1;31m# A collection of keys\u001b[0m\u001b[1;33m\u001b[0m\u001b[1;33m\u001b[0m\u001b[1;33m\u001b[0m\u001b[0m\n\u001b[0;32m   1204\u001b[0m             keyarr, indexer = self._get_listlike_indexer(key, axis,\n\u001b[1;32m-> 1205\u001b[1;33m                                                          raise_missing=False)\n\u001b[0m\u001b[0;32m   1206\u001b[0m             return self.obj._reindex_with_indexers({axis: [keyarr, indexer]},\n\u001b[0;32m   1207\u001b[0m                                                    copy=True, allow_dups=True)\n",
      "\u001b[1;32m~\\Annaconda3\\lib\\site-packages\\pandas\\core\\indexing.py\u001b[0m in \u001b[0;36m_get_listlike_indexer\u001b[1;34m(self, key, axis, raise_missing)\u001b[0m\n\u001b[0;32m   1159\u001b[0m         self._validate_read_indexer(keyarr, indexer,\n\u001b[0;32m   1160\u001b[0m                                     \u001b[0mo\u001b[0m\u001b[1;33m.\u001b[0m\u001b[0m_get_axis_number\u001b[0m\u001b[1;33m(\u001b[0m\u001b[0maxis\u001b[0m\u001b[1;33m)\u001b[0m\u001b[1;33m,\u001b[0m\u001b[1;33m\u001b[0m\u001b[1;33m\u001b[0m\u001b[0m\n\u001b[1;32m-> 1161\u001b[1;33m                                     raise_missing=raise_missing)\n\u001b[0m\u001b[0;32m   1162\u001b[0m         \u001b[1;32mreturn\u001b[0m \u001b[0mkeyarr\u001b[0m\u001b[1;33m,\u001b[0m \u001b[0mindexer\u001b[0m\u001b[1;33m\u001b[0m\u001b[1;33m\u001b[0m\u001b[0m\n\u001b[0;32m   1163\u001b[0m \u001b[1;33m\u001b[0m\u001b[0m\n",
      "\u001b[1;32m~\\Annaconda3\\lib\\site-packages\\pandas\\core\\indexing.py\u001b[0m in \u001b[0;36m_validate_read_indexer\u001b[1;34m(self, key, indexer, axis, raise_missing)\u001b[0m\n\u001b[0;32m   1244\u001b[0m                 raise KeyError(\n\u001b[0;32m   1245\u001b[0m                     u\"None of [{key}] are in the [{axis}]\".format(\n\u001b[1;32m-> 1246\u001b[1;33m                         key=key, axis=self.obj._get_axis_name(axis)))\n\u001b[0m\u001b[0;32m   1247\u001b[0m \u001b[1;33m\u001b[0m\u001b[0m\n\u001b[0;32m   1248\u001b[0m             \u001b[1;31m# We (temporarily) allow for some missing keys with .loc, except in\u001b[0m\u001b[1;33m\u001b[0m\u001b[1;33m\u001b[0m\u001b[1;33m\u001b[0m\u001b[0m\n",
      "\u001b[1;31mKeyError\u001b[0m: \"None of [Int64Index([1, 2], dtype='int64')] are in the [index]\""
     ],
     "ename": "KeyError",
     "evalue": "\"None of [Int64Index([1, 2], dtype='int64')] are in the [index]\"",
     "output_type": "error"
    }
   ],
   "source": [
    "student_performance_with_names.loc[[1,2],'gender']\n"
   ],
   "metadata": {
    "collapsed": false,
    "pycharm": {
     "name": "#%%\n",
     "is_executing": false
    }
   }
  },
  {
   "cell_type": "code",
   "execution_count": 96,
   "outputs": [
    {
     "data": {
      "text/plain": "Index(['gender', 'race/ethnicity', 'parental level of education', 'lunch',\n       'test preparation course', 'math score', 'reading score',\n       'writing score'],\n      dtype='object')"
     },
     "metadata": {},
     "output_type": "execute_result",
     "execution_count": 96
    }
   ],
   "source": [
    "student_performance_with_names.columns"
   ],
   "metadata": {
    "collapsed": false,
    "pycharm": {
     "name": "#%%\n",
     "is_executing": false
    }
   }
  },
  {
   "cell_type": "code",
   "execution_count": 99,
   "outputs": [
    {
     "data": {
      "text/plain": "40"
     },
     "metadata": {},
     "output_type": "execute_result",
     "execution_count": 99
    }
   ],
   "source": [
    "student_performance_with_names.size\n"
   ],
   "metadata": {
    "collapsed": false,
    "pycharm": {
     "name": "#%%\n",
     "is_executing": false
    }
   }
  },
  {
   "cell_type": "code",
   "execution_count": 100,
   "outputs": [
    {
     "data": {
      "text/plain": "(5, 8)"
     },
     "metadata": {},
     "output_type": "execute_result",
     "execution_count": 100
    }
   ],
   "source": [
    "student_performance_with_names.shape"
   ],
   "metadata": {
    "collapsed": false,
    "pycharm": {
     "name": "#%%\n",
     "is_executing": false
    }
   }
  },
  {
   "cell_type": "code",
   "execution_count": 101,
   "outputs": [
    {
     "data": {
      "text/plain": "     Unnamed: 0 attack_type   id  legs       localized_name  \\\n0             0       Melee    1     2            Anti-Mage   \n1             1       Melee    2     2                  Axe   \n2             2      Ranged    3     4                 Bane   \n3             3       Melee    4     2          Bloodseeker   \n4             4      Ranged    5     2       Crystal Maiden   \n5             5      Ranged    6     2          Drow Ranger   \n6             6       Melee    7     2          Earthshaker   \n7             7       Melee    8     2           Juggernaut   \n8             8      Ranged    9     2               Mirana   \n9             9      Ranged   10     0            Morphling   \n10           10      Ranged   11     0         Shadow Fiend   \n11           11       Melee   12     2       Phantom Lancer   \n12           12      Ranged   13     2                 Puck   \n13           13       Melee   14     2                Pudge   \n14           14      Ranged   15     0                Razor   \n15           15       Melee   16     6            Sand King   \n16           16      Ranged   17     2         Storm Spirit   \n17           17       Melee   18     2                 Sven   \n18           18       Melee   19     2                 Tiny   \n19           19      Ranged   20     2      Vengeful Spirit   \n20           20      Ranged   21     2           Windranger   \n21           21      Ranged   22     2                 Zeus   \n22           22       Melee   23     2               Kunkka   \n23           23      Ranged   25     2                 Lina   \n24           24      Ranged   26     2                 Lion   \n25           25      Ranged   27     2        Shadow Shaman   \n26           26       Melee   28     0              Slardar   \n27           27       Melee   29     2           Tidehunter   \n28           28      Ranged   30     2         Witch Doctor   \n29           29      Ranged   31     2                 Lich   \n..          ...         ...  ...   ...                  ...   \n87           87       Melee   89     0           Naga Siren   \n88           88      Ranged   90     2  Keeper of the Light   \n89           89      Ranged   91     0                   Io   \n90           90      Ranged   92     2               Visage   \n91           91       Melee   93     2                Slark   \n92           92      Ranged   94     0               Medusa   \n93           93      Ranged   95     2        Troll Warlord   \n94           94       Melee   96     4    Centaur Warrunner   \n95           95       Melee   97     4               Magnus   \n96           96       Melee   98     2            Timbersaw   \n97           97       Melee   99     2          Bristleback   \n98           98       Melee  100     2                 Tusk   \n99           99      Ranged  101     2        Skywrath Mage   \n100         100       Melee  102     2              Abaddon   \n101         101       Melee  103     2          Elder Titan   \n102         102       Melee  104     2     Legion Commander   \n103         103      Ranged  105     6              Techies   \n104         104       Melee  106     2         Ember Spirit   \n105         105       Melee  107     2         Earth Spirit   \n106         106       Melee  108     2            Underlord   \n107         107       Melee  109     2          Terrorblade   \n108         108      Ranged  110     2              Phoenix   \n109         109      Ranged  111     2               Oracle   \n110         110      Ranged  112     2        Winter Wyvern   \n111         111      Ranged  113     2           Arc Warden   \n112         112       Melee  114     2          Monkey King   \n113         113      Ranged  119     2          Dark Willow   \n114         114       Melee  120     2            Pangolier   \n115         115      Ranged  121     2           Grimstroke   \n116         116       Melee  129     2                 Mars   \n\n                                  name primary_attr  \\\n0               npc_dota_hero_antimage          agi   \n1                    npc_dota_hero_axe          str   \n2                   npc_dota_hero_bane          int   \n3            npc_dota_hero_bloodseeker          agi   \n4         npc_dota_hero_crystal_maiden          int   \n5            npc_dota_hero_drow_ranger          agi   \n6            npc_dota_hero_earthshaker          str   \n7             npc_dota_hero_juggernaut          agi   \n8                 npc_dota_hero_mirana          agi   \n9              npc_dota_hero_morphling          agi   \n10             npc_dota_hero_nevermore          agi   \n11        npc_dota_hero_phantom_lancer          agi   \n12                  npc_dota_hero_puck          int   \n13                 npc_dota_hero_pudge          str   \n14                 npc_dota_hero_razor          agi   \n15             npc_dota_hero_sand_king          str   \n16          npc_dota_hero_storm_spirit          int   \n17                  npc_dota_hero_sven          str   \n18                  npc_dota_hero_tiny          str   \n19        npc_dota_hero_vengefulspirit          agi   \n20            npc_dota_hero_windrunner          int   \n21                  npc_dota_hero_zuus          int   \n22                npc_dota_hero_kunkka          str   \n23                  npc_dota_hero_lina          int   \n24                  npc_dota_hero_lion          int   \n25         npc_dota_hero_shadow_shaman          int   \n26               npc_dota_hero_slardar          str   \n27            npc_dota_hero_tidehunter          str   \n28          npc_dota_hero_witch_doctor          int   \n29                  npc_dota_hero_lich          int   \n..                                 ...          ...   \n87            npc_dota_hero_naga_siren          agi   \n88   npc_dota_hero_keeper_of_the_light          int   \n89                  npc_dota_hero_wisp          str   \n90                npc_dota_hero_visage          int   \n91                 npc_dota_hero_slark          agi   \n92                npc_dota_hero_medusa          agi   \n93         npc_dota_hero_troll_warlord          agi   \n94               npc_dota_hero_centaur          str   \n95             npc_dota_hero_magnataur          str   \n96              npc_dota_hero_shredder          str   \n97           npc_dota_hero_bristleback          str   \n98                  npc_dota_hero_tusk          str   \n99         npc_dota_hero_skywrath_mage          int   \n100              npc_dota_hero_abaddon          str   \n101          npc_dota_hero_elder_titan          str   \n102     npc_dota_hero_legion_commander          str   \n103              npc_dota_hero_techies          int   \n104         npc_dota_hero_ember_spirit          agi   \n105         npc_dota_hero_earth_spirit          str   \n106    npc_dota_hero_abyssal_underlord          str   \n107          npc_dota_hero_terrorblade          agi   \n108              npc_dota_hero_phoenix          str   \n109               npc_dota_hero_oracle          int   \n110        npc_dota_hero_winter_wyvern          int   \n111           npc_dota_hero_arc_warden          agi   \n112          npc_dota_hero_monkey_king          agi   \n113          npc_dota_hero_dark_willow          int   \n114            npc_dota_hero_pangolier          agi   \n115           npc_dota_hero_grimstroke          int   \n116                 npc_dota_hero_mars          str   \n\n                                                 roles  \n0                         ['Carry', 'Escape', 'Nuker']  \n1      ['Initiator', 'Durable', 'Disabler', 'Jungler']  \n2          ['Support', 'Disabler', 'Nuker', 'Durable']  \n3    ['Carry', 'Disabler', 'Jungler', 'Nuker', 'Ini...  \n4          ['Support', 'Disabler', 'Nuker', 'Jungler']  \n5                      ['Carry', 'Disabler', 'Pusher']  \n6        ['Support', 'Initiator', 'Disabler', 'Nuker']  \n7                        ['Carry', 'Pusher', 'Escape']  \n8    ['Carry', 'Support', 'Escape', 'Nuker', 'Disab...  \n9    ['Carry', 'Escape', 'Durable', 'Nuker', 'Disab...  \n10                                  ['Carry', 'Nuker']  \n11              ['Carry', 'Escape', 'Pusher', 'Nuker']  \n12        ['Initiator', 'Disabler', 'Escape', 'Nuker']  \n13       ['Disabler', 'Initiator', 'Durable', 'Nuker']  \n14             ['Carry', 'Durable', 'Nuker', 'Pusher']  \n15   ['Initiator', 'Disabler', 'Support', 'Nuker', ...  \n16   ['Carry', 'Escape', 'Nuker', 'Initiator', 'Dis...  \n17   ['Carry', 'Disabler', 'Initiator', 'Durable', ...  \n18   ['Carry', 'Nuker', 'Pusher', 'Initiator', 'Dur...  \n19   ['Support', 'Initiator', 'Disabler', 'Nuker', ...  \n20   ['Carry', 'Support', 'Disabler', 'Escape', 'Nu...  \n21                                           ['Nuker']  \n22   ['Carry', 'Support', 'Disabler', 'Initiator', ...  \n23           ['Support', 'Carry', 'Nuker', 'Disabler']  \n24       ['Support', 'Disabler', 'Nuker', 'Initiator']  \n25   ['Support', 'Pusher', 'Disabler', 'Nuker', 'In...  \n26   ['Carry', 'Durable', 'Initiator', 'Disabler', ...  \n27       ['Initiator', 'Durable', 'Disabler', 'Nuker']  \n28                    ['Support', 'Nuker', 'Disabler']  \n29                                ['Support', 'Nuker']  \n..                                                 ...  \n87   ['Carry', 'Support', 'Pusher', 'Disabler', 'In...  \n88         ['Support', 'Nuker', 'Disabler', 'Jungler']  \n89                      ['Support', 'Escape', 'Nuker']  \n90   ['Support', 'Nuker', 'Durable', 'Disabler', 'P...  \n91            ['Carry', 'Escape', 'Disabler', 'Nuker']  \n92                    ['Carry', 'Disabler', 'Durable']  \n93          ['Carry', 'Pusher', 'Disabler', 'Durable']  \n94   ['Durable', 'Initiator', 'Disabler', 'Nuker', ...  \n95        ['Initiator', 'Disabler', 'Nuker', 'Escape']  \n96                      ['Nuker', 'Durable', 'Escape']  \n97          ['Carry', 'Durable', 'Initiator', 'Nuker']  \n98                  ['Initiator', 'Disabler', 'Nuker']  \n99                    ['Support', 'Nuker', 'Disabler']  \n100                    ['Support', 'Carry', 'Durable']  \n101      ['Initiator', 'Disabler', 'Nuker', 'Durable']  \n102  ['Carry', 'Disabler', 'Initiator', 'Durable', ...  \n103                              ['Nuker', 'Disabler']  \n104  ['Carry', 'Escape', 'Nuker', 'Disabler', 'Init...  \n105  ['Nuker', 'Escape', 'Disabler', 'Initiator', '...  \n106  ['Support', 'Nuker', 'Disabler', 'Durable', 'E...  \n107                       ['Carry', 'Pusher', 'Nuker']  \n108  ['Support', 'Nuker', 'Initiator', 'Escape', 'D...  \n109         ['Support', 'Nuker', 'Disabler', 'Escape']  \n110                   ['Support', 'Disabler', 'Nuker']  \n111                       ['Carry', 'Escape', 'Nuker']  \n112       ['Carry', 'Escape', 'Disabler', 'Initiator']  \n113         ['Support', 'Nuker', 'Disabler', 'Escape']  \n114  ['Carry', 'Nuker', 'Disabler', 'Durable', 'Esc...  \n115         ['Support', 'Nuker', 'Disabler', 'Escape']  \n116      ['Carry', 'Initiator', 'Disabler', 'Durable']  \n\n[117 rows x 8 columns]",
      "text/html": "<div>\n<style scoped>\n    .dataframe tbody tr th:only-of-type {\n        vertical-align: middle;\n    }\n\n    .dataframe tbody tr th {\n        vertical-align: top;\n    }\n\n    .dataframe thead th {\n        text-align: right;\n    }\n</style>\n<table border=\"1\" class=\"dataframe\">\n  <thead>\n    <tr style=\"text-align: right;\">\n      <th></th>\n      <th>Unnamed: 0</th>\n      <th>attack_type</th>\n      <th>id</th>\n      <th>legs</th>\n      <th>localized_name</th>\n      <th>name</th>\n      <th>primary_attr</th>\n      <th>roles</th>\n    </tr>\n  </thead>\n  <tbody>\n    <tr>\n      <th>0</th>\n      <td>0</td>\n      <td>Melee</td>\n      <td>1</td>\n      <td>2</td>\n      <td>Anti-Mage</td>\n      <td>npc_dota_hero_antimage</td>\n      <td>agi</td>\n      <td>['Carry', 'Escape', 'Nuker']</td>\n    </tr>\n    <tr>\n      <th>1</th>\n      <td>1</td>\n      <td>Melee</td>\n      <td>2</td>\n      <td>2</td>\n      <td>Axe</td>\n      <td>npc_dota_hero_axe</td>\n      <td>str</td>\n      <td>['Initiator', 'Durable', 'Disabler', 'Jungler']</td>\n    </tr>\n    <tr>\n      <th>2</th>\n      <td>2</td>\n      <td>Ranged</td>\n      <td>3</td>\n      <td>4</td>\n      <td>Bane</td>\n      <td>npc_dota_hero_bane</td>\n      <td>int</td>\n      <td>['Support', 'Disabler', 'Nuker', 'Durable']</td>\n    </tr>\n    <tr>\n      <th>3</th>\n      <td>3</td>\n      <td>Melee</td>\n      <td>4</td>\n      <td>2</td>\n      <td>Bloodseeker</td>\n      <td>npc_dota_hero_bloodseeker</td>\n      <td>agi</td>\n      <td>['Carry', 'Disabler', 'Jungler', 'Nuker', 'Ini...</td>\n    </tr>\n    <tr>\n      <th>4</th>\n      <td>4</td>\n      <td>Ranged</td>\n      <td>5</td>\n      <td>2</td>\n      <td>Crystal Maiden</td>\n      <td>npc_dota_hero_crystal_maiden</td>\n      <td>int</td>\n      <td>['Support', 'Disabler', 'Nuker', 'Jungler']</td>\n    </tr>\n    <tr>\n      <th>5</th>\n      <td>5</td>\n      <td>Ranged</td>\n      <td>6</td>\n      <td>2</td>\n      <td>Drow Ranger</td>\n      <td>npc_dota_hero_drow_ranger</td>\n      <td>agi</td>\n      <td>['Carry', 'Disabler', 'Pusher']</td>\n    </tr>\n    <tr>\n      <th>6</th>\n      <td>6</td>\n      <td>Melee</td>\n      <td>7</td>\n      <td>2</td>\n      <td>Earthshaker</td>\n      <td>npc_dota_hero_earthshaker</td>\n      <td>str</td>\n      <td>['Support', 'Initiator', 'Disabler', 'Nuker']</td>\n    </tr>\n    <tr>\n      <th>7</th>\n      <td>7</td>\n      <td>Melee</td>\n      <td>8</td>\n      <td>2</td>\n      <td>Juggernaut</td>\n      <td>npc_dota_hero_juggernaut</td>\n      <td>agi</td>\n      <td>['Carry', 'Pusher', 'Escape']</td>\n    </tr>\n    <tr>\n      <th>8</th>\n      <td>8</td>\n      <td>Ranged</td>\n      <td>9</td>\n      <td>2</td>\n      <td>Mirana</td>\n      <td>npc_dota_hero_mirana</td>\n      <td>agi</td>\n      <td>['Carry', 'Support', 'Escape', 'Nuker', 'Disab...</td>\n    </tr>\n    <tr>\n      <th>9</th>\n      <td>9</td>\n      <td>Ranged</td>\n      <td>10</td>\n      <td>0</td>\n      <td>Morphling</td>\n      <td>npc_dota_hero_morphling</td>\n      <td>agi</td>\n      <td>['Carry', 'Escape', 'Durable', 'Nuker', 'Disab...</td>\n    </tr>\n    <tr>\n      <th>10</th>\n      <td>10</td>\n      <td>Ranged</td>\n      <td>11</td>\n      <td>0</td>\n      <td>Shadow Fiend</td>\n      <td>npc_dota_hero_nevermore</td>\n      <td>agi</td>\n      <td>['Carry', 'Nuker']</td>\n    </tr>\n    <tr>\n      <th>11</th>\n      <td>11</td>\n      <td>Melee</td>\n      <td>12</td>\n      <td>2</td>\n      <td>Phantom Lancer</td>\n      <td>npc_dota_hero_phantom_lancer</td>\n      <td>agi</td>\n      <td>['Carry', 'Escape', 'Pusher', 'Nuker']</td>\n    </tr>\n    <tr>\n      <th>12</th>\n      <td>12</td>\n      <td>Ranged</td>\n      <td>13</td>\n      <td>2</td>\n      <td>Puck</td>\n      <td>npc_dota_hero_puck</td>\n      <td>int</td>\n      <td>['Initiator', 'Disabler', 'Escape', 'Nuker']</td>\n    </tr>\n    <tr>\n      <th>13</th>\n      <td>13</td>\n      <td>Melee</td>\n      <td>14</td>\n      <td>2</td>\n      <td>Pudge</td>\n      <td>npc_dota_hero_pudge</td>\n      <td>str</td>\n      <td>['Disabler', 'Initiator', 'Durable', 'Nuker']</td>\n    </tr>\n    <tr>\n      <th>14</th>\n      <td>14</td>\n      <td>Ranged</td>\n      <td>15</td>\n      <td>0</td>\n      <td>Razor</td>\n      <td>npc_dota_hero_razor</td>\n      <td>agi</td>\n      <td>['Carry', 'Durable', 'Nuker', 'Pusher']</td>\n    </tr>\n    <tr>\n      <th>15</th>\n      <td>15</td>\n      <td>Melee</td>\n      <td>16</td>\n      <td>6</td>\n      <td>Sand King</td>\n      <td>npc_dota_hero_sand_king</td>\n      <td>str</td>\n      <td>['Initiator', 'Disabler', 'Support', 'Nuker', ...</td>\n    </tr>\n    <tr>\n      <th>16</th>\n      <td>16</td>\n      <td>Ranged</td>\n      <td>17</td>\n      <td>2</td>\n      <td>Storm Spirit</td>\n      <td>npc_dota_hero_storm_spirit</td>\n      <td>int</td>\n      <td>['Carry', 'Escape', 'Nuker', 'Initiator', 'Dis...</td>\n    </tr>\n    <tr>\n      <th>17</th>\n      <td>17</td>\n      <td>Melee</td>\n      <td>18</td>\n      <td>2</td>\n      <td>Sven</td>\n      <td>npc_dota_hero_sven</td>\n      <td>str</td>\n      <td>['Carry', 'Disabler', 'Initiator', 'Durable', ...</td>\n    </tr>\n    <tr>\n      <th>18</th>\n      <td>18</td>\n      <td>Melee</td>\n      <td>19</td>\n      <td>2</td>\n      <td>Tiny</td>\n      <td>npc_dota_hero_tiny</td>\n      <td>str</td>\n      <td>['Carry', 'Nuker', 'Pusher', 'Initiator', 'Dur...</td>\n    </tr>\n    <tr>\n      <th>19</th>\n      <td>19</td>\n      <td>Ranged</td>\n      <td>20</td>\n      <td>2</td>\n      <td>Vengeful Spirit</td>\n      <td>npc_dota_hero_vengefulspirit</td>\n      <td>agi</td>\n      <td>['Support', 'Initiator', 'Disabler', 'Nuker', ...</td>\n    </tr>\n    <tr>\n      <th>20</th>\n      <td>20</td>\n      <td>Ranged</td>\n      <td>21</td>\n      <td>2</td>\n      <td>Windranger</td>\n      <td>npc_dota_hero_windrunner</td>\n      <td>int</td>\n      <td>['Carry', 'Support', 'Disabler', 'Escape', 'Nu...</td>\n    </tr>\n    <tr>\n      <th>21</th>\n      <td>21</td>\n      <td>Ranged</td>\n      <td>22</td>\n      <td>2</td>\n      <td>Zeus</td>\n      <td>npc_dota_hero_zuus</td>\n      <td>int</td>\n      <td>['Nuker']</td>\n    </tr>\n    <tr>\n      <th>22</th>\n      <td>22</td>\n      <td>Melee</td>\n      <td>23</td>\n      <td>2</td>\n      <td>Kunkka</td>\n      <td>npc_dota_hero_kunkka</td>\n      <td>str</td>\n      <td>['Carry', 'Support', 'Disabler', 'Initiator', ...</td>\n    </tr>\n    <tr>\n      <th>23</th>\n      <td>23</td>\n      <td>Ranged</td>\n      <td>25</td>\n      <td>2</td>\n      <td>Lina</td>\n      <td>npc_dota_hero_lina</td>\n      <td>int</td>\n      <td>['Support', 'Carry', 'Nuker', 'Disabler']</td>\n    </tr>\n    <tr>\n      <th>24</th>\n      <td>24</td>\n      <td>Ranged</td>\n      <td>26</td>\n      <td>2</td>\n      <td>Lion</td>\n      <td>npc_dota_hero_lion</td>\n      <td>int</td>\n      <td>['Support', 'Disabler', 'Nuker', 'Initiator']</td>\n    </tr>\n    <tr>\n      <th>25</th>\n      <td>25</td>\n      <td>Ranged</td>\n      <td>27</td>\n      <td>2</td>\n      <td>Shadow Shaman</td>\n      <td>npc_dota_hero_shadow_shaman</td>\n      <td>int</td>\n      <td>['Support', 'Pusher', 'Disabler', 'Nuker', 'In...</td>\n    </tr>\n    <tr>\n      <th>26</th>\n      <td>26</td>\n      <td>Melee</td>\n      <td>28</td>\n      <td>0</td>\n      <td>Slardar</td>\n      <td>npc_dota_hero_slardar</td>\n      <td>str</td>\n      <td>['Carry', 'Durable', 'Initiator', 'Disabler', ...</td>\n    </tr>\n    <tr>\n      <th>27</th>\n      <td>27</td>\n      <td>Melee</td>\n      <td>29</td>\n      <td>2</td>\n      <td>Tidehunter</td>\n      <td>npc_dota_hero_tidehunter</td>\n      <td>str</td>\n      <td>['Initiator', 'Durable', 'Disabler', 'Nuker']</td>\n    </tr>\n    <tr>\n      <th>28</th>\n      <td>28</td>\n      <td>Ranged</td>\n      <td>30</td>\n      <td>2</td>\n      <td>Witch Doctor</td>\n      <td>npc_dota_hero_witch_doctor</td>\n      <td>int</td>\n      <td>['Support', 'Nuker', 'Disabler']</td>\n    </tr>\n    <tr>\n      <th>29</th>\n      <td>29</td>\n      <td>Ranged</td>\n      <td>31</td>\n      <td>2</td>\n      <td>Lich</td>\n      <td>npc_dota_hero_lich</td>\n      <td>int</td>\n      <td>['Support', 'Nuker']</td>\n    </tr>\n    <tr>\n      <th>...</th>\n      <td>...</td>\n      <td>...</td>\n      <td>...</td>\n      <td>...</td>\n      <td>...</td>\n      <td>...</td>\n      <td>...</td>\n      <td>...</td>\n    </tr>\n    <tr>\n      <th>87</th>\n      <td>87</td>\n      <td>Melee</td>\n      <td>89</td>\n      <td>0</td>\n      <td>Naga Siren</td>\n      <td>npc_dota_hero_naga_siren</td>\n      <td>agi</td>\n      <td>['Carry', 'Support', 'Pusher', 'Disabler', 'In...</td>\n    </tr>\n    <tr>\n      <th>88</th>\n      <td>88</td>\n      <td>Ranged</td>\n      <td>90</td>\n      <td>2</td>\n      <td>Keeper of the Light</td>\n      <td>npc_dota_hero_keeper_of_the_light</td>\n      <td>int</td>\n      <td>['Support', 'Nuker', 'Disabler', 'Jungler']</td>\n    </tr>\n    <tr>\n      <th>89</th>\n      <td>89</td>\n      <td>Ranged</td>\n      <td>91</td>\n      <td>0</td>\n      <td>Io</td>\n      <td>npc_dota_hero_wisp</td>\n      <td>str</td>\n      <td>['Support', 'Escape', 'Nuker']</td>\n    </tr>\n    <tr>\n      <th>90</th>\n      <td>90</td>\n      <td>Ranged</td>\n      <td>92</td>\n      <td>2</td>\n      <td>Visage</td>\n      <td>npc_dota_hero_visage</td>\n      <td>int</td>\n      <td>['Support', 'Nuker', 'Durable', 'Disabler', 'P...</td>\n    </tr>\n    <tr>\n      <th>91</th>\n      <td>91</td>\n      <td>Melee</td>\n      <td>93</td>\n      <td>2</td>\n      <td>Slark</td>\n      <td>npc_dota_hero_slark</td>\n      <td>agi</td>\n      <td>['Carry', 'Escape', 'Disabler', 'Nuker']</td>\n    </tr>\n    <tr>\n      <th>92</th>\n      <td>92</td>\n      <td>Ranged</td>\n      <td>94</td>\n      <td>0</td>\n      <td>Medusa</td>\n      <td>npc_dota_hero_medusa</td>\n      <td>agi</td>\n      <td>['Carry', 'Disabler', 'Durable']</td>\n    </tr>\n    <tr>\n      <th>93</th>\n      <td>93</td>\n      <td>Ranged</td>\n      <td>95</td>\n      <td>2</td>\n      <td>Troll Warlord</td>\n      <td>npc_dota_hero_troll_warlord</td>\n      <td>agi</td>\n      <td>['Carry', 'Pusher', 'Disabler', 'Durable']</td>\n    </tr>\n    <tr>\n      <th>94</th>\n      <td>94</td>\n      <td>Melee</td>\n      <td>96</td>\n      <td>4</td>\n      <td>Centaur Warrunner</td>\n      <td>npc_dota_hero_centaur</td>\n      <td>str</td>\n      <td>['Durable', 'Initiator', 'Disabler', 'Nuker', ...</td>\n    </tr>\n    <tr>\n      <th>95</th>\n      <td>95</td>\n      <td>Melee</td>\n      <td>97</td>\n      <td>4</td>\n      <td>Magnus</td>\n      <td>npc_dota_hero_magnataur</td>\n      <td>str</td>\n      <td>['Initiator', 'Disabler', 'Nuker', 'Escape']</td>\n    </tr>\n    <tr>\n      <th>96</th>\n      <td>96</td>\n      <td>Melee</td>\n      <td>98</td>\n      <td>2</td>\n      <td>Timbersaw</td>\n      <td>npc_dota_hero_shredder</td>\n      <td>str</td>\n      <td>['Nuker', 'Durable', 'Escape']</td>\n    </tr>\n    <tr>\n      <th>97</th>\n      <td>97</td>\n      <td>Melee</td>\n      <td>99</td>\n      <td>2</td>\n      <td>Bristleback</td>\n      <td>npc_dota_hero_bristleback</td>\n      <td>str</td>\n      <td>['Carry', 'Durable', 'Initiator', 'Nuker']</td>\n    </tr>\n    <tr>\n      <th>98</th>\n      <td>98</td>\n      <td>Melee</td>\n      <td>100</td>\n      <td>2</td>\n      <td>Tusk</td>\n      <td>npc_dota_hero_tusk</td>\n      <td>str</td>\n      <td>['Initiator', 'Disabler', 'Nuker']</td>\n    </tr>\n    <tr>\n      <th>99</th>\n      <td>99</td>\n      <td>Ranged</td>\n      <td>101</td>\n      <td>2</td>\n      <td>Skywrath Mage</td>\n      <td>npc_dota_hero_skywrath_mage</td>\n      <td>int</td>\n      <td>['Support', 'Nuker', 'Disabler']</td>\n    </tr>\n    <tr>\n      <th>100</th>\n      <td>100</td>\n      <td>Melee</td>\n      <td>102</td>\n      <td>2</td>\n      <td>Abaddon</td>\n      <td>npc_dota_hero_abaddon</td>\n      <td>str</td>\n      <td>['Support', 'Carry', 'Durable']</td>\n    </tr>\n    <tr>\n      <th>101</th>\n      <td>101</td>\n      <td>Melee</td>\n      <td>103</td>\n      <td>2</td>\n      <td>Elder Titan</td>\n      <td>npc_dota_hero_elder_titan</td>\n      <td>str</td>\n      <td>['Initiator', 'Disabler', 'Nuker', 'Durable']</td>\n    </tr>\n    <tr>\n      <th>102</th>\n      <td>102</td>\n      <td>Melee</td>\n      <td>104</td>\n      <td>2</td>\n      <td>Legion Commander</td>\n      <td>npc_dota_hero_legion_commander</td>\n      <td>str</td>\n      <td>['Carry', 'Disabler', 'Initiator', 'Durable', ...</td>\n    </tr>\n    <tr>\n      <th>103</th>\n      <td>103</td>\n      <td>Ranged</td>\n      <td>105</td>\n      <td>6</td>\n      <td>Techies</td>\n      <td>npc_dota_hero_techies</td>\n      <td>int</td>\n      <td>['Nuker', 'Disabler']</td>\n    </tr>\n    <tr>\n      <th>104</th>\n      <td>104</td>\n      <td>Melee</td>\n      <td>106</td>\n      <td>2</td>\n      <td>Ember Spirit</td>\n      <td>npc_dota_hero_ember_spirit</td>\n      <td>agi</td>\n      <td>['Carry', 'Escape', 'Nuker', 'Disabler', 'Init...</td>\n    </tr>\n    <tr>\n      <th>105</th>\n      <td>105</td>\n      <td>Melee</td>\n      <td>107</td>\n      <td>2</td>\n      <td>Earth Spirit</td>\n      <td>npc_dota_hero_earth_spirit</td>\n      <td>str</td>\n      <td>['Nuker', 'Escape', 'Disabler', 'Initiator', '...</td>\n    </tr>\n    <tr>\n      <th>106</th>\n      <td>106</td>\n      <td>Melee</td>\n      <td>108</td>\n      <td>2</td>\n      <td>Underlord</td>\n      <td>npc_dota_hero_abyssal_underlord</td>\n      <td>str</td>\n      <td>['Support', 'Nuker', 'Disabler', 'Durable', 'E...</td>\n    </tr>\n    <tr>\n      <th>107</th>\n      <td>107</td>\n      <td>Melee</td>\n      <td>109</td>\n      <td>2</td>\n      <td>Terrorblade</td>\n      <td>npc_dota_hero_terrorblade</td>\n      <td>agi</td>\n      <td>['Carry', 'Pusher', 'Nuker']</td>\n    </tr>\n    <tr>\n      <th>108</th>\n      <td>108</td>\n      <td>Ranged</td>\n      <td>110</td>\n      <td>2</td>\n      <td>Phoenix</td>\n      <td>npc_dota_hero_phoenix</td>\n      <td>str</td>\n      <td>['Support', 'Nuker', 'Initiator', 'Escape', 'D...</td>\n    </tr>\n    <tr>\n      <th>109</th>\n      <td>109</td>\n      <td>Ranged</td>\n      <td>111</td>\n      <td>2</td>\n      <td>Oracle</td>\n      <td>npc_dota_hero_oracle</td>\n      <td>int</td>\n      <td>['Support', 'Nuker', 'Disabler', 'Escape']</td>\n    </tr>\n    <tr>\n      <th>110</th>\n      <td>110</td>\n      <td>Ranged</td>\n      <td>112</td>\n      <td>2</td>\n      <td>Winter Wyvern</td>\n      <td>npc_dota_hero_winter_wyvern</td>\n      <td>int</td>\n      <td>['Support', 'Disabler', 'Nuker']</td>\n    </tr>\n    <tr>\n      <th>111</th>\n      <td>111</td>\n      <td>Ranged</td>\n      <td>113</td>\n      <td>2</td>\n      <td>Arc Warden</td>\n      <td>npc_dota_hero_arc_warden</td>\n      <td>agi</td>\n      <td>['Carry', 'Escape', 'Nuker']</td>\n    </tr>\n    <tr>\n      <th>112</th>\n      <td>112</td>\n      <td>Melee</td>\n      <td>114</td>\n      <td>2</td>\n      <td>Monkey King</td>\n      <td>npc_dota_hero_monkey_king</td>\n      <td>agi</td>\n      <td>['Carry', 'Escape', 'Disabler', 'Initiator']</td>\n    </tr>\n    <tr>\n      <th>113</th>\n      <td>113</td>\n      <td>Ranged</td>\n      <td>119</td>\n      <td>2</td>\n      <td>Dark Willow</td>\n      <td>npc_dota_hero_dark_willow</td>\n      <td>int</td>\n      <td>['Support', 'Nuker', 'Disabler', 'Escape']</td>\n    </tr>\n    <tr>\n      <th>114</th>\n      <td>114</td>\n      <td>Melee</td>\n      <td>120</td>\n      <td>2</td>\n      <td>Pangolier</td>\n      <td>npc_dota_hero_pangolier</td>\n      <td>agi</td>\n      <td>['Carry', 'Nuker', 'Disabler', 'Durable', 'Esc...</td>\n    </tr>\n    <tr>\n      <th>115</th>\n      <td>115</td>\n      <td>Ranged</td>\n      <td>121</td>\n      <td>2</td>\n      <td>Grimstroke</td>\n      <td>npc_dota_hero_grimstroke</td>\n      <td>int</td>\n      <td>['Support', 'Nuker', 'Disabler', 'Escape']</td>\n    </tr>\n    <tr>\n      <th>116</th>\n      <td>116</td>\n      <td>Melee</td>\n      <td>129</td>\n      <td>2</td>\n      <td>Mars</td>\n      <td>npc_dota_hero_mars</td>\n      <td>str</td>\n      <td>['Carry', 'Initiator', 'Disabler', 'Durable']</td>\n    </tr>\n  </tbody>\n</table>\n<p>117 rows × 8 columns</p>\n</div>"
     },
     "metadata": {},
     "output_type": "execute_result",
     "execution_count": 101
    }
   ],
   "source": [
    "dota = pd.read_csv('dota_hero_stats.csv')\n",
    "dota"
   ],
   "metadata": {
    "collapsed": false,
    "pycharm": {
     "name": "#%%\n",
     "is_executing": false
    }
   }
  },
  {
   "cell_type": "code",
   "execution_count": 119,
   "outputs": [
    {
     "data": {
      "text/plain": "<bound method NDFrame.describe of 0      2\n1      2\n3      2\n4      2\n5      2\n6      2\n7      2\n8      2\n11     2\n12     2\n13     2\n16     2\n17     2\n18     2\n19     2\n20     2\n21     2\n22     2\n23     2\n24     2\n25     2\n27     2\n28     2\n29     2\n30     2\n32     2\n33     2\n34     2\n35     2\n36     2\n      ..\n80     2\n81     2\n82     2\n83     2\n84     2\n85     2\n88     2\n90     2\n91     2\n93     2\n96     2\n97     2\n98     2\n99     2\n100    2\n101    2\n102    2\n104    2\n105    2\n106    2\n107    2\n108    2\n109    2\n110    2\n111    2\n112    2\n113    2\n114    2\n115    2\n116    2\nName: legs, Length: 95, dtype: int64>"
     },
     "metadata": {},
     "output_type": "execute_result",
     "execution_count": 119
    }
   ],
   "source": [
    "dota.loc[dota.legs==2,'legs'].describe"
   ],
   "metadata": {
    "collapsed": false,
    "pycharm": {
     "name": "#%%\n",
     "is_executing": false
    }
   }
  },
  {
   "cell_type": "code",
   "execution_count": 122,
   "outputs": [
    {
     "traceback": [
      "\u001b[1;31m---------------------------------------------------------------------------\u001b[0m",
      "\u001b[1;31mAttributeError\u001b[0m                            Traceback (most recent call last)",
      "\u001b[1;32m<ipython-input-122-44d8edb47476>\u001b[0m in \u001b[0;36m<module>\u001b[1;34m\u001b[0m\n\u001b[0;32m      1\u001b[0m \u001b[1;33m\u001b[0m\u001b[0m\n\u001b[1;32m----> 2\u001b[1;33m \u001b[0mstudent_performance\u001b[0m\u001b[1;33m.\u001b[0m\u001b[0mgroupby\u001b[0m\u001b[1;33m(\u001b[0m\u001b[1;33m[\u001b[0m\u001b[1;34m'gender'\u001b[0m\u001b[1;33m,\u001b[0m \u001b[1;34m'race/ethnicity'\u001b[0m\u001b[1;33m]\u001b[0m\u001b[1;33m)\u001b[0m\u001b[1;33m.\u001b[0m\u001b[0mmath_score\u001b[0m\u001b[1;33m\u001b[0m\u001b[1;33m\u001b[0m\u001b[0m\n\u001b[0m\u001b[0;32m      3\u001b[0m \u001b[1;33m\u001b[0m\u001b[0m\n\u001b[0;32m      4\u001b[0m \u001b[1;33m\u001b[0m\u001b[0m\n",
      "\u001b[1;32m~\\Annaconda3\\lib\\site-packages\\pandas\\core\\groupby\\groupby.py\u001b[0m in \u001b[0;36m__getattr__\u001b[1;34m(self, attr)\u001b[0m\n\u001b[0;32m    534\u001b[0m \u001b[1;33m\u001b[0m\u001b[0m\n\u001b[0;32m    535\u001b[0m         raise AttributeError(\"%r object has no attribute %r\" %\n\u001b[1;32m--> 536\u001b[1;33m                              (type(self).__name__, attr))\n\u001b[0m\u001b[0;32m    537\u001b[0m \u001b[1;33m\u001b[0m\u001b[0m\n\u001b[0;32m    538\u001b[0m     @Substitution(klass='GroupBy',\n",
      "\u001b[1;31mAttributeError\u001b[0m: 'DataFrameGroupBy' object has no attribute 'math_score'"
     ],
     "ename": "AttributeError",
     "evalue": "'DataFrameGroupBy' object has no attribute 'math_score'",
     "output_type": "error"
    }
   ],
   "source": [
    "student_performance.groupby(['gender', 'race/ethnicity']).math_score\n"
   ],
   "metadata": {
    "collapsed": false,
    "pycharm": {
     "name": "#%%\n",
     "is_executing": false
    }
   }
  },
  {
   "cell_type": "code",
   "execution_count": 125,
   "outputs": [
    {
     "data": {
      "text/plain": "   gender math score\n                mean\n0  female  63.633205\n1    male  68.728216",
      "text/html": "<div>\n<style scoped>\n    .dataframe tbody tr th:only-of-type {\n        vertical-align: middle;\n    }\n\n    .dataframe tbody tr th {\n        vertical-align: top;\n    }\n\n    .dataframe thead tr th {\n        text-align: left;\n    }\n</style>\n<table border=\"1\" class=\"dataframe\">\n  <thead>\n    <tr>\n      <th></th>\n      <th>gender</th>\n      <th>math score</th>\n    </tr>\n    <tr>\n      <th></th>\n      <th></th>\n      <th>mean</th>\n    </tr>\n  </thead>\n  <tbody>\n    <tr>\n      <th>0</th>\n      <td>female</td>\n      <td>63.633205</td>\n    </tr>\n    <tr>\n      <th>1</th>\n      <td>male</td>\n      <td>68.728216</td>\n    </tr>\n  </tbody>\n</table>\n</div>"
     },
     "metadata": {},
     "output_type": "execute_result",
     "execution_count": 125
    }
   ],
   "source": [
    "student_performance.groupby('gender', as_index=False).aggregate({'math score': ['mean']})\n"
   ],
   "metadata": {
    "collapsed": false,
    "pycharm": {
     "name": "#%%\n",
     "is_executing": false
    }
   }
  },
  {
   "cell_type": "code",
   "execution_count": 127,
   "outputs": [],
   "source": [
    "zp = pd.read_csv('https://stepik.org/media/attachments/course/4852/accountancy.csv', index_col=0)\n"
   ],
   "metadata": {
    "collapsed": false,
    "pycharm": {
     "name": "#%%\n",
     "is_executing": false
    }
   }
  },
  {
   "cell_type": "code",
   "execution_count": 129,
   "outputs": [
    {
     "data": {
      "text/plain": "Type               A           B           C           D      E       F\nExecutor                                                               \nLoopa      58.000000  145.166667  154.333333  137.714286  164.0  238.00\nPupa      160.833333   77.000000   74.500000  146.500000  131.2  136.25",
      "text/html": "<div>\n<style scoped>\n    .dataframe tbody tr th:only-of-type {\n        vertical-align: middle;\n    }\n\n    .dataframe tbody tr th {\n        vertical-align: top;\n    }\n\n    .dataframe thead th {\n        text-align: right;\n    }\n</style>\n<table border=\"1\" class=\"dataframe\">\n  <thead>\n    <tr style=\"text-align: right;\">\n      <th>Type</th>\n      <th>A</th>\n      <th>B</th>\n      <th>C</th>\n      <th>D</th>\n      <th>E</th>\n      <th>F</th>\n    </tr>\n    <tr>\n      <th>Executor</th>\n      <th></th>\n      <th></th>\n      <th></th>\n      <th></th>\n      <th></th>\n      <th></th>\n    </tr>\n  </thead>\n  <tbody>\n    <tr>\n      <th>Loopa</th>\n      <td>58.000000</td>\n      <td>145.166667</td>\n      <td>154.333333</td>\n      <td>137.714286</td>\n      <td>164.0</td>\n      <td>238.00</td>\n    </tr>\n    <tr>\n      <th>Pupa</th>\n      <td>160.833333</td>\n      <td>77.000000</td>\n      <td>74.500000</td>\n      <td>146.500000</td>\n      <td>131.2</td>\n      <td>136.25</td>\n    </tr>\n  </tbody>\n</table>\n</div>"
     },
     "metadata": {},
     "output_type": "execute_result",
     "execution_count": 129
    }
   ],
   "source": [
    "zp.pivot_table(index='Executor',values='Salary',columns='Type',aggfunc='mean').sort_index()\n",
    "\n"
   ],
   "metadata": {
    "collapsed": false,
    "pycharm": {
     "name": "#%%\n",
     "is_executing": false
    }
   }
  }
 ]
}